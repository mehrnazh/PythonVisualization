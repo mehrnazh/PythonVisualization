{
  "nbformat": 4,
  "nbformat_minor": 0,
  "metadata": {
    "colab": {
      "provenance": [],
      "toc_visible": true,
      "authorship_tag": "ABX9TyOWb0kwQ4eITBtwAjr5J7vP",
      "include_colab_link": true
    },
    "kernelspec": {
      "name": "python3",
      "display_name": "Python 3"
    },
    "language_info": {
      "name": "python"
    }
  },
  "cells": [
    {
      "cell_type": "markdown",
      "metadata": {
        "id": "view-in-github",
        "colab_type": "text"
      },
      "source": [
        "<a href=\"https://colab.research.google.com/github/mehrnazh/PythonVisualization/blob/main/Review_of_Day_one.ipynb\" target=\"_parent\"><img src=\"https://colab.research.google.com/assets/colab-badge.svg\" alt=\"Open In Colab\"/></a>"
      ]
    },
    {
      "cell_type": "markdown",
      "source": [
        "\n",
        "\n",
        "---\n",
        "\n",
        "### Python Lists\n",
        "\n",
        "A **list** is a built-in Python data type that represents an ordered collection of items, which can be of any type. Lists are mutable, meaning their elements can be changed after the list is created.\n",
        "\n",
        "---\n",
        "\n",
        "### Think!\n",
        "\n",
        "1. **What is a Python list?**\n",
        "   - Can you describe what a list is and why it might be useful in programming?\n",
        "   - How does a list differ from other data types like strings or integers?\n",
        "\n",
        "2. **How do you create a list in Python?**\n",
        "   - What syntax do you use to create a list?\n",
        "   - Can you create a list that contains different data types, such as integers, strings, and floats?\n",
        "\n",
        "3. **How do you access elements in a list?**\n",
        "   - How would you access the first element in a list? How about the last element?\n",
        "   - What happens if you try to access an index that is out of range?\n",
        "\n",
        "4. **How do you modify elements in a list?**\n",
        "   - How would you change the value of an element at a specific index?\n",
        "   - How can you add new elements to a list?\n",
        "\n",
        "5. **What are some common list methods?**\n",
        "   - What methods can you use to add or remove elements from a list?\n",
        "   - How would you sort a list or find the length of a list?\n",
        "\n",
        "6. **What are some use cases for lists?**\n",
        "   - When might you choose to use a list over other data types like tuples or dictionaries?\n",
        "\n",
        "---\n",
        "\n",
        "### Experimentation\n",
        "\n",
        "#### **1. Creating Lists**\n",
        "\n",
        "- **Create a list of numbers from 1 to 5.**\n",
        ""
      ],
      "metadata": {
        "id": "y8aMQnNcMXMP"
      }
    },
    {
      "cell_type": "code",
      "source": [
        "#uncomment the codes below and fill the code with right syntax\n",
        "\n",
        "# numbers =\n",
        "# print(numbers)"
      ],
      "metadata": {
        "id": "AAMlpJyMMvVw"
      },
      "execution_count": null,
      "outputs": []
    },
    {
      "cell_type": "markdown",
      "source": [
        "- **Create a list containing different data types: a string, an integer, and a float.**"
      ],
      "metadata": {
        "id": "N41FcDBXNAXr"
      }
    },
    {
      "cell_type": "code",
      "source": [
        "# mixed_list =\n",
        "# print(mixed_list)"
      ],
      "metadata": {
        "id": "UxglpwHXNFez"
      },
      "execution_count": null,
      "outputs": []
    },
    {
      "cell_type": "markdown",
      "source": [
        "#### **2. Accessing Elements**\n",
        "\n",
        "- **Access the first and last elements of the `numbers` list.**"
      ],
      "metadata": {
        "id": "eB-CQqTtNTKO"
      }
    },
    {
      "cell_type": "code",
      "source": [
        "  # first_element =\n",
        "  # last_element =\n",
        "  # print(\"First:\", first_element, \"Last:\", last_element)"
      ],
      "metadata": {
        "id": "iVWMXVciNT_N"
      },
      "execution_count": null,
      "outputs": []
    },
    {
      "cell_type": "markdown",
      "source": [
        "\n",
        "- **What happens if you try to access an index that doesn't exist?**"
      ],
      "metadata": {
        "id": "9UIFw0AWNlSN"
      }
    },
    {
      "cell_type": "code",
      "source": [
        "out_of_range = numbers[10]"
      ],
      "metadata": {
        "colab": {
          "base_uri": "https://localhost:8080/",
          "height": 146
        },
        "id": "WSxcMI1UNoCZ",
        "outputId": "6d8d3e07-610b-4449-da1a-b603429f0c60"
      },
      "execution_count": 2,
      "outputs": [
        {
          "output_type": "error",
          "ename": "IndexError",
          "evalue": "list index out of range",
          "traceback": [
            "\u001b[0;31m---------------------------------------------------------------------------\u001b[0m",
            "\u001b[0;31mIndexError\u001b[0m                                Traceback (most recent call last)",
            "\u001b[0;32m<ipython-input-2-bf241e515015>\u001b[0m in \u001b[0;36m<cell line: 1>\u001b[0;34m()\u001b[0m\n\u001b[0;32m----> 1\u001b[0;31m \u001b[0mout_of_range\u001b[0m \u001b[0;34m=\u001b[0m \u001b[0mnumbers\u001b[0m\u001b[0;34m[\u001b[0m\u001b[0;36m10\u001b[0m\u001b[0;34m]\u001b[0m\u001b[0;34m\u001b[0m\u001b[0;34m\u001b[0m\u001b[0m\n\u001b[0m",
            "\u001b[0;31mIndexError\u001b[0m: list index out of range"
          ]
        }
      ]
    },
    {
      "cell_type": "markdown",
      "source": [
        "\n",
        "#### **3. Modifying Elements**\n",
        "\n",
        "- **Change the second element of the `numbers` list to 10.**"
      ],
      "metadata": {
        "id": "dn0ZGQ4iOM6H"
      }
    },
    {
      "cell_type": "code",
      "source": [
        "# put your code in here:\n",
        "\n",
        "print(\"Modified numbers:\", numbers)"
      ],
      "metadata": {
        "colab": {
          "base_uri": "https://localhost:8080/"
        },
        "id": "lZexrzawORCE",
        "outputId": "fa1ba232-d8c4-4f04-aa5f-21b8c479714c"
      },
      "execution_count": 4,
      "outputs": [
        {
          "output_type": "stream",
          "name": "stdout",
          "text": [
            "Modified numbers: [1, 10, 3, 4, 5]\n"
          ]
        }
      ]
    },
    {
      "cell_type": "markdown",
      "source": [
        "\n",
        "- **Add a new element (6) to the end of the list.**   hint: use``` .append()  ``` method\n",
        "\n"
      ],
      "metadata": {
        "id": "Fy7ptJ_tQ6BV"
      }
    },
    {
      "cell_type": "code",
      "source": [
        "# put your code in here:\n",
        "\n",
        "print(\"Appended:\", numbers)"
      ],
      "metadata": {
        "id": "e4BMmnGYQ8bd"
      },
      "execution_count": null,
      "outputs": []
    },
    {
      "cell_type": "markdown",
      "source": [
        "\n",
        "- **Insert a new element (2) at the beginning of the list.** hint: use ```\n",
        ".insert()``` method\n"
      ],
      "metadata": {
        "id": "AjYoomokRcg2"
      }
    },
    {
      "cell_type": "code",
      "source": [
        "# put your code in here:\n",
        "\n",
        "print(\"Inserted at the beginning:\", numbers)"
      ],
      "metadata": {
        "id": "Xe-l9hONRdOW"
      },
      "execution_count": null,
      "outputs": []
    },
    {
      "cell_type": "markdown",
      "source": [
        "\n",
        "#### **4. Removing Elements**\n",
        "\n",
        "- **Remove the first occurrence of the number 10 from the list.**  hint: use``` .remove()  ``` method"
      ],
      "metadata": {
        "id": "WG4h-Ue2R6Qb"
      }
    },
    {
      "cell_type": "code",
      "source": [
        "# put your code in here:\n",
        "\n",
        "print(\"After removing 10:\", numbers)"
      ],
      "metadata": {
        "id": "OWPs_27MR5oJ"
      },
      "execution_count": null,
      "outputs": []
    },
    {
      "cell_type": "markdown",
      "source": [
        "- **Remove the last element using `pop()`.**\n"
      ],
      "metadata": {
        "id": "33x8CgGdSfUf"
      }
    },
    {
      "cell_type": "code",
      "source": [
        "# put your code in here:\n",
        "\n",
        "print(\"Popped element:\", last_element, \"Remaining list:\", numbers)"
      ],
      "metadata": {
        "id": "HwNKRn8oSgmO"
      },
      "execution_count": null,
      "outputs": []
    },
    {
      "cell_type": "markdown",
      "source": [
        "#### **5. Common List Methods**\n",
        "\n",
        "- **Sort the list of numbers.**  hint: use``` .sort()  ``` method"
      ],
      "metadata": {
        "id": "5TTylPv-SwwX"
      }
    },
    {
      "cell_type": "code",
      "source": [
        "# put your code in here:\n",
        "\n",
        "print(\"Sorted numbers:\", numbers)"
      ],
      "metadata": {
        "id": "TskMNdrvSxap"
      },
      "execution_count": null,
      "outputs": []
    },
    {
      "cell_type": "markdown",
      "source": [
        "- **Find the length of the list.**"
      ],
      "metadata": {
        "id": "u8a3b76vTDr8"
      }
    },
    {
      "cell_type": "code",
      "source": [
        "# put your code in here:\n",
        "\n",
        "print(\"Length of list:\", length)"
      ],
      "metadata": {
        "id": "MOidNlj6TCzW"
      },
      "execution_count": null,
      "outputs": []
    },
    {
      "cell_type": "markdown",
      "source": [
        "\n",
        "---\n",
        "\n",
        "### Python Dictionaries\n",
        "\n",
        "A **dictionary** is a built-in Python data type that stores data in key-value pairs. Dictionaries are unordered, mutable, and indexed by keys, which can be of any immutable type (e.g., strings, numbers, tuples).\n",
        "\n",
        "---\n",
        "\n",
        "### Think!\n",
        "\n",
        "1. **What is a Python dictionary?**\n",
        "   - Can you explain what a dictionary is and why it might be useful in programming?\n",
        "   - How does a dictionary differ from other data types like lists or tuples?\n",
        "\n",
        "2. **How do you create a dictionary in Python?**\n",
        "   - What syntax do you use to create a dictionary?\n",
        "   - Can you create a dictionary with mixed data types for keys and values?\n",
        "\n",
        "3. **How do you access values in a dictionary?**\n",
        "   - How would you access the value associated with a specific key?\n",
        "   - What happens if you try to access a key that doesn't exist?\n",
        "\n",
        "4. **How do you modify values in a dictionary?**\n",
        "   - How would you change the value associated with a specific key?\n",
        "   - How can you add new key-value pairs to a dictionary?\n",
        "\n",
        "5. **What are some common dictionary methods?**\n",
        "   - What methods can you use to remove elements from a dictionary?\n",
        "   - How would you iterate over the keys and values in a dictionary?\n",
        "\n",
        "6. **What are some use cases for dictionaries?**\n",
        "   - When might you choose to use a dictionary over other data types like lists or sets?\n",
        "\n",
        "---\n",
        "\n",
        "### Experimentation\n",
        "\n",
        "#### **1. Creating Dictionaries**\n",
        "\n",
        "- **Create a dictionary representing a person with keys for \"name\", \"age\", and \"city\".**\n"
      ],
      "metadata": {
        "id": "gU0DIEnsT9dx"
      }
    },
    {
      "cell_type": "code",
      "source": [
        "#uncomment the codes below and fill the code with right syntax\n",
        "\n",
        "person = {\n",
        "    \"name\": \"Alice\",\n",
        "    \"age\": 23,\n",
        "    \"city\": \"Nebraska\"\n",
        "}\n",
        "print(person)"
      ],
      "metadata": {
        "colab": {
          "base_uri": "https://localhost:8080/"
        },
        "id": "DCsCGk3RUIKi",
        "outputId": "971d222a-874d-4250-a678-366559ce745b"
      },
      "execution_count": 5,
      "outputs": [
        {
          "output_type": "stream",
          "name": "stdout",
          "text": [
            "{'name': 'Alice', 'age': 23, 'city': 'Nebraska'}\n"
          ]
        }
      ]
    },
    {
      "cell_type": "markdown",
      "source": [
        "- **Create a dictionary with mixed data types for values.**"
      ],
      "metadata": {
        "id": "xlOxmNXsWLnn"
      }
    },
    {
      "cell_type": "code",
      "source": [
        "mixed_dict = {\n",
        "    \"integer\":\n",
        "    \"string\":\n",
        "    \"list\":\n",
        "}\n",
        "print(mixed_dict)"
      ],
      "metadata": {
        "id": "03xRbCuuWMvq"
      },
      "execution_count": null,
      "outputs": []
    },
    {
      "cell_type": "markdown",
      "source": [
        "#### **2. Accessing Values**\n",
        "\n",
        "- **Access the value associated with the \"name\" key in the `person` dictionary.**"
      ],
      "metadata": {
        "id": "mLpU5bIlWVO5"
      }
    },
    {
      "cell_type": "code",
      "source": [
        "name =\n",
        "print(\"Name:\", name)"
      ],
      "metadata": {
        "id": "3o3hy20OWaxy"
      },
      "execution_count": null,
      "outputs": []
    },
    {
      "cell_type": "markdown",
      "source": [
        "- **Access a value using the `get()` method, which provides a default value if the key is not found.**"
      ],
      "metadata": {
        "id": "TL_3rowAWtME"
      }
    },
    {
      "cell_type": "code",
      "source": [
        "height =\n",
        "print(\"Height:\", height)"
      ],
      "metadata": {
        "colab": {
          "base_uri": "https://localhost:8080/"
        },
        "id": "k1kPoA_9WzOW",
        "outputId": "c180d331-50c1-4acc-b4d9-7ed5ac60411b"
      },
      "execution_count": 9,
      "outputs": [
        {
          "output_type": "stream",
          "name": "stdout",
          "text": [
            "Height: Unknown\n"
          ]
        }
      ]
    },
    {
      "cell_type": "markdown",
      "source": [
        "#### **3. Modifying Values**\n",
        "- **Change the \"age\" value in the `person` dictionary to 31.**"
      ],
      "metadata": {
        "id": "ES-8xv3iXO9n"
      }
    },
    {
      "cell_type": "code",
      "source": [
        "# put your code in here:\n",
        "\n",
        "print(\"Updated person:\", person)"
      ],
      "metadata": {
        "colab": {
          "base_uri": "https://localhost:8080/"
        },
        "id": "pG2S_9PqXXh3",
        "outputId": "50a3e79d-3064-4f4f-dca9-b6ee801a3c4b"
      },
      "execution_count": 10,
      "outputs": [
        {
          "output_type": "stream",
          "name": "stdout",
          "text": [
            "Updated person: {'name': 'Alice', 'age': 31, 'city': 'Nebraska'}\n"
          ]
        }
      ]
    },
    {
      "cell_type": "markdown",
      "source": [
        "- **Add a new key-value pair for \"occupation\".**"
      ],
      "metadata": {
        "id": "P-5c5HIUXmlK"
      }
    },
    {
      "cell_type": "code",
      "source": [
        "# put your code in here:\n",
        "\n",
        "print(\"With occupation:\", person)"
      ],
      "metadata": {
        "id": "2hGMeot8XnZy"
      },
      "execution_count": null,
      "outputs": []
    },
    {
      "cell_type": "markdown",
      "source": [
        "#### **4. Removing Elements**\n",
        "\n",
        "- **Remove the \"city\" key-value pair from the `person` dictionary using `del`.**"
      ],
      "metadata": {
        "id": "Bcwm_bGkYVhw"
      }
    },
    {
      "cell_type": "code",
      "source": [
        "# put your code in here:\n",
        "\n",
        "print(\"After removing city:\", person)"
      ],
      "metadata": {
        "colab": {
          "base_uri": "https://localhost:8080/"
        },
        "id": "Dv_UKv2QYWsC",
        "outputId": "9f53b6b8-ae5d-4ae4-f14b-07899ac6f668"
      },
      "execution_count": 11,
      "outputs": [
        {
          "output_type": "stream",
          "name": "stdout",
          "text": [
            "After removing city: {'name': 'Alice', 'age': 31}\n"
          ]
        }
      ]
    },
    {
      "cell_type": "markdown",
      "source": [
        "- **Remove and return the \"age\" key-value pair using `pop()`.**"
      ],
      "metadata": {
        "id": "TJSsbK6TYdTx"
      }
    },
    {
      "cell_type": "code",
      "source": [
        "# put your code in here:\n",
        "age =\n",
        "print(\"Popped age:\", age, \"Remaining dictionary:\", person)"
      ],
      "metadata": {
        "id": "usrLXHlPYd6Q"
      },
      "execution_count": null,
      "outputs": []
    },
    {
      "cell_type": "markdown",
      "source": [
        "#### **5. Common Dictionary Methods**\n",
        "\n",
        "- **Get a list of all keys in the dictionary.**  hint: use `.keys()` method\n",
        "\n"
      ],
      "metadata": {
        "id": "KTZf4b19ZIby"
      }
    },
    {
      "cell_type": "code",
      "source": [
        "# put your code in here:\n",
        "keys =\n",
        "print(\"Keys:\", keys)"
      ],
      "metadata": {
        "colab": {
          "base_uri": "https://localhost:8080/"
        },
        "id": "0G4E8HQZZJSM",
        "outputId": "1a625a9c-11e4-4d98-8880-2764970ab6e5"
      },
      "execution_count": 14,
      "outputs": [
        {
          "output_type": "stream",
          "name": "stdout",
          "text": [
            "Keys: ['name']\n"
          ]
        }
      ]
    },
    {
      "cell_type": "markdown",
      "source": [
        "\n",
        "- **Iterate over key-value pairs in the dictionary.**"
      ],
      "metadata": {
        "id": "TkQgdZ0ZZ4ce"
      }
    },
    {
      "cell_type": "code",
      "source": [
        "for key, value in person.items():\n",
        "  print(f\"{key}: {value}\")"
      ],
      "metadata": {
        "id": "VAZJhggyZ5ms"
      },
      "execution_count": null,
      "outputs": []
    },
    {
      "cell_type": "markdown",
      "source": [
        "\n",
        "---\n",
        "\n",
        "### NumPy Arrays\n",
        "\n",
        "**NumPy arrays** are a powerful data structure provided by the NumPy library in Python. They are similar to Python lists but offer more efficient storage and operations for numerical data. NumPy arrays are essential for scientific computing, data analysis, and machine learning tasks.\n",
        "\n",
        "---\n",
        "\n",
        "### Think!\n",
        "\n",
        "1. **What is a NumPy array?**\n",
        "   - How do NumPy arrays differ from Python lists?\n",
        "   - Why are NumPy arrays preferred for numerical computations?\n",
        "\n",
        "2. **How do you create a NumPy array?**\n",
        "   - What syntax do you use to create a NumPy array?\n",
        "   - Can you create a NumPy array from a Python list?\n",
        "\n",
        "3. **How do you access elements in a NumPy array?**\n",
        "   - How would you access the first element of a NumPy array?\n",
        "   - How can you access a slice of a NumPy array?\n",
        "\n",
        "4. **How do you modify elements in a NumPy array?**\n",
        "   - How would you change the value of an element at a specific index?\n",
        "   - Can you modify a subarray in place?\n",
        "\n",
        "5. **What are some common NumPy array operations?**\n",
        "   - How can you perform element-wise operations on NumPy arrays?\n",
        "   - How would you calculate the mean or sum of elements in a NumPy array?\n",
        "\n",
        "6. **What are some use cases for NumPy arrays?**\n",
        "   - When might you choose to use a NumPy array over other data structures like lists or dictionaries?\n",
        "\n",
        "---\n",
        "\n",
        "### Experimentation\n",
        "\n",
        "#### **1. Creating NumPy Arrays**\n",
        "\n",
        "- **Create a NumPy array from a list of numbers.**\n"
      ],
      "metadata": {
        "id": "-HpJnEtgau2F"
      }
    },
    {
      "cell_type": "code",
      "source": [
        "# import the numpy module\n",
        "\n",
        "numbers = [1, 2, 3, 4, 5]\n",
        "\n",
        "# create the numpy array\n",
        "array =\n",
        "print(\"NumPy array:\", array)"
      ],
      "metadata": {
        "colab": {
          "base_uri": "https://localhost:8080/"
        },
        "id": "JUGNO6H9a4xq",
        "outputId": "08bcb728-19ff-4196-dfac-7822621c07ea"
      },
      "execution_count": 15,
      "outputs": [
        {
          "output_type": "stream",
          "name": "stdout",
          "text": [
            "NumPy array: [1 2 3 4 5]\n"
          ]
        }
      ]
    },
    {
      "cell_type": "markdown",
      "source": [
        "- **Create a NumPy array of zeros with a specific shape (2,3).**"
      ],
      "metadata": {
        "id": "6ZUiWA1jbJyx"
      }
    },
    {
      "cell_type": "code",
      "source": [
        "# put your code in here:\n",
        "zeros_array =\n",
        "print(\"Zeros array:\\n\", zeros_array)"
      ],
      "metadata": {
        "colab": {
          "base_uri": "https://localhost:8080/"
        },
        "id": "Eyshg_osbPew",
        "outputId": "e58647a9-2aa0-4287-f98f-795581edbe38"
      },
      "execution_count": 16,
      "outputs": [
        {
          "output_type": "stream",
          "name": "stdout",
          "text": [
            "Zeros array:\n",
            " [[0. 0. 0.]\n",
            " [0. 0. 0.]]\n"
          ]
        }
      ]
    },
    {
      "cell_type": "markdown",
      "source": [
        "- **Create a NumPy array of random numbers with shape (3,3).** hint: use `np.random.rand(3, 3)`\n",
        "\n"
      ],
      "metadata": {
        "id": "1rAXXmSBbZu3"
      }
    },
    {
      "cell_type": "code",
      "source": [
        "# put your code in here:\n",
        "\n",
        "random_array =\n",
        "print(\"Random array:\\n\", random_array)"
      ],
      "metadata": {
        "colab": {
          "base_uri": "https://localhost:8080/"
        },
        "id": "UtBouyvzbenx",
        "outputId": "6bc5e900-e5e8-4dca-9482-a49d050c4873"
      },
      "execution_count": 17,
      "outputs": [
        {
          "output_type": "stream",
          "name": "stdout",
          "text": [
            "Random array:\n",
            " [[0.74840899 0.49561266 0.94077898]\n",
            " [0.69476315 0.85731803 0.75030508]\n",
            " [0.6572383  0.74418521 0.20103607]]\n"
          ]
        }
      ]
    },
    {
      "cell_type": "markdown",
      "source": [
        "#### **2. Accessing Elements**\n",
        "\n",
        "- **Access the first element of the `array`.**"
      ],
      "metadata": {
        "id": "W4oVdKcRbsjo"
      }
    },
    {
      "cell_type": "code",
      "source": [
        "# put your code in here:\n",
        "first_element =\n",
        "print(\"First element:\", first_element)"
      ],
      "metadata": {
        "colab": {
          "base_uri": "https://localhost:8080/"
        },
        "id": "wUODknicbu4P",
        "outputId": "e1fba859-22a8-43b2-ee23-11602417a9c4"
      },
      "execution_count": 18,
      "outputs": [
        {
          "output_type": "stream",
          "name": "stdout",
          "text": [
            "First element: 1\n"
          ]
        }
      ]
    },
    {
      "cell_type": "markdown",
      "source": [
        "\n",
        "- **Access a subarray (slice) of the `array`.**\n",
        "\n",
        "> slice it to be from element 2nd to 4th\n",
        "\n"
      ],
      "metadata": {
        "id": "xOj9xSN8b3gA"
      }
    },
    {
      "cell_type": "code",
      "source": [
        "# put your code in here:\n",
        "subarray =\n",
        "print(\"Subarray:\", subarray)"
      ],
      "metadata": {
        "colab": {
          "base_uri": "https://localhost:8080/"
        },
        "id": "4FWuk6mPb54N",
        "outputId": "2c24ef97-e30e-4bd8-823c-d0ffeefaec39"
      },
      "execution_count": 19,
      "outputs": [
        {
          "output_type": "stream",
          "name": "stdout",
          "text": [
            "Subarray: [2 3 4]\n"
          ]
        }
      ]
    },
    {
      "cell_type": "markdown",
      "source": [
        "- **Access elements of a 2D array using row and column indices.**\n"
      ],
      "metadata": {
        "id": "EV4qwIoVb4hu"
      }
    },
    {
      "cell_type": "code",
      "source": [
        "matrix = np.array([[1, 2, 3], [4, 5, 6]]) #example 2d array\n",
        "\n",
        "# Accessing element at row 0, column 1\n",
        "element =\n",
        "print(\"the matrix is\\n\", matrix, '\\n')\n",
        "print(\"Element at row 0, column 1:\", element)"
      ],
      "metadata": {
        "colab": {
          "base_uri": "https://localhost:8080/"
        },
        "id": "XzRAvmBVcIur",
        "outputId": "be5bd919-6169-4508-8987-82672bd227e8"
      },
      "execution_count": 35,
      "outputs": [
        {
          "output_type": "stream",
          "name": "stdout",
          "text": [
            "the matrix is\n",
            " [[1 2 3]\n",
            " [4 5 6]] \n",
            "\n",
            "Element at row 0, column 1: 2\n"
          ]
        }
      ]
    },
    {
      "cell_type": "markdown",
      "source": [
        "#### **3. Modifying Elements**\n",
        "\n",
        "- **Change the second element of the `array` to 10.**"
      ],
      "metadata": {
        "id": "J0gA8fa9cPa7"
      }
    },
    {
      "cell_type": "code",
      "source": [
        "# put your code in here:\n",
        "\n",
        "print(\"Modified array:\", array)"
      ],
      "metadata": {
        "colab": {
          "base_uri": "https://localhost:8080/"
        },
        "id": "zktt8yBYcQZa",
        "outputId": "07a464f3-8025-447f-b697-eb7a8888e5bb"
      },
      "execution_count": 21,
      "outputs": [
        {
          "output_type": "stream",
          "name": "stdout",
          "text": [
            "Modified array: [ 1 10  3  4  5]\n"
          ]
        }
      ]
    },
    {
      "cell_type": "markdown",
      "source": [
        "- **Modify a subarray of a 2D array.**"
      ],
      "metadata": {
        "id": "qvaqpWrJcWLs"
      }
    },
    {
      "cell_type": "code",
      "source": [
        "# Modify the first row to be [7, 8, 9]\n",
        "\n",
        "print(\"Modified matrix:\\n\", matrix)"
      ],
      "metadata": {
        "colab": {
          "base_uri": "https://localhost:8080/"
        },
        "id": "2fhQ6RKMcX7f",
        "outputId": "78dcec5a-2c85-4e29-9747-38faa5941e45"
      },
      "execution_count": 22,
      "outputs": [
        {
          "output_type": "stream",
          "name": "stdout",
          "text": [
            "Modified matrix:\n",
            " [[7 8 9]\n",
            " [4 5 6]]\n"
          ]
        }
      ]
    },
    {
      "cell_type": "markdown",
      "source": [
        "#### **4. Common Operations**\n",
        "\n",
        "- **Perform element-wise addition between two arrays.**"
      ],
      "metadata": {
        "id": "w_lq5TJvcepD"
      }
    },
    {
      "cell_type": "code",
      "source": [
        "array1 = np.array([1, 2, 3])\n",
        "array2 = np.array([4, 5, 6])\n",
        "\n",
        "# put your code in here:\n",
        "sum_array =\n",
        "print(\"Element-wise sum:\", sum_array)"
      ],
      "metadata": {
        "colab": {
          "base_uri": "https://localhost:8080/"
        },
        "id": "FNv_0Hd9cgsj",
        "outputId": "8d278071-fbde-4e8d-acc4-0a4b0ba8561b"
      },
      "execution_count": 23,
      "outputs": [
        {
          "output_type": "stream",
          "name": "stdout",
          "text": [
            "Element-wise sum: [5 7 9]\n"
          ]
        }
      ]
    },
    {
      "cell_type": "markdown",
      "source": [
        "- **Calculate the mean and sum of a NumPy array.**"
      ],
      "metadata": {
        "id": "hkJQVWF0cqzF"
      }
    },
    {
      "cell_type": "code",
      "source": [
        "# put your code in here:\n",
        "mean_value =\n",
        "sum_value =\n",
        "print(\"Mean:\", mean_value, \"Sum:\", sum_value)"
      ],
      "metadata": {
        "colab": {
          "base_uri": "https://localhost:8080/"
        },
        "id": "LO51E1Gjcric",
        "outputId": "0d2b0207-a1c0-41f6-c8b2-42db3352e479"
      },
      "execution_count": 24,
      "outputs": [
        {
          "output_type": "stream",
          "name": "stdout",
          "text": [
            "Mean: 4.6 Sum: 23\n"
          ]
        }
      ]
    },
    {
      "cell_type": "markdown",
      "source": [
        "\n",
        "- **Use broadcasting to add a scalar to an array.**"
      ],
      "metadata": {
        "id": "RkcsD83rcw-F"
      }
    },
    {
      "cell_type": "code",
      "source": [
        "# put your code in here: (scale adding by 5)\n",
        "\n",
        "scalar_added =\n",
        "print(\"Scalar added array:\", scalar_added)"
      ],
      "metadata": {
        "colab": {
          "base_uri": "https://localhost:8080/"
        },
        "id": "IjHabKkGcx2d",
        "outputId": "8ec344c4-8014-42d0-ec3e-0b8a6b2dd87a"
      },
      "execution_count": 25,
      "outputs": [
        {
          "output_type": "stream",
          "name": "stdout",
          "text": [
            "Scalar added array: [ 6 15  8  9 10]\n"
          ]
        }
      ]
    },
    {
      "cell_type": "markdown",
      "source": [
        "#### **5. Reshaping Arrays**\n",
        "\n",
        "- **Reshape a 1D array into a 2D array.**"
      ],
      "metadata": {
        "id": "KWFiyDGmc11l"
      }
    },
    {
      "cell_type": "code",
      "source": [
        "#print the shape of array\n"
      ],
      "metadata": {
        "colab": {
          "base_uri": "https://localhost:8080/"
        },
        "id": "eeAcW2p_gGsa",
        "outputId": "3df382df-cf89-4b02-9349-3d9a347f23e3"
      },
      "execution_count": 37,
      "outputs": [
        {
          "output_type": "execute_result",
          "data": {
            "text/plain": [
              "(5,)"
            ]
          },
          "metadata": {},
          "execution_count": 37
        }
      ]
    },
    {
      "cell_type": "code",
      "source": [
        "# reshape it to be (5,1) or (3,2)\n",
        "reshaped_array =\n",
        "print(\"Reshaped array:\\n\", reshaped_array)"
      ],
      "metadata": {
        "colab": {
          "base_uri": "https://localhost:8080/"
        },
        "id": "zhMLjK9Lc5Om",
        "outputId": "bf728d37-3b41-4ca0-bebc-00bba8058eed"
      },
      "execution_count": 26,
      "outputs": [
        {
          "output_type": "stream",
          "name": "stdout",
          "text": [
            "Reshaped array:\n",
            " [[ 1]\n",
            " [10]\n",
            " [ 3]\n",
            " [ 4]\n",
            " [ 5]]\n"
          ]
        }
      ]
    },
    {
      "cell_type": "markdown",
      "source": [
        "- **Flatten a 2D array back into a 1D array.** hint:use `.flatten()` method\n",
        "\n"
      ],
      "metadata": {
        "id": "njCQVVByc_aQ"
      }
    },
    {
      "cell_type": "code",
      "source": [
        "# flatten the matrix\n",
        "flattened =\n",
        "print(\"Flattened array:\", flattened)"
      ],
      "metadata": {
        "id": "ZYC6sZQjdATZ"
      },
      "execution_count": null,
      "outputs": []
    }
  ]
}