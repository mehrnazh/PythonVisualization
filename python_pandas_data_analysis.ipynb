{
  "cells": [
    {
      "cell_type": "markdown",
      "metadata": {
        "id": "view-in-github",
        "colab_type": "text"
      },
      "source": [
        "<a href=\"https://colab.research.google.com/github/mehrnazh/PythonVisualization/blob/main/python_pandas_data_analysis.ipynb\" target=\"_parent\"><img src=\"https://colab.research.google.com/assets/colab-badge.svg\" alt=\"Open In Colab\"/></a>"
      ]
    },
    {
      "cell_type": "markdown",
      "metadata": {
        "id": "IvvrwXyP6rby"
      },
      "source": [
        "# Analyzing Tabular Data using Python and Pandas\n",
        "\n",
        "By Mehrnaz Hosseinzadeh M.D., National Brain Centre, Mental Health Research Centre, IUMS"
      ]
    },
    {
      "cell_type": "markdown",
      "metadata": {
        "id": "8d_d6XmA6rb5"
      },
      "source": [
        "This tutorial covers the following topics:\n",
        "\n",
        "- Reading a CSV file into a Pandas data frame\n",
        "- Retrieving data from Pandas data frames\n",
        "- Querying, sorting, and analyzing data\n",
        "- Merging, grouping, and aggregation of data\n",
        "- Extracting useful information from dates\n",
        "- Basic plotting using line and bar charts\n",
        "- Writing data frames to CSV files"
      ]
    },
    {
      "cell_type": "markdown",
      "metadata": {
        "id": "3vK8aroD6rcB"
      },
      "source": [
        "## Reading a CSV file using Pandas\n",
        "\n",
        "[Pandas](https://pandas.pydata.org/) is a popular Python library used for working in tabular data (similar to the data stored in a spreadsheet). Pandas provides helper functions to read data from various file formats like CSV, Excel spreadsheets, HTML tables, JSON, SQL, and more. Let's download a file `italy-covid-daywise.txt` which contains day-wise Covid-19 data for Italy in the following format:\n",
        "\n",
        "```\n",
        "date,new_cases,new_deaths,new_tests\n",
        "2020-04-21,2256.0,454.0,28095.0\n",
        "2020-04-22,2729.0,534.0,44248.0\n",
        "2020-04-23,3370.0,437.0,37083.0\n",
        "2020-04-24,2646.0,464.0,95273.0\n",
        "2020-04-25,3021.0,420.0,38676.0\n",
        "2020-04-26,2357.0,415.0,24113.0\n",
        "2020-04-27,2324.0,260.0,26678.0\n",
        "2020-04-28,1739.0,333.0,37554.0\n",
        "...\n",
        "```\n",
        "\n",
        "This format of storing data is known as *comma-separated values* or CSV.\n",
        "\n",
        "> **CSVs**: A comma-separated values (CSV) file is a delimited text file that uses a comma to separate values. Each line of the file is a data record. Each record consists of one or more fields, separated by commas. A CSV file typically stores tabular data (numbers and text) in plain text, in which case each line will have the same number of fields. (Wikipedia)\n",
        "\n",
        "\n",
        "We'll download this file using the `urlretrieve` function from the `urllib.request` module."
      ]
    },
    {
      "cell_type": "code",
      "execution_count": null,
      "metadata": {
        "id": "-dNOYOSP6rcC"
      },
      "outputs": [],
      "source": [
        "from urllib.request import urlretrieve"
      ]
    },
    {
      "cell_type": "code",
      "execution_count": null,
      "metadata": {
        "id": "LcE9F6_r6rcE"
      },
      "outputs": [],
      "source": [
        "italy_covid_url = 'https://gist.githubusercontent.com/aakashns/f6a004fa20c84fec53262f9a8bfee775/raw/f309558b1cf5103424cef58e2ecb8704dcd4d74c/italy-covid-daywise.csv'\n",
        "\n",
        "urlretrieve(italy_covid_url, 'italy-covid-daywise.csv')"
      ]
    },
    {
      "cell_type": "markdown",
      "metadata": {
        "id": "9XBG0wZK6rcG"
      },
      "source": [
        "To read the file, we can use the `read_csv` method from Pandas. First, let's install the Pandas library."
      ]
    },
    {
      "cell_type": "code",
      "execution_count": null,
      "metadata": {
        "id": "y9EujVY66rcG"
      },
      "outputs": [],
      "source": [
        "!pip install pandas --upgrade --quiet   # in Google Colab Pandas is pre-installed so you do not need to run this cell"
      ]
    },
    {
      "cell_type": "markdown",
      "metadata": {
        "id": "VpnugUCf6rcH"
      },
      "source": [
        "We can now import the `pandas` module. As a convention, it is imported with the alias `pd`."
      ]
    },
    {
      "cell_type": "code",
      "execution_count": null,
      "metadata": {
        "id": "5TltfD6I6rcI"
      },
      "outputs": [],
      "source": [
        "import pandas as pd"
      ]
    },
    {
      "cell_type": "code",
      "execution_count": null,
      "metadata": {
        "id": "e4BERw8G6rcJ"
      },
      "outputs": [],
      "source": [
        "covid_df = pd.read_csv('italy-covid-daywise.csv')"
      ]
    },
    {
      "cell_type": "markdown",
      "metadata": {
        "id": "oDyd8s-K6rcJ"
      },
      "source": [
        "Data from the file is read and stored in a `DataFrame` object - one of the core data structures in Pandas for storing and working with tabular data. We typically use the `_df` suffix in the variable names for dataframes."
      ]
    },
    {
      "cell_type": "code",
      "execution_count": null,
      "metadata": {
        "id": "s6Y5sIFR6rcK"
      },
      "outputs": [],
      "source": [
        "type(covid_df)"
      ]
    },
    {
      "cell_type": "code",
      "execution_count": null,
      "metadata": {
        "id": "dUCD5M6P6rcK"
      },
      "outputs": [],
      "source": [
        "covid_df"
      ]
    },
    {
      "cell_type": "markdown",
      "source": [
        "We can use the `.head` and `.tail` methods to view the first or last few rows of data."
      ],
      "metadata": {
        "id": "2XTzXi_qiSBR"
      }
    },
    {
      "cell_type": "code",
      "source": [
        "covid_df.head(5)"
      ],
      "metadata": {
        "id": "k9n8d38viBwq"
      },
      "execution_count": null,
      "outputs": []
    },
    {
      "cell_type": "code",
      "source": [
        "covid_df.tail(4)"
      ],
      "metadata": {
        "id": "GKisAKYniDlk"
      },
      "execution_count": null,
      "outputs": []
    },
    {
      "cell_type": "markdown",
      "source": [
        "For you to inspect the data in common tabular softwares like excell and google sheet can be helpfule. by running the code below and authenticate your google account you will be able to inspect the data in google sheets directly from the\n",
        " Google Colab."
      ],
      "metadata": {
        "id": "TPkOzFIFJSOS"
      }
    },
    {
      "source": [
        "from google.colab import sheets\n",
        "sheet = sheets.InteractiveSheet(df=covid_df)"
      ],
      "cell_type": "code",
      "execution_count": null,
      "outputs": [],
      "metadata": {
        "cellView": "form",
        "id": "C3ilhxJaI4lR"
      }
    },
    {
      "cell_type": "markdown",
      "metadata": {
        "id": "n_oEHljT6rcK"
      },
      "source": [
        "Here's what we can tell by looking at the dataframe:\n",
        "\n",
        "- The file provides four day-wise counts for COVID-19 in Italy\n",
        "- The metrics reported are new cases, deaths, and tests\n",
        "- Data is provided for 248 days: from Dec 12, 2019, to Sep 3, 2020\n",
        "\n",
        "Keep in mind that these are officially reported numbers. The actual number of cases & deaths may be higher, as not all cases are diagnosed.\n",
        "\n",
        "We can view some basic information about the data frame using the `.info` method."
      ]
    },
    {
      "cell_type": "code",
      "execution_count": null,
      "metadata": {
        "id": "g2XiZY7S6rcL"
      },
      "outputs": [],
      "source": [
        "covid_df.info()"
      ]
    },
    {
      "cell_type": "markdown",
      "metadata": {
        "id": "TqNOrdJK6rcL"
      },
      "source": [
        "It appears that each column contains values of a specific data type. You can view statistical information for numerical columns (mean, standard deviation, minimum/maximum values, and the number of non-empty values) using the `.describe` method."
      ]
    },
    {
      "cell_type": "code",
      "execution_count": null,
      "metadata": {
        "id": "zlnqMscR6rcM"
      },
      "outputs": [],
      "source": [
        "covid_df.describe()"
      ]
    },
    {
      "cell_type": "markdown",
      "metadata": {
        "id": "nSOWaOS96rcM"
      },
      "source": [
        "The `columns` property contains the list of columns within the data frame."
      ]
    },
    {
      "cell_type": "code",
      "execution_count": null,
      "metadata": {
        "id": "d8186YTP6rcM"
      },
      "outputs": [],
      "source": [
        "covid_df.columns"
      ]
    },
    {
      "cell_type": "markdown",
      "metadata": {
        "id": "Ba0BPA_g6rcN"
      },
      "source": [
        "You can also retrieve the number of rows and columns in the data frame using the `.shape` property"
      ]
    },
    {
      "cell_type": "code",
      "execution_count": null,
      "metadata": {
        "id": "JKZr5TA36rcN"
      },
      "outputs": [],
      "source": [
        "covid_df.shape"
      ]
    },
    {
      "cell_type": "markdown",
      "metadata": {
        "id": "ZAp5uRTq6rcO"
      },
      "source": [
        "Here's a summary of the functions & methods we've looked at so far:\n",
        "\n",
        "* `pd.read_csv` - Read data from a CSV file into a Pandas `DataFrame` object\n",
        "* `.info()` - View basic infomation about rows, columns & data types\n",
        "* `.describe()` - View statistical information about numeric columns\n",
        "* `.columns` - Get the list of column names\n",
        "* `.shape` - Get the number of rows & columns as a tuple\n"
      ]
    },
    {
      "cell_type": "markdown",
      "metadata": {
        "id": "KPfix6jL6rcP"
      },
      "source": [
        "## Retrieving data from a data frame\n",
        "\n",
        "The first thing you might want to do is retrieve data from this data frame, e.g., the counts of a specific day or the list of values in a particular column. To do this, it might help to understand the internal representation of data in a data frame. Conceptually, you can think of a dataframe as a dictionary of lists: keys are column names, and values are lists/arrays containing data for the respective columns."
      ]
    },
    {
      "cell_type": "code",
      "execution_count": null,
      "metadata": {
        "id": "HLQQudoA6rcQ"
      },
      "outputs": [],
      "source": [
        "# Pandas format is simliar to this\n",
        "covid_data_dict = {\n",
        "    'date':       ['2020-08-30', '2020-08-31', '2020-09-01', '2020-09-02', '2020-09-03'],\n",
        "    'new_cases':  [1444, 1365, 996, 975, 1326],\n",
        "    'new_deaths': [1, 4, 6, 8, 6],\n",
        "    'new_tests': [53541, 42583, 54395, None, None]\n",
        "}"
      ]
    },
    {
      "cell_type": "markdown",
      "metadata": {
        "id": "xHPiCWEm6rcQ"
      },
      "source": [
        "Representing data in the above format has a few benefits:\n",
        "\n",
        "* All values in a column typically have the same type of value, so it's more efficient to store them in a single array.\n",
        "* Retrieving the values for a particular row simply requires extracting the elements at a given index from each column array.\n",
        "* The representation is more compact (column names are recorded only once) compared to other formats that use a dictionary for each row of data (see the example below)."
      ]
    },
    {
      "cell_type": "code",
      "execution_count": null,
      "metadata": {
        "id": "2Q_jRQzE6rcR"
      },
      "outputs": [],
      "source": [
        "# Pandas format is not similar to this\n",
        "covid_data_list = [\n",
        "    {'date': '2020-08-30', 'new_cases': 1444, 'new_deaths': 1, 'new_tests': 53541},\n",
        "    {'date': '2020-08-31', 'new_cases': 1365, 'new_deaths': 4, 'new_tests': 42583},\n",
        "    {'date': '2020-09-01', 'new_cases': 996, 'new_deaths': 6, 'new_tests': 54395},\n",
        "    {'date': '2020-09-02', 'new_cases': 975, 'new_deaths': 8 },\n",
        "    {'date': '2020-09-03', 'new_cases': 1326, 'new_deaths': 6},\n",
        "]"
      ]
    },
    {
      "cell_type": "markdown",
      "source": [
        "In other words, pandas DataFrame is more like a dictionary of lists, not a list of dictionaries."
      ],
      "metadata": {
        "id": "to7KifY4LMPK"
      }
    },
    {
      "cell_type": "markdown",
      "metadata": {
        "id": "n0a8PBp96rcR"
      },
      "source": [
        "With the dictionary of lists analogy in mind, you can now guess how to retrieve data from a data frame. For example, we can get a list of values from a specific column using the `[]` indexing notation."
      ]
    },
    {
      "cell_type": "code",
      "execution_count": null,
      "metadata": {
        "id": "sU_8Ub5-6rcR"
      },
      "outputs": [],
      "source": [
        "covid_data_dict['new_cases']"
      ]
    },
    {
      "cell_type": "code",
      "execution_count": null,
      "metadata": {
        "id": "L9zHJVJC6rcU"
      },
      "outputs": [],
      "source": [
        "covid_df['new_cases']"
      ]
    },
    {
      "cell_type": "markdown",
      "metadata": {
        "id": "15e4z4b06rcU"
      },
      "source": [
        "Each column is represented using a data structure called `Series`, which is essentially a numpy array with some extra methods and properties."
      ]
    },
    {
      "cell_type": "code",
      "execution_count": null,
      "metadata": {
        "id": "iop_spCU6rcV"
      },
      "outputs": [],
      "source": [
        "type(covid_df['new_cases'])"
      ]
    },
    {
      "cell_type": "markdown",
      "metadata": {
        "id": "UHPvv4zq6rcW"
      },
      "source": [
        "Like arrays, you can retrieve a specific value with a series using the indexing notation `[]`."
      ]
    },
    {
      "cell_type": "code",
      "execution_count": null,
      "metadata": {
        "id": "TmQoH86a6rcX"
      },
      "outputs": [],
      "source": [
        "covid_df['new_cases'][246]"
      ]
    },
    {
      "cell_type": "code",
      "execution_count": null,
      "metadata": {
        "id": "2DJHkTdv6rdj"
      },
      "outputs": [],
      "source": [
        "covid_df['new_tests'][240]"
      ]
    },
    {
      "cell_type": "markdown",
      "metadata": {
        "id": "FFrPn3Fj6rdk"
      },
      "source": [
        "Pandas also provides the `.at` method to retrieve the element at a specific row & column directly."
      ]
    },
    {
      "cell_type": "code",
      "execution_count": null,
      "metadata": {
        "id": "1fy6ziWq6rdk"
      },
      "outputs": [],
      "source": [
        "covid_df.at[246, 'new_cases']"
      ]
    },
    {
      "cell_type": "code",
      "execution_count": null,
      "metadata": {
        "id": "_o9N0tCI6rdl"
      },
      "outputs": [],
      "source": [
        "covid_df.at[240, 'new_tests']"
      ]
    },
    {
      "cell_type": "markdown",
      "metadata": {
        "id": "FvIKtg886rdl"
      },
      "source": [
        "Instead of using the indexing notation `[]`, Pandas also allows accessing columns as properties of the dataframe using the `.` notation. However, this method only works for columns whose names do not contain spaces or special characters."
      ]
    },
    {
      "cell_type": "code",
      "execution_count": null,
      "metadata": {
        "id": "3IcjqtEK6rdl"
      },
      "outputs": [],
      "source": [
        "covid_df.new_cases"
      ]
    },
    {
      "cell_type": "code",
      "source": [
        "covid_df.new_cases[247]"
      ],
      "metadata": {
        "id": "ZH0Onb_jhQdS"
      },
      "execution_count": null,
      "outputs": []
    },
    {
      "cell_type": "markdown",
      "metadata": {
        "id": "MB1Z8dD46rdm"
      },
      "source": [
        "Further, you can also pass a list of columns within the indexing notation `[]` to access a subset of the data frame with just the given columns."
      ]
    },
    {
      "cell_type": "code",
      "execution_count": null,
      "metadata": {
        "id": "56Z6Bs0N6rdm"
      },
      "outputs": [],
      "source": [
        "cases_df = covid_df[['date', 'new_cases']]\n",
        "cases_df"
      ]
    },
    {
      "cell_type": "markdown",
      "metadata": {
        "id": "ZwygaKxE6rdm"
      },
      "source": [
        "The new data frame `cases_df` is simply a \"view\" of the original data frame `covid_df`. Both point to the same data in the computer's memory. Changing any values inside one of them will also change the respective values in the other. Sharing data between data frames makes data manipulation in Pandas blazing fast. You needn't worry about the overhead of copying thousands or millions of rows every time you want to create a new data frame by operating on an existing one.\n",
        "\n",
        "Sometimes you might need a full copy of the data frame, in which case you can use the `copy` method."
      ]
    },
    {
      "cell_type": "code",
      "execution_count": null,
      "metadata": {
        "id": "2ERUpKtS6rdn"
      },
      "outputs": [],
      "source": [
        "covid_df_copy = covid_df.copy()"
      ]
    },
    {
      "cell_type": "markdown",
      "metadata": {
        "id": "s7UxzU286rdp"
      },
      "source": [
        "The data within `covid_df_copy` is completely separate from `covid_df`, and changing values inside one of them will not affect the other."
      ]
    },
    {
      "cell_type": "markdown",
      "metadata": {
        "id": "mKIpeSsh6rdp"
      },
      "source": [
        "To access a specific row of data, Pandas provides the `.loc` method."
      ]
    },
    {
      "cell_type": "code",
      "execution_count": null,
      "metadata": {
        "id": "xtql0LGC6rdp"
      },
      "outputs": [],
      "source": [
        "covid_df"
      ]
    },
    {
      "cell_type": "code",
      "execution_count": null,
      "metadata": {
        "id": "RAUw1rSW6rdq"
      },
      "outputs": [],
      "source": [
        "covid_df.loc[243]"
      ]
    },
    {
      "cell_type": "markdown",
      "metadata": {
        "id": "rzLowgD06rdq"
      },
      "source": [
        "Each retrieved row is also a `Series` object."
      ]
    },
    {
      "cell_type": "code",
      "execution_count": null,
      "metadata": {
        "id": "YZ4C8V-06rdq"
      },
      "outputs": [],
      "source": [
        "type(covid_df.loc[243])"
      ]
    },
    {
      "cell_type": "markdown",
      "metadata": {
        "id": "FsxrYscx6rdt"
      },
      "source": [
        "Notice above that while the first few values in the `new_cases` and `new_deaths` columns are `0`, the corresponding values within the `new_tests` column are `NaN`. That is because the CSV file does not contain any data for the `new_tests` column for specific dates (you can verify this by looking into the file). These values may be missing or unknown."
      ]
    },
    {
      "cell_type": "code",
      "execution_count": null,
      "metadata": {
        "id": "-dk7Swmx6rdu"
      },
      "outputs": [],
      "source": [
        "covid_df.at[0, 'new_tests']"
      ]
    },
    {
      "cell_type": "code",
      "execution_count": null,
      "metadata": {
        "id": "mzm6s1p56rdv"
      },
      "outputs": [],
      "source": [
        "type(covid_df.at[0, 'new_tests'])"
      ]
    },
    {
      "cell_type": "markdown",
      "metadata": {
        "id": "w8kF26lV6rdv"
      },
      "source": [
        "The distinction between `0` and `NaN` is subtle but important. In this dataset, it represents that daily test numbers were not reported on specific dates. Italy started reporting daily tests on Apr 19, 2020. 93,5310 tests had already been conducted before Apr 19.\n",
        "\n",
        "We can find the first index that doesn't contain a `NaN` value using a column's `first_valid_index` method."
      ]
    },
    {
      "cell_type": "code",
      "execution_count": null,
      "metadata": {
        "id": "rRGBccUI6rdv"
      },
      "outputs": [],
      "source": [
        "covid_df.new_tests.first_valid_index()"
      ]
    },
    {
      "cell_type": "markdown",
      "metadata": {
        "id": "7UptseHV6rdv"
      },
      "source": [
        "Let's look at a few rows before and after this index to verify that the values change from `NaN` to actual numbers. We can do this by passing a range to `loc`."
      ]
    },
    {
      "cell_type": "code",
      "execution_count": null,
      "metadata": {
        "id": "N4N8UljF6rdw"
      },
      "outputs": [],
      "source": [
        "covid_df.loc[108:113]"
      ]
    },
    {
      "cell_type": "markdown",
      "metadata": {
        "id": "jp5Dqhq36rdw"
      },
      "source": [
        "We can use the `.sample` method to retrieve a random sample of rows from the data frame."
      ]
    },
    {
      "cell_type": "code",
      "execution_count": null,
      "metadata": {
        "id": "Sb1Sul5v6rdw"
      },
      "outputs": [],
      "source": [
        "covid_df.sample(10)"
      ]
    },
    {
      "cell_type": "markdown",
      "metadata": {
        "id": "zp0ms6rv6rdx"
      },
      "source": [
        "Notice that even though we have taken a random sample, each row's original index is preserved - this is a useful property of data frames.\n",
        "\n"
      ]
    },
    {
      "cell_type": "markdown",
      "metadata": {
        "id": "P5zTojjd6rdx"
      },
      "source": [
        "Here's a summary of the functions & methods we looked at in this section:\n",
        "\n",
        "- `covid_df['new_cases']` - Retrieving columns as a `Series` using the column name\n",
        "- `new_cases[243]` - Retrieving values from a `Series` using an index\n",
        "- `covid_df.at[243, 'new_cases']` - Retrieving a single value from a data frame\n",
        "- `covid_df.copy()` - Creating a deep copy of a data frame\n",
        "- `covid_df.loc[243]` - Retrieving a row or range of rows of data from the data frame\n",
        "- `head`, `tail`, and `sample` - Retrieving multiple rows of data from the data frame\n",
        "- `covid_df.new_tests.first_valid_index` - Finding the first non-empty index in a series\n",
        "\n"
      ]
    },
    {
      "cell_type": "markdown",
      "metadata": {
        "id": "8PS8eKC36rej"
      },
      "source": [
        "## Analyzing data from data frames\n",
        "\n",
        "Let's try to answer some questions about our data.\n",
        "\n",
        "**Q: What are the total number of reported cases and deaths related to Covid-19 in Italy?**\n",
        "\n",
        "Similar to Numpy arrays, a Pandas series supports the `sum` method to answer these questions."
      ]
    },
    {
      "cell_type": "code",
      "execution_count": null,
      "metadata": {
        "id": "ArLDMnEm6rek"
      },
      "outputs": [],
      "source": [
        "total_cases = covid_df.new_cases.sum()\n",
        "total_deaths = covid_df.new_deaths.sum()"
      ]
    },
    {
      "cell_type": "code",
      "execution_count": null,
      "metadata": {
        "id": "ZCVKiKXs6rek"
      },
      "outputs": [],
      "source": [
        "print('The number of reported cases is {} and the number of reported deaths is {}.'.format(int(total_cases), int(total_deaths)))"
      ]
    },
    {
      "cell_type": "markdown",
      "metadata": {
        "id": "fSaMqAQL6rek"
      },
      "source": [
        "**Q: What is the overall death rate (ratio of reported deaths to reported cases)?**"
      ]
    },
    {
      "cell_type": "code",
      "execution_count": null,
      "metadata": {
        "id": "pWbrB8Sy6rew"
      },
      "outputs": [],
      "source": [
        "death_rate = covid_df.new_deaths.sum() / covid_df.new_cases.sum()"
      ]
    },
    {
      "cell_type": "code",
      "execution_count": null,
      "metadata": {
        "id": "oXEEXYP66rex"
      },
      "outputs": [],
      "source": [
        "print(\"The overall reported death rate in Italy is {:.2f} %.\".format(death_rate*100))"
      ]
    },
    {
      "cell_type": "markdown",
      "metadata": {
        "id": "NErsuypv6rex"
      },
      "source": [
        "**Q: What is the overall number of tests conducted? A total of 935310 tests were conducted before daily test numbers were reported.**\n"
      ]
    },
    {
      "cell_type": "code",
      "execution_count": null,
      "metadata": {
        "id": "HMVmh6Yv6rex"
      },
      "outputs": [],
      "source": [
        "initial_tests = 935310\n",
        "total_tests = initial_tests + covid_df.new_tests.sum()"
      ]
    },
    {
      "cell_type": "code",
      "execution_count": null,
      "metadata": {
        "id": "pu_7DvXF6re0"
      },
      "outputs": [],
      "source": [
        "total_tests"
      ]
    },
    {
      "cell_type": "markdown",
      "metadata": {
        "id": "XLwc9o1v6re1"
      },
      "source": [
        "**Q: What fraction of tests returned a positive result?**"
      ]
    },
    {
      "cell_type": "code",
      "execution_count": null,
      "metadata": {
        "id": "ChwAbt0z6re1"
      },
      "outputs": [],
      "source": [
        "positive_rate = total_cases / total_tests"
      ]
    },
    {
      "cell_type": "code",
      "execution_count": null,
      "metadata": {
        "id": "Wdi1m2hc6re1"
      },
      "outputs": [],
      "source": [
        "print('{:.2f}% of tests in Italy led to a positive diagnosis.'.format(positive_rate*100))"
      ]
    },
    {
      "cell_type": "markdown",
      "metadata": {
        "id": "MO_WZUwd6re2"
      },
      "source": [
        "Try asking and answering some more questions about the data using the empty cells below."
      ]
    },
    {
      "cell_type": "code",
      "execution_count": null,
      "metadata": {
        "id": "CWHwfzLB6re2"
      },
      "outputs": [],
      "source": []
    },
    {
      "cell_type": "code",
      "execution_count": null,
      "metadata": {
        "id": "YVtdKsYm6re2"
      },
      "outputs": [],
      "source": []
    },
    {
      "cell_type": "markdown",
      "metadata": {
        "id": "kyncWJis6rfF"
      },
      "source": [
        "## Querying and sorting rows\n",
        "\n",
        "Let's say we want only want to look at the days which had more than 1000 reported cases. We can use a boolean expression to check which rows satisfy this criterion."
      ]
    },
    {
      "cell_type": "code",
      "execution_count": null,
      "metadata": {
        "id": "J-SoADmI6rfF"
      },
      "outputs": [],
      "source": [
        "high_new_cases = covid_df.new_cases > 1000"
      ]
    },
    {
      "cell_type": "code",
      "execution_count": null,
      "metadata": {
        "id": "TlRSggC86rfF"
      },
      "outputs": [],
      "source": [
        "high_new_cases"
      ]
    },
    {
      "cell_type": "markdown",
      "metadata": {
        "id": "ZxdF22jP6rfG"
      },
      "source": [
        "The boolean expression returns a series containing `True` and `False` boolean values. You can use this series to select a subset of rows from the original dataframe, corresponding to the `True` values in the series."
      ]
    },
    {
      "cell_type": "code",
      "execution_count": null,
      "metadata": {
        "id": "hCWn1epA6rfG"
      },
      "outputs": [],
      "source": [
        "covid_df[high_new_cases]"
      ]
    },
    {
      "cell_type": "markdown",
      "metadata": {
        "id": "UghonLFc6rfG"
      },
      "source": [
        "We can write this succinctly on a single line by passing the boolean expression as an index to the data frame."
      ]
    },
    {
      "cell_type": "code",
      "execution_count": null,
      "metadata": {
        "id": "z50QboPk6rfG"
      },
      "outputs": [],
      "source": [
        "high_cases_df = covid_df[covid_df.new_cases > 1000]"
      ]
    },
    {
      "cell_type": "code",
      "execution_count": null,
      "metadata": {
        "id": "fxbkiitK6rfG"
      },
      "outputs": [],
      "source": [
        "high_cases_df"
      ]
    },
    {
      "cell_type": "markdown",
      "metadata": {
        "id": "bfR1xGpp6rfH"
      },
      "source": [
        "The data frame contains 72 rows, but only the first & last five rows are displayed by default with Jupyter for brevity. We can change some display options to view all the rows."
      ]
    },
    {
      "cell_type": "code",
      "execution_count": null,
      "metadata": {
        "scrolled": true,
        "id": "upju1CiB6rfH"
      },
      "outputs": [],
      "source": [
        "from IPython.display import display\n",
        "with pd.option_context('display.max_rows', 100):\n",
        "    display(covid_df[covid_df.new_cases > 1000])"
      ]
    },
    {
      "cell_type": "markdown",
      "metadata": {
        "id": "mqcyXyms6rfH"
      },
      "source": [
        "We can also formulate more complex queries that involve multiple columns. As an example, let's try to determine the days when the ratio of cases reported to tests conducted is higher than the overall `positive_rate`."
      ]
    },
    {
      "cell_type": "code",
      "execution_count": null,
      "metadata": {
        "id": "IltM-wvo6rfH"
      },
      "outputs": [],
      "source": [
        "positive_rate"
      ]
    },
    {
      "cell_type": "code",
      "execution_count": null,
      "metadata": {
        "id": "5SaQGo6E6rfI"
      },
      "outputs": [],
      "source": [
        "high_ratio_df = covid_df[covid_df.new_cases / covid_df.new_tests > positive_rate]"
      ]
    },
    {
      "cell_type": "code",
      "execution_count": null,
      "metadata": {
        "id": "DlSpllb76rfI"
      },
      "outputs": [],
      "source": [
        "high_ratio_df"
      ]
    },
    {
      "cell_type": "markdown",
      "metadata": {
        "id": "BSC69pLy6rfI"
      },
      "source": [
        "The result of performing an operation on two columns is a new series."
      ]
    },
    {
      "cell_type": "code",
      "execution_count": null,
      "metadata": {
        "id": "bZ7qo5rG6rfI"
      },
      "outputs": [],
      "source": [
        "covid_df.new_cases / covid_df.new_tests"
      ]
    },
    {
      "cell_type": "markdown",
      "metadata": {
        "id": "fg-HijFa6rfJ"
      },
      "source": [
        "We can use this series to add a new column to the data frame."
      ]
    },
    {
      "cell_type": "code",
      "execution_count": null,
      "metadata": {
        "id": "k3i7Yrme6rfJ"
      },
      "outputs": [],
      "source": [
        "covid_df['positive_rate'] = covid_df.new_cases / covid_df.new_tests"
      ]
    },
    {
      "cell_type": "code",
      "execution_count": null,
      "metadata": {
        "id": "2HmVHIHK6rfJ"
      },
      "outputs": [],
      "source": [
        "covid_df"
      ]
    },
    {
      "cell_type": "markdown",
      "metadata": {
        "id": "CVFdH6Y76rfJ"
      },
      "source": [
        "However, keep in mind that sometimes it takes a few days to get the results for a test, so we can't compare the number of new cases with the number of tests conducted on the same day. Any inference based on this `positive_rate` column is likely to be incorrect. It's essential to watch out for such subtle relationships that are often not conveyed within the CSV file and require some external context. It's always a good idea to read through the documentation provided with the dataset or ask for more information.\n",
        "\n",
        "For now, let's remove the `positive_rate` column using the `drop` method."
      ]
    },
    {
      "cell_type": "code",
      "execution_count": null,
      "metadata": {
        "id": "yAGefh1X6rfK"
      },
      "outputs": [],
      "source": [
        "covid_df.drop(columns=['positive_rate'], inplace=True)"
      ]
    },
    {
      "cell_type": "markdown",
      "metadata": {
        "id": "1ZsMvmOt6rfL"
      },
      "source": [
        "Can you figure the purpose of the `inplace` argument?"
      ]
    },
    {
      "cell_type": "markdown",
      "metadata": {
        "id": "fjlvS4Vx6rfL"
      },
      "source": [
        "### Sorting rows using column values\n",
        "\n",
        "The rows can also be sorted by a specific column using `.sort_values`. Let's sort to identify the days with the highest number of cases, then chain it with the `head` method to list just the first ten results."
      ]
    },
    {
      "cell_type": "code",
      "execution_count": null,
      "metadata": {
        "id": "8LzelP1C6rfM"
      },
      "outputs": [],
      "source": [
        "covid_df.sort_values('new_cases', ascending=False).head(10)"
      ]
    },
    {
      "cell_type": "markdown",
      "metadata": {
        "id": "vuuMh1u76rfN"
      },
      "source": [
        "It looks like the last two weeks of March had the highest number of daily cases. Let's compare this to the days where the highest number of deaths were recorded."
      ]
    },
    {
      "cell_type": "code",
      "execution_count": null,
      "metadata": {
        "id": "RGhat62J6rfN"
      },
      "outputs": [],
      "source": [
        "covid_df.sort_values('new_deaths', ascending=False).head(10)"
      ]
    },
    {
      "cell_type": "markdown",
      "metadata": {
        "id": "P38Ymymq6rfO"
      },
      "source": [
        "It appears that daily deaths hit a peak just about a week after the peak in daily new cases.\n",
        "\n",
        "Let's also look at the days with the least number of cases. We might expect to see the first few days of the year on this list."
      ]
    },
    {
      "cell_type": "code",
      "execution_count": null,
      "metadata": {
        "id": "eBfSR95v6rfT"
      },
      "outputs": [],
      "source": [
        "covid_df.sort_values('new_cases').head(10)"
      ]
    },
    {
      "cell_type": "markdown",
      "metadata": {
        "id": "opzCn4y26rfU"
      },
      "source": [
        "It seems like the count of new cases on Jun 20, 2020, was `-148`, a negative number! Not something we might have expected, but that's the nature of real-world data. It could be a data entry error, or the government may have issued a correction to account for miscounting in the past. Can you dig through news articles online and figure out why the number was negative?\n",
        "\n",
        "Let's look at some days before and after Jun 20, 2020."
      ]
    },
    {
      "cell_type": "code",
      "execution_count": null,
      "metadata": {
        "id": "u_oAdZd76rfU"
      },
      "outputs": [],
      "source": [
        "covid_df.loc[169:175]"
      ]
    },
    {
      "cell_type": "markdown",
      "metadata": {
        "id": "k9m05gBz6rfU"
      },
      "source": [
        "For now, let's assume this was indeed a data entry error. We can use one of the following approaches for dealing with the missing or faulty value:\n",
        "1. Replace it with `0`.\n",
        "2. Replace it with the average of the entire column\n",
        "3. Replace it with the average of the values on the previous & next date\n",
        "4. Discard the row entirely\n",
        "\n",
        "Which approach you pick requires some context about the data and the problem. In this case, since we are dealing with data ordered by date, we can go ahead with the third approach.\n",
        "\n",
        "You can use the `.at` method to modify a specific value within the dataframe."
      ]
    },
    {
      "cell_type": "code",
      "execution_count": null,
      "metadata": {
        "id": "SBPpEP6U6rfU"
      },
      "outputs": [],
      "source": [
        "covid_df.at[172, 'new_cases'] = (covid_df.at[171, 'new_cases'] + covid_df.at[173, 'new_cases'])/2"
      ]
    },
    {
      "cell_type": "markdown",
      "metadata": {
        "id": "XC564fhT6rfV"
      },
      "source": [
        "Here's a summary of the functions & methods we looked at in this section:\n",
        "\n",
        "- `covid_df.new_cases.sum()` - Computing the sum of values in a column or series\n",
        "- `covid_df[covid_df.new_cases > 1000]` - Querying a subset of rows satisfying the chosen criteria using boolean expressions\n",
        "- `df['pos_rate'] = df.new_cases/df.new_tests` - Adding new columns by combining data from existing columns\n",
        "- `covid_df.drop('positive_rate')` - Removing one or more columns from the data frame\n",
        "- `sort_values` - Sorting the rows of a data frame using column values\n",
        "- `covid_df.at[172, 'new_cases'] = ...` - Replacing a value within the data frame"
      ]
    },
    {
      "cell_type": "markdown",
      "metadata": {
        "id": "HeRzqAqm6rfZ"
      },
      "source": [
        "## Working with dates\n",
        "\n",
        "While we've looked at overall numbers for the cases, tests, positive rate, etc., it would also be useful to study these numbers on a month-by-month basis. The `date` column might come in handy here, as Pandas provides many utilities for working with dates."
      ]
    },
    {
      "cell_type": "code",
      "execution_count": null,
      "metadata": {
        "id": "CJI4xD3Z6rfZ"
      },
      "outputs": [],
      "source": [
        "covid_df.date"
      ]
    },
    {
      "cell_type": "markdown",
      "metadata": {
        "id": "_AkfhPk46rfZ"
      },
      "source": [
        "The data type of date is currently `object`, so Pandas does not know that this column is a date. We can convert it into a `datetime` column using the `pd.to_datetime` method."
      ]
    },
    {
      "cell_type": "code",
      "execution_count": null,
      "metadata": {
        "id": "mFlphON86rfa"
      },
      "outputs": [],
      "source": [
        "covid_df['date'] = pd.to_datetime(covid_df.date)"
      ]
    },
    {
      "cell_type": "code",
      "execution_count": null,
      "metadata": {
        "id": "VECUT6Ix6rfa"
      },
      "outputs": [],
      "source": [
        "covid_df['date']"
      ]
    },
    {
      "cell_type": "markdown",
      "metadata": {
        "id": "QRaDKNhr6rfa"
      },
      "source": [
        "You can see that it now has the datatype `datetime64`. We can now extract different parts of the data into separate columns, using the `DatetimeIndex` class ([view docs](https://pandas.pydata.org/pandas-docs/version/0.23.4/generated/pandas.DatetimeIndex.html))."
      ]
    },
    {
      "cell_type": "code",
      "execution_count": null,
      "metadata": {
        "id": "_GCEZKMk6rfa"
      },
      "outputs": [],
      "source": [
        "covid_df['year'] = pd.DatetimeIndex(covid_df.date).year\n",
        "covid_df['month'] = pd.DatetimeIndex(covid_df.date).month\n",
        "covid_df['day'] = pd.DatetimeIndex(covid_df.date).day\n",
        "covid_df['weekday'] = pd.DatetimeIndex(covid_df.date).weekday"
      ]
    },
    {
      "cell_type": "code",
      "execution_count": null,
      "metadata": {
        "id": "oPymPSeU6rfb"
      },
      "outputs": [],
      "source": [
        "covid_df"
      ]
    },
    {
      "cell_type": "markdown",
      "metadata": {
        "id": "OEnNU2lQ6rfb"
      },
      "source": [
        "Let's check the overall metrics for May. We can query the rows for May, choose a subset of columns, and use the `sum` method to aggregate each selected column's values."
      ]
    },
    {
      "cell_type": "code",
      "execution_count": null,
      "metadata": {
        "id": "9DNfik6p6rfb"
      },
      "outputs": [],
      "source": [
        "# Query the rows for May\n",
        "covid_df_may = covid_df[covid_df.month == 5]\n",
        "\n",
        "# Extract the subset of columns to be aggregated\n",
        "covid_df_may_metrics = covid_df_may[['new_cases', 'new_deaths', 'new_tests']]\n",
        "\n",
        "# Get the column-wise sum\n",
        "covid_may_totals = covid_df_may_metrics.sum()"
      ]
    },
    {
      "cell_type": "code",
      "execution_count": null,
      "metadata": {
        "id": "dJF15M0l6rfb"
      },
      "outputs": [],
      "source": [
        "covid_may_totals"
      ]
    },
    {
      "cell_type": "code",
      "execution_count": null,
      "metadata": {
        "id": "wPZ17WDQ6rfc"
      },
      "outputs": [],
      "source": [
        "type(covid_may_totals)"
      ]
    },
    {
      "cell_type": "markdown",
      "metadata": {
        "id": "ZFHRorRR6rfc"
      },
      "source": [
        "We can also combine the above operations into a single statement."
      ]
    },
    {
      "cell_type": "code",
      "execution_count": null,
      "metadata": {
        "id": "lN0uHeQe6rfc"
      },
      "outputs": [],
      "source": [
        "covid_df[covid_df.month == 5][['new_cases', 'new_deaths', 'new_tests']].sum()"
      ]
    },
    {
      "cell_type": "markdown",
      "metadata": {
        "id": "8lFJnias6rfk"
      },
      "source": [
        "As another example, let's check if the number of cases reported on Sundays is higher than the average number of cases reported every day. This time, we might want to aggregate columns using the `.mean` method."
      ]
    },
    {
      "cell_type": "code",
      "execution_count": null,
      "metadata": {
        "id": "NbiSgVrN6rfk"
      },
      "outputs": [],
      "source": [
        "# Overall average\n",
        "covid_df.new_cases.mean()"
      ]
    },
    {
      "cell_type": "code",
      "execution_count": null,
      "metadata": {
        "id": "XO5KVHn26rfl"
      },
      "outputs": [],
      "source": [
        "# Average for Sundays\n",
        "covid_df[covid_df.weekday == 6].new_cases.mean()"
      ]
    },
    {
      "cell_type": "markdown",
      "metadata": {
        "id": "-sPbMFyZ6rfl"
      },
      "source": [
        "It seems like more cases were reported on Sundays compared to other days.\n",
        "\n",
        "Try asking and answering some more date-related questions about the data using the cells below."
      ]
    },
    {
      "cell_type": "code",
      "execution_count": null,
      "metadata": {
        "id": "snKBqZEb6rfl"
      },
      "outputs": [],
      "source": []
    },
    {
      "cell_type": "code",
      "execution_count": null,
      "metadata": {
        "id": "3YyhCByw6rfl"
      },
      "outputs": [],
      "source": []
    },
    {
      "cell_type": "code",
      "execution_count": null,
      "metadata": {
        "id": "rPXvNNf46rfm"
      },
      "outputs": [],
      "source": []
    },
    {
      "cell_type": "code",
      "execution_count": null,
      "metadata": {
        "id": "He4vT9tJ6rfm"
      },
      "outputs": [],
      "source": []
    },
    {
      "cell_type": "markdown",
      "metadata": {
        "id": "_6mQ99PX6rfn"
      },
      "source": [
        "## Grouping and aggregation\n",
        "\n",
        "As a next step, we might want to summarize the day-wise data and create a new dataframe with month-wise data. We can use the `groupby` function to create a group for each month, select the columns we wish to aggregate, and aggregate them using the `sum` method."
      ]
    },
    {
      "cell_type": "code",
      "execution_count": null,
      "metadata": {
        "id": "YM0ujgxb6rfn"
      },
      "outputs": [],
      "source": [
        "covid_month_df = covid_df.groupby('month')[['new_cases', 'new_deaths', 'new_tests']].sum()"
      ]
    },
    {
      "cell_type": "code",
      "execution_count": null,
      "metadata": {
        "id": "KHgDBBoP6rfn"
      },
      "outputs": [],
      "source": [
        "covid_month_df"
      ]
    },
    {
      "cell_type": "markdown",
      "metadata": {
        "id": "iD1xsUTp6rfn"
      },
      "source": [
        "The result is a new data frame that uses unique values from the column passed to `groupby` as the index. Grouping and aggregation is a powerful method for progressively summarizing data into smaller data frames.\n",
        "\n",
        "Instead of aggregating by sum, you can also aggregate by other measures like mean. Let's compute the average number of daily new cases, deaths, and tests for each month."
      ]
    },
    {
      "cell_type": "code",
      "execution_count": null,
      "metadata": {
        "id": "KDYTUiKa6rfn"
      },
      "outputs": [],
      "source": [
        "covid_month_mean_df = covid_df.groupby('month')[['new_cases', 'new_deaths', 'new_tests']].mean()"
      ]
    },
    {
      "cell_type": "code",
      "execution_count": null,
      "metadata": {
        "id": "VvYomRn56rfo"
      },
      "outputs": [],
      "source": [
        "covid_month_mean_df"
      ]
    },
    {
      "cell_type": "markdown",
      "metadata": {
        "id": "gnUn5E-C6rfo"
      },
      "source": [
        "Apart from grouping, another form of aggregation is the running or cumulative sum of cases, tests, or death up to each row's date. We can use the `cumsum` method to compute the cumulative sum of a column as a new series. Let's add three new columns: `total_cases`, `total_deaths`, and `total_tests`."
      ]
    },
    {
      "cell_type": "code",
      "execution_count": null,
      "metadata": {
        "id": "E-XK-utq6rfo"
      },
      "outputs": [],
      "source": [
        "covid_df['total_cases'] = covid_df.new_cases.cumsum()"
      ]
    },
    {
      "cell_type": "code",
      "execution_count": null,
      "metadata": {
        "id": "9xAYKVTp6rfo"
      },
      "outputs": [],
      "source": [
        "covid_df['total_deaths'] = covid_df.new_deaths.cumsum()"
      ]
    },
    {
      "cell_type": "code",
      "execution_count": null,
      "metadata": {
        "id": "h5x6fz6y6rfp"
      },
      "outputs": [],
      "source": [
        "covid_df['total_tests'] = covid_df.new_tests.cumsum() + initial_tests"
      ]
    },
    {
      "cell_type": "markdown",
      "metadata": {
        "id": "l96a7zLf6rfp"
      },
      "source": [
        "We've also included the initial test count in `total_test` to account for tests conducted before daily reporting was started."
      ]
    },
    {
      "cell_type": "code",
      "execution_count": null,
      "metadata": {
        "id": "dvRAsPqN6rfp"
      },
      "outputs": [],
      "source": [
        "covid_df"
      ]
    },
    {
      "cell_type": "markdown",
      "metadata": {
        "id": "h81zFNk86rfp"
      },
      "source": [
        "Notice how the `NaN` values in the `total_tests` column remain unaffected."
      ]
    },
    {
      "cell_type": "markdown",
      "metadata": {
        "id": "D78yPXsn6rfq"
      },
      "source": [
        "## Merging data from multiple sources\n",
        "\n",
        "To determine other metrics like test per million, cases per million, etc., we require some more information about the country, viz. its population. Let's download another file `locations.csv` that contains health-related information for many countries, including Italy."
      ]
    },
    {
      "cell_type": "code",
      "execution_count": null,
      "metadata": {
        "id": "-PvT9ZtK6rfq"
      },
      "outputs": [],
      "source": [
        "urlretrieve('https://gist.githubusercontent.com/aakashns/8684589ef4f266116cdce023377fc9c8/raw/99ce3826b2a9d1e6d0bde7e9e559fc8b6e9ac88b/locations.csv',\n",
        "            'locations.csv')"
      ]
    },
    {
      "cell_type": "code",
      "execution_count": null,
      "metadata": {
        "id": "I1R2u15W6rfr"
      },
      "outputs": [],
      "source": [
        "locations_df = pd.read_csv('locations.csv')"
      ]
    },
    {
      "cell_type": "code",
      "execution_count": null,
      "metadata": {
        "id": "1Jf0kXmt6rfr"
      },
      "outputs": [],
      "source": [
        "locations_df"
      ]
    },
    {
      "cell_type": "code",
      "execution_count": null,
      "metadata": {
        "id": "r82IqGdj6rfr"
      },
      "outputs": [],
      "source": [
        "locations_df[locations_df.location == \"Italy\"]"
      ]
    },
    {
      "cell_type": "markdown",
      "metadata": {
        "id": "QlQui9ts6rfr"
      },
      "source": [
        "We can merge this data into our existing data frame by adding more columns. However, to merge two data frames, we need at least one common column. Let's insert a `location` column in the `covid_df` dataframe with all values set to `\"Italy\"`."
      ]
    },
    {
      "cell_type": "code",
      "execution_count": null,
      "metadata": {
        "id": "_32qwa166rfs"
      },
      "outputs": [],
      "source": [
        "covid_df['location'] = \"Italy\""
      ]
    },
    {
      "cell_type": "code",
      "execution_count": null,
      "metadata": {
        "id": "sj8KnsPw6rfs"
      },
      "outputs": [],
      "source": [
        "covid_df"
      ]
    },
    {
      "cell_type": "markdown",
      "metadata": {
        "id": "QM9Haco06rfs"
      },
      "source": [
        "We can now add the columns from `locations_df` into `covid_df` using the `.merge` method."
      ]
    },
    {
      "cell_type": "code",
      "execution_count": null,
      "metadata": {
        "id": "ZIzfmXTe6rfs"
      },
      "outputs": [],
      "source": [
        "merged_df = covid_df.merge(locations_df, on=\"location\")"
      ]
    },
    {
      "cell_type": "code",
      "execution_count": null,
      "metadata": {
        "id": "XaiqVlm_6rft"
      },
      "outputs": [],
      "source": [
        "merged_df"
      ]
    },
    {
      "cell_type": "markdown",
      "metadata": {
        "id": "cUVZD6Fy6rhk"
      },
      "source": [
        "The location data for Italy is appended to each row within `covid_df`. If the `covid_df` data frame contained data for multiple locations, then the respective country's location data would be appended for each row.\n",
        "\n",
        "We can now calculate metrics like cases per million, deaths per million, and tests per million."
      ]
    },
    {
      "cell_type": "code",
      "execution_count": null,
      "metadata": {
        "id": "65lDLhRJ6rhl"
      },
      "outputs": [],
      "source": [
        "merged_df['cases_per_million'] = merged_df.total_cases * 1e6 / merged_df.population"
      ]
    },
    {
      "cell_type": "code",
      "execution_count": null,
      "metadata": {
        "id": "HzWXqGun6rhm"
      },
      "outputs": [],
      "source": [
        "merged_df['deaths_per_million'] = merged_df.total_deaths * 1e6 / merged_df.population"
      ]
    },
    {
      "cell_type": "code",
      "execution_count": null,
      "metadata": {
        "id": "2JfWJqDG6rhm"
      },
      "outputs": [],
      "source": [
        "merged_df['tests_per_million'] = merged_df.total_tests * 1e6 / merged_df.population"
      ]
    },
    {
      "cell_type": "code",
      "execution_count": null,
      "metadata": {
        "scrolled": false,
        "id": "FJ5esm1M6rho"
      },
      "outputs": [],
      "source": [
        "merged_df"
      ]
    },
    {
      "cell_type": "markdown",
      "metadata": {
        "id": "va6tU_gL6rhq"
      },
      "source": [
        "## Writing data back to files\n",
        "\n",
        "After completing your analysis and adding new columns, you should write the results back to a file. Otherwise, the data will be lost when the Jupyter notebook shuts down. Before writing to file, let us first create a data frame containing just the columns we wish to record."
      ]
    },
    {
      "cell_type": "code",
      "execution_count": null,
      "metadata": {
        "id": "vndXSL-T6rhs"
      },
      "outputs": [],
      "source": [
        "result_df = merged_df[['date',\n",
        "                       'new_cases',\n",
        "                       'total_cases',\n",
        "                       'new_deaths',\n",
        "                       'total_deaths',\n",
        "                       'new_tests',\n",
        "                       'total_tests',\n",
        "                       'cases_per_million',\n",
        "                       'deaths_per_million',\n",
        "                       'tests_per_million']]"
      ]
    },
    {
      "cell_type": "code",
      "execution_count": null,
      "metadata": {
        "scrolled": false,
        "id": "jep5a2fr6rht"
      },
      "outputs": [],
      "source": [
        "result_df"
      ]
    },
    {
      "cell_type": "markdown",
      "metadata": {
        "id": "AyLLcXMp6rht"
      },
      "source": [
        "To write the data from the data frame into a file, we can use the `to_csv` function."
      ]
    },
    {
      "cell_type": "code",
      "execution_count": null,
      "metadata": {
        "id": "CB4E2H2V6rhu"
      },
      "outputs": [],
      "source": [
        "result_df.to_csv('results.csv', index=None)"
      ]
    },
    {
      "cell_type": "markdown",
      "metadata": {
        "id": "GhXZFgPb6rig"
      },
      "source": [
        "The `to_csv` function also includes an additional column for storing the index of the dataframe by default. We pass `index=None` to turn off this behavior. You can now verify that the `results.csv` is created and contains data from the data frame in CSV format:\n",
        "\n",
        "```\n",
        "date,new_cases,total_cases,new_deaths,total_deaths,new_tests,total_tests,cases_per_million,deaths_per_million,tests_per_million\n",
        "2020-02-27,78.0,400.0,1.0,12.0,,,6.61574439992122,0.1984723319976366,\n",
        "2020-02-28,250.0,650.0,5.0,17.0,,,10.750584649871982,0.28116913699665186,\n",
        "2020-02-29,238.0,888.0,4.0,21.0,,,14.686952567825108,0.34732658099586405,\n",
        "2020-03-01,240.0,1128.0,8.0,29.0,,,18.656399207777838,0.47964146899428844,\n",
        "2020-03-02,561.0,1689.0,6.0,35.0,,,27.93498072866735,0.5788776349931067,\n",
        "2020-03-03,347.0,2036.0,17.0,52.0,,,33.67413899559901,0.8600467719897585,\n",
        "...\n",
        "```"
      ]
    },
    {
      "cell_type": "markdown",
      "metadata": {
        "id": "jJa-97ot6rih"
      },
      "source": [
        "You can find the CSV file in the \"Files\" tab on the project page."
      ]
    },
    {
      "cell_type": "markdown",
      "metadata": {
        "id": "m5HCGLxK6rii"
      },
      "source": [
        "## Bonus: Basic Plotting with Pandas\n",
        "\n",
        "We generally use a library like `matplotlib` or `seaborn` plot graphs within a Jupyter notebook. However, Pandas dataframes & series provide a handy `.plot` method for quick and easy plotting.\n",
        "\n",
        "Let's plot a line graph showing how the number of daily cases varies over time."
      ]
    },
    {
      "cell_type": "code",
      "execution_count": null,
      "metadata": {
        "id": "O1eJPKvk6rii"
      },
      "outputs": [],
      "source": [
        "result_df.new_cases.plot();"
      ]
    },
    {
      "cell_type": "markdown",
      "metadata": {
        "id": "dl-LRUeA6rii"
      },
      "source": [
        "While this plot shows the overall trend, it's hard to tell where the peak occurred, as there are no dates on the X-axis. We can use the `date` column as the index for the data frame to address this issue."
      ]
    },
    {
      "cell_type": "code",
      "execution_count": null,
      "metadata": {
        "id": "2rZQERie6rii"
      },
      "outputs": [],
      "source": [
        "result_df.set_index('date', inplace=True)"
      ]
    },
    {
      "cell_type": "code",
      "execution_count": null,
      "metadata": {
        "id": "iRZWzsz56rij"
      },
      "outputs": [],
      "source": [
        "result_df"
      ]
    },
    {
      "cell_type": "markdown",
      "metadata": {
        "id": "JdSqbMNB6rij"
      },
      "source": [
        "Notice that the index of a data frame doesn't have to be numeric. Using the date as the index also allows us to get the data for a specific data using `.loc`."
      ]
    },
    {
      "cell_type": "code",
      "execution_count": null,
      "metadata": {
        "id": "XPkLmE5H6rij"
      },
      "outputs": [],
      "source": [
        "result_df.loc['2020-09-01']"
      ]
    },
    {
      "cell_type": "markdown",
      "metadata": {
        "id": "5rXGUkzx6rik"
      },
      "source": [
        "Let's plot the new cases & new deaths per day as line graphs."
      ]
    },
    {
      "cell_type": "code",
      "execution_count": null,
      "metadata": {
        "id": "tNPHV9yZ6rik"
      },
      "outputs": [],
      "source": [
        "result_df.new_cases.plot()\n",
        "result_df.new_deaths.plot();"
      ]
    },
    {
      "cell_type": "markdown",
      "metadata": {
        "id": "yU88RXwn6rik"
      },
      "source": [
        "We can also compare the total cases vs. total deaths."
      ]
    },
    {
      "cell_type": "code",
      "execution_count": null,
      "metadata": {
        "id": "kbTHjFz96rik"
      },
      "outputs": [],
      "source": [
        "result_df.total_cases.plot()\n",
        "result_df.total_deaths.plot();"
      ]
    },
    {
      "cell_type": "markdown",
      "metadata": {
        "id": "opfjy4926ril"
      },
      "source": [
        "Let's see how the death rate and positive testing rates vary over time."
      ]
    },
    {
      "cell_type": "code",
      "execution_count": null,
      "metadata": {
        "id": "xW5419Cs6ril"
      },
      "outputs": [],
      "source": [
        "death_rate = result_df.total_deaths / result_df.total_cases"
      ]
    },
    {
      "cell_type": "code",
      "execution_count": null,
      "metadata": {
        "id": "VGthu4mp6ril"
      },
      "outputs": [],
      "source": [
        "death_rate.plot(title='Death Rate');"
      ]
    },
    {
      "cell_type": "code",
      "execution_count": null,
      "metadata": {
        "id": "SgYkPlSg6riy"
      },
      "outputs": [],
      "source": [
        "positive_rates = result_df.total_cases / result_df.total_tests\n",
        "positive_rates.plot(title='Positive Rate');"
      ]
    },
    {
      "cell_type": "markdown",
      "metadata": {
        "id": "J1hoABaR6riy"
      },
      "source": [
        "Finally, let's plot some month-wise data using a bar chart to visualize the trend at a higher level."
      ]
    },
    {
      "cell_type": "code",
      "execution_count": null,
      "metadata": {
        "id": "BfAZbKN66riz"
      },
      "outputs": [],
      "source": [
        "covid_month_df.new_cases.plot(kind='bar');"
      ]
    },
    {
      "cell_type": "code",
      "execution_count": null,
      "metadata": {
        "id": "Cpi3lPie6riz"
      },
      "outputs": [],
      "source": [
        "covid_month_df.new_tests.plot(kind='bar')"
      ]
    },
    {
      "cell_type": "markdown",
      "metadata": {
        "id": "UozlkFYT6ri1"
      },
      "source": [
        "## Exercises\n",
        "\n",
        "Try the following exercises to become familiar with Pandas dataframe and practice your skills:\n",
        "\n",
        "\n",
        "* Try downloading and analyzing some data from Kaggle: https://www.kaggle.com/datasets\n",
        "\n"
      ]
    },
    {
      "cell_type": "markdown",
      "metadata": {
        "id": "G7hQls7n6ri1"
      },
      "source": [
        "## Summary and Further Reading\n",
        "\n",
        "\n",
        "We've covered the following topics in this tutorial:\n",
        "\n",
        "- Reading a CSV file into a Pandas data frame\n",
        "- Retrieving data from Pandas data frames\n",
        "- Querying, soring, and analyzing data\n",
        "- Merging, grouping, and aggregation of data\n",
        "- Extracting useful information from dates\n",
        "- Basic plotting using line and bar charts\n",
        "- Writing data frames to CSV files\n",
        "\n",
        "\n",
        "Check out the following resources to learn more about Pandas:\n",
        "\n",
        "* User guide for Pandas: https://pandas.pydata.org/docs/user_guide/index.html\n",
        "* Python for Data Analysis (book by Wes McKinney - creator of Pandas): https://www.oreilly.com/library/view/python-for-data/9781491957653/\n",
        "\n",
        "You are ready to move on to the next tutorial: [Data Visualization using Matplotlib & Seaborn](https://jovian.ai/aakashns/python-matplotlib-data-visualization)."
      ]
    },
    {
      "cell_type": "markdown",
      "metadata": {
        "id": "1lUoy0r-6ri1"
      },
      "source": [
        "## Questions for Revision\n",
        "\n",
        "Try answering the following questions to test your understanding of the topics covered in this notebook:\n",
        "\n",
        "1. What is Pandas? What makes it useful?\n",
        "2. How do you install the Pandas library?\n",
        "3. How do you import the `pandas` module?\n",
        "4. What is the common alias used while importing the `pandas` module?\n",
        "5. How do you read a CSV file using Pandas? Give an example?\n",
        "6. What are some other file formats you can read using Pandas? Illustrate with examples.\n",
        "7. What are Pandas dataframes?\n",
        "8. How are Pandas dataframes different from Numpy arrays?\n",
        "9. How do you find the number of rows and columns in a dataframe?\n",
        "10. How do you get the list of columns in a dataframe?\n",
        "11. What is the purpose of the `describe` method of a dataframe?\n",
        "12. How are the `info` and `describe` dataframe methods different?\n",
        "13. Is a Pandas dataframe conceptually similar to a list of dictionaries or a dictionary of lists? Explain with an example.\n",
        "14. What is a Pandas `Series`? How is it different from a Numpy array?\n",
        "15. How do you access a column from a dataframe?\n",
        "16. How do you access a row from a dataframe?\n",
        "17. How do you access an element at a specific row & column of a dataframe?\n",
        "18. How do you create a subset of a dataframe with a specific set of columns?\n",
        "19. How do you create a subset of a dataframe with a specific range of rows?\n",
        "20. Does changing a value within a dataframe affect other dataframes created using a subset of the rows or columns? Why is it so?\n",
        "21. How do you create a copy of a dataframe?\n",
        "22. Why should you avoid creating too many copies of a dataframe?\n",
        "23. How do you view the first few rows of a dataframe?\n",
        "24. How do you view the last few rows of a dataframe?\n",
        "25. How do you view a random selection of rows of a dataframe?\n",
        "26. What is the \"index\" in a dataframe? How is it useful?\n",
        "27. What does a `NaN` value in a Pandas dataframe represent?\n",
        "28. How is `Nan` different from `0`?\n",
        "29. How do you identify the first non-empty row in a Pandas series or column?\n",
        "30. What is the difference between `df.loc` and `df.at`?\n",
        "31. Where can you find a full list of methods supported by Pandas `DataFrame` and `Series` objects?\n",
        "32. How do you find the sum of numbers in a column of dataframe?\n",
        "33. How do you find the mean of numbers in a column of a dataframe?\n",
        "34. How do you find the number of non-empty numbers in a column of a dataframe?\n",
        "35. What is the result obtained by using a Pandas column in a boolean expression? Illustrate with an example.\n",
        "36. How do you select a subset of rows where a specific column's value meets a given condition? Illustrate with an example.\n",
        "37. What is the result of the expression `df[df.new_cases > 100]` ?\n",
        "38. How do you display all the rows of a pandas dataframe in a Jupyter cell output?\n",
        "39. What is the result obtained when you perform an arithmetic operation between two columns of a dataframe? Illustrate with an example.\n",
        "40. How do you add a new column to a dataframe by combining values from two existing columns? Illustrate with an example.\n",
        "41. How do you remove a column from a dataframe? Illustrate with an example.\n",
        "42. What is the purpose of the `inplace` argument in dataframe methods?\n",
        "43. How do you sort the rows of a dataframe based on the values in a particular column?\n",
        "44. How do you sort a pandas dataframe using values from multiple columns?\n",
        "45. How do you specify whether to sort by ascending or descending order while sorting a Pandas dataframe?\n",
        "46. How do you change a specific value within a dataframe?\n",
        "47. How do you convert a dataframe column to the `datetime` data type?\n",
        "48. What are the benefits of using the `datetime` data type instead of `object`?\n",
        "49. How do you extract different parts of a date column like the month, year, month, weekday, etc., into separate columns? Illustrate with an example.\n",
        "50. How do you aggregate multiple columns of a dataframe together?\n",
        "51. What is the purpose of the `groupby` method of a dataframe? Illustrate with an example.\n",
        "52. What are the different ways in which you can aggregate the groups created by `groupby`?\n",
        "53. What do you mean by a running or cumulative sum?\n",
        "54. How do you create a new column containing the running or cumulative sum of another column?\n",
        "55. What are other cumulative measures supported by Pandas dataframes?\n",
        "56. What does it mean to merge two dataframes? Give an example.\n",
        "57. How do you specify the columns that should be used for merging two dataframes?\n",
        "58. How do you write data from a Pandas dataframe into a CSV file? Give an example.\n",
        "59. What are some other file formats you can write to from a Pandas dataframe? Illustrate with examples.\n",
        "60. How do you create a line plot showing the values within a column of dataframe?\n",
        "61. How do you convert a column of a dataframe into its index?\n",
        "62. Can the index of a dataframe be non-numeric?\n",
        "63. What are the benefits of using a non-numeric dataframe? Illustrate with an example.\n",
        "64. How you create a bar plot showing the values within a column of a dataframe?\n",
        "65. What are some other types of plots supported by Pandas dataframes and series?\n"
      ]
    },
    {
      "cell_type": "code",
      "execution_count": null,
      "metadata": {
        "id": "RTy8Xj576ri2"
      },
      "outputs": [],
      "source": []
    }
  ],
  "metadata": {
    "kernelspec": {
      "display_name": "Python 3",
      "language": "python",
      "name": "python3"
    },
    "language_info": {
      "codemirror_mode": {
        "name": "ipython",
        "version": 3
      },
      "file_extension": ".py",
      "mimetype": "text/x-python",
      "name": "python",
      "nbconvert_exporter": "python",
      "pygments_lexer": "ipython3",
      "version": "3.8.6"
    },
    "colab": {
      "provenance": [],
      "toc_visible": true,
      "include_colab_link": true
    }
  },
  "nbformat": 4,
  "nbformat_minor": 0
}