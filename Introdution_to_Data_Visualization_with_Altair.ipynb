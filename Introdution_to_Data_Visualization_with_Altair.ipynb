{
  "nbformat": 4,
  "nbformat_minor": 0,
  "metadata": {
    "colab": {
      "provenance": [],
      "toc_visible": true,
      "authorship_tag": "ABX9TyMf1F8FP7L21yUQKgHmfqa9",
      "include_colab_link": true
    },
    "kernelspec": {
      "name": "python3",
      "display_name": "Python 3"
    },
    "language_info": {
      "name": "python"
    }
  },
  "cells": [
    {
      "cell_type": "markdown",
      "metadata": {
        "id": "view-in-github",
        "colab_type": "text"
      },
      "source": [
        "<a href=\"https://colab.research.google.com/github/mehrnazh/PythonVisualization/blob/main/Introdution_to_Data_Visualization_with_Altair.ipynb\" target=\"_parent\"><img src=\"https://colab.research.google.com/assets/colab-badge.svg\" alt=\"Open In Colab\"/></a>"
      ]
    },
    {
      "cell_type": "markdown",
      "source": [
        "# Introdution to Data Visualization with Altair\n",
        "\n",
        "By Mehrnaz Hosseinzadeh M.D., National Brain Centre, Mental Health Research Centre, IUMS\n",
        "\n",
        "\n",
        "---\n",
        "\n"
      ],
      "metadata": {
        "id": "Q3RgeIQWDMMj"
      }
    },
    {
      "cell_type": "markdown",
      "source": [
        "# Installation"
      ],
      "metadata": {
        "id": "teRclP2kIL5H"
      }
    },
    {
      "cell_type": "code",
      "execution_count": null,
      "metadata": {
        "colab": {
          "base_uri": "https://localhost:8080/"
        },
        "id": "36U3RzpXIFwk",
        "outputId": "aa896286-42e6-4d00-c835-c7e37804f1fa"
      },
      "outputs": [
        {
          "output_type": "stream",
          "name": "stdout",
          "text": [
            "Requirement already satisfied: altair in /usr/local/lib/python3.10/dist-packages (4.2.2)\n",
            "Requirement already satisfied: entrypoints in /usr/local/lib/python3.10/dist-packages (from altair) (0.4)\n",
            "Requirement already satisfied: jinja2 in /usr/local/lib/python3.10/dist-packages (from altair) (3.1.4)\n",
            "Requirement already satisfied: jsonschema>=3.0 in /usr/local/lib/python3.10/dist-packages (from altair) (4.19.2)\n",
            "Requirement already satisfied: numpy in /usr/local/lib/python3.10/dist-packages (from altair) (1.25.2)\n",
            "Requirement already satisfied: pandas>=0.18 in /usr/local/lib/python3.10/dist-packages (from altair) (2.0.3)\n",
            "Requirement already satisfied: toolz in /usr/local/lib/python3.10/dist-packages (from altair) (0.12.1)\n",
            "Requirement already satisfied: attrs>=22.2.0 in /usr/local/lib/python3.10/dist-packages (from jsonschema>=3.0->altair) (23.2.0)\n",
            "Requirement already satisfied: jsonschema-specifications>=2023.03.6 in /usr/local/lib/python3.10/dist-packages (from jsonschema>=3.0->altair) (2023.12.1)\n",
            "Requirement already satisfied: referencing>=0.28.4 in /usr/local/lib/python3.10/dist-packages (from jsonschema>=3.0->altair) (0.35.1)\n",
            "Requirement already satisfied: rpds-py>=0.7.1 in /usr/local/lib/python3.10/dist-packages (from jsonschema>=3.0->altair) (0.19.0)\n",
            "Requirement already satisfied: python-dateutil>=2.8.2 in /usr/local/lib/python3.10/dist-packages (from pandas>=0.18->altair) (2.8.2)\n",
            "Requirement already satisfied: pytz>=2020.1 in /usr/local/lib/python3.10/dist-packages (from pandas>=0.18->altair) (2023.4)\n",
            "Requirement already satisfied: tzdata>=2022.1 in /usr/local/lib/python3.10/dist-packages (from pandas>=0.18->altair) (2024.1)\n",
            "Requirement already satisfied: MarkupSafe>=2.0 in /usr/local/lib/python3.10/dist-packages (from jinja2->altair) (2.1.5)\n",
            "Requirement already satisfied: six>=1.5 in /usr/local/lib/python3.10/dist-packages (from python-dateutil>=2.8.2->pandas>=0.18->altair) (1.16.0)\n",
            "Requirement already satisfied: vega_datasets in /usr/local/lib/python3.10/dist-packages (0.9.0)\n",
            "Requirement already satisfied: pandas in /usr/local/lib/python3.10/dist-packages (from vega_datasets) (2.0.3)\n",
            "Requirement already satisfied: python-dateutil>=2.8.2 in /usr/local/lib/python3.10/dist-packages (from pandas->vega_datasets) (2.8.2)\n",
            "Requirement already satisfied: pytz>=2020.1 in /usr/local/lib/python3.10/dist-packages (from pandas->vega_datasets) (2023.4)\n",
            "Requirement already satisfied: tzdata>=2022.1 in /usr/local/lib/python3.10/dist-packages (from pandas->vega_datasets) (2024.1)\n",
            "Requirement already satisfied: numpy>=1.21.0 in /usr/local/lib/python3.10/dist-packages (from pandas->vega_datasets) (1.25.2)\n",
            "Requirement already satisfied: six>=1.5 in /usr/local/lib/python3.10/dist-packages (from python-dateutil>=2.8.2->pandas->vega_datasets) (1.16.0)\n"
          ]
        }
      ],
      "source": [
        "!pip install altair\n",
        "!pip install vega_datasets"
      ]
    },
    {
      "cell_type": "markdown",
      "source": [
        "We are going to use datasets from the vega_datasets package. To install, following command should be employed:"
      ],
      "metadata": {
        "id": "2-9b_f3OJdfb"
      }
    },
    {
      "cell_type": "code",
      "source": [
        "# Importing altair and pandas library\n",
        "import altair as alt\n",
        "import pandas as pd"
      ],
      "metadata": {
        "id": "R-o19x8iM_GU"
      },
      "execution_count": null,
      "outputs": []
    },
    {
      "cell_type": "markdown",
      "source": [
        "# Example"
      ],
      "metadata": {
        "id": "2PSoq1BjNSQ3"
      }
    },
    {
      "cell_type": "markdown",
      "source": [
        "## Example 1: Simple Bar Chart"
      ],
      "metadata": {
        "id": "4IYpMJNwNWdN"
      }
    },
    {
      "cell_type": "markdown",
      "source": [
        "Let's create a Pandas DataFrame and understand it"
      ],
      "metadata": {
        "id": "bxED4E4LLFSD"
      }
    },
    {
      "cell_type": "code",
      "source": [
        "# Making a Pandas DataFrame\n",
        "score_data = pd.DataFrame({\n",
        "    'Website': ['StackOverflow', 'FreeCodeCamp',\n",
        "                'GeeksForGeeks', 'MDN', 'CodeAcademy'],\n",
        "    'Score': [65, 50, 99, 75, 33]\n",
        "})\n",
        "\n",
        "score_data"
      ],
      "metadata": {
        "colab": {
          "base_uri": "https://localhost:8080/",
          "height": 206
        },
        "id": "zSACEgLzNRZC",
        "outputId": "09d2c18b-9322-4bbf-8979-b2ea705c115f"
      },
      "execution_count": null,
      "outputs": [
        {
          "output_type": "execute_result",
          "data": {
            "text/plain": [
              "         Website  Score\n",
              "0  StackOverflow     65\n",
              "1   FreeCodeCamp     50\n",
              "2  GeeksForGeeks     99\n",
              "3            MDN     75\n",
              "4    CodeAcademy     33"
            ],
            "text/html": [
              "\n",
              "  <div id=\"df-b9af46f2-c8fe-4da2-a34f-f1af9b9e6847\" class=\"colab-df-container\">\n",
              "    <div>\n",
              "<style scoped>\n",
              "    .dataframe tbody tr th:only-of-type {\n",
              "        vertical-align: middle;\n",
              "    }\n",
              "\n",
              "    .dataframe tbody tr th {\n",
              "        vertical-align: top;\n",
              "    }\n",
              "\n",
              "    .dataframe thead th {\n",
              "        text-align: right;\n",
              "    }\n",
              "</style>\n",
              "<table border=\"1\" class=\"dataframe\">\n",
              "  <thead>\n",
              "    <tr style=\"text-align: right;\">\n",
              "      <th></th>\n",
              "      <th>Website</th>\n",
              "      <th>Score</th>\n",
              "    </tr>\n",
              "  </thead>\n",
              "  <tbody>\n",
              "    <tr>\n",
              "      <th>0</th>\n",
              "      <td>StackOverflow</td>\n",
              "      <td>65</td>\n",
              "    </tr>\n",
              "    <tr>\n",
              "      <th>1</th>\n",
              "      <td>FreeCodeCamp</td>\n",
              "      <td>50</td>\n",
              "    </tr>\n",
              "    <tr>\n",
              "      <th>2</th>\n",
              "      <td>GeeksForGeeks</td>\n",
              "      <td>99</td>\n",
              "    </tr>\n",
              "    <tr>\n",
              "      <th>3</th>\n",
              "      <td>MDN</td>\n",
              "      <td>75</td>\n",
              "    </tr>\n",
              "    <tr>\n",
              "      <th>4</th>\n",
              "      <td>CodeAcademy</td>\n",
              "      <td>33</td>\n",
              "    </tr>\n",
              "  </tbody>\n",
              "</table>\n",
              "</div>\n",
              "    <div class=\"colab-df-buttons\">\n",
              "\n",
              "  <div class=\"colab-df-container\">\n",
              "    <button class=\"colab-df-convert\" onclick=\"convertToInteractive('df-b9af46f2-c8fe-4da2-a34f-f1af9b9e6847')\"\n",
              "            title=\"Convert this dataframe to an interactive table.\"\n",
              "            style=\"display:none;\">\n",
              "\n",
              "  <svg xmlns=\"http://www.w3.org/2000/svg\" height=\"24px\" viewBox=\"0 -960 960 960\">\n",
              "    <path d=\"M120-120v-720h720v720H120Zm60-500h600v-160H180v160Zm220 220h160v-160H400v160Zm0 220h160v-160H400v160ZM180-400h160v-160H180v160Zm440 0h160v-160H620v160ZM180-180h160v-160H180v160Zm440 0h160v-160H620v160Z\"/>\n",
              "  </svg>\n",
              "    </button>\n",
              "\n",
              "  <style>\n",
              "    .colab-df-container {\n",
              "      display:flex;\n",
              "      gap: 12px;\n",
              "    }\n",
              "\n",
              "    .colab-df-convert {\n",
              "      background-color: #E8F0FE;\n",
              "      border: none;\n",
              "      border-radius: 50%;\n",
              "      cursor: pointer;\n",
              "      display: none;\n",
              "      fill: #1967D2;\n",
              "      height: 32px;\n",
              "      padding: 0 0 0 0;\n",
              "      width: 32px;\n",
              "    }\n",
              "\n",
              "    .colab-df-convert:hover {\n",
              "      background-color: #E2EBFA;\n",
              "      box-shadow: 0px 1px 2px rgba(60, 64, 67, 0.3), 0px 1px 3px 1px rgba(60, 64, 67, 0.15);\n",
              "      fill: #174EA6;\n",
              "    }\n",
              "\n",
              "    .colab-df-buttons div {\n",
              "      margin-bottom: 4px;\n",
              "    }\n",
              "\n",
              "    [theme=dark] .colab-df-convert {\n",
              "      background-color: #3B4455;\n",
              "      fill: #D2E3FC;\n",
              "    }\n",
              "\n",
              "    [theme=dark] .colab-df-convert:hover {\n",
              "      background-color: #434B5C;\n",
              "      box-shadow: 0px 1px 3px 1px rgba(0, 0, 0, 0.15);\n",
              "      filter: drop-shadow(0px 1px 2px rgba(0, 0, 0, 0.3));\n",
              "      fill: #FFFFFF;\n",
              "    }\n",
              "  </style>\n",
              "\n",
              "    <script>\n",
              "      const buttonEl =\n",
              "        document.querySelector('#df-b9af46f2-c8fe-4da2-a34f-f1af9b9e6847 button.colab-df-convert');\n",
              "      buttonEl.style.display =\n",
              "        google.colab.kernel.accessAllowed ? 'block' : 'none';\n",
              "\n",
              "      async function convertToInteractive(key) {\n",
              "        const element = document.querySelector('#df-b9af46f2-c8fe-4da2-a34f-f1af9b9e6847');\n",
              "        const dataTable =\n",
              "          await google.colab.kernel.invokeFunction('convertToInteractive',\n",
              "                                                    [key], {});\n",
              "        if (!dataTable) return;\n",
              "\n",
              "        const docLinkHtml = 'Like what you see? Visit the ' +\n",
              "          '<a target=\"_blank\" href=https://colab.research.google.com/notebooks/data_table.ipynb>data table notebook</a>'\n",
              "          + ' to learn more about interactive tables.';\n",
              "        element.innerHTML = '';\n",
              "        dataTable['output_type'] = 'display_data';\n",
              "        await google.colab.output.renderOutput(dataTable, element);\n",
              "        const docLink = document.createElement('div');\n",
              "        docLink.innerHTML = docLinkHtml;\n",
              "        element.appendChild(docLink);\n",
              "      }\n",
              "    </script>\n",
              "  </div>\n",
              "\n",
              "\n",
              "<div id=\"df-71db981c-5d73-4c22-87ed-5963a4f42feb\">\n",
              "  <button class=\"colab-df-quickchart\" onclick=\"quickchart('df-71db981c-5d73-4c22-87ed-5963a4f42feb')\"\n",
              "            title=\"Suggest charts\"\n",
              "            style=\"display:none;\">\n",
              "\n",
              "<svg xmlns=\"http://www.w3.org/2000/svg\" height=\"24px\"viewBox=\"0 0 24 24\"\n",
              "     width=\"24px\">\n",
              "    <g>\n",
              "        <path d=\"M19 3H5c-1.1 0-2 .9-2 2v14c0 1.1.9 2 2 2h14c1.1 0 2-.9 2-2V5c0-1.1-.9-2-2-2zM9 17H7v-7h2v7zm4 0h-2V7h2v10zm4 0h-2v-4h2v4z\"/>\n",
              "    </g>\n",
              "</svg>\n",
              "  </button>\n",
              "\n",
              "<style>\n",
              "  .colab-df-quickchart {\n",
              "      --bg-color: #E8F0FE;\n",
              "      --fill-color: #1967D2;\n",
              "      --hover-bg-color: #E2EBFA;\n",
              "      --hover-fill-color: #174EA6;\n",
              "      --disabled-fill-color: #AAA;\n",
              "      --disabled-bg-color: #DDD;\n",
              "  }\n",
              "\n",
              "  [theme=dark] .colab-df-quickchart {\n",
              "      --bg-color: #3B4455;\n",
              "      --fill-color: #D2E3FC;\n",
              "      --hover-bg-color: #434B5C;\n",
              "      --hover-fill-color: #FFFFFF;\n",
              "      --disabled-bg-color: #3B4455;\n",
              "      --disabled-fill-color: #666;\n",
              "  }\n",
              "\n",
              "  .colab-df-quickchart {\n",
              "    background-color: var(--bg-color);\n",
              "    border: none;\n",
              "    border-radius: 50%;\n",
              "    cursor: pointer;\n",
              "    display: none;\n",
              "    fill: var(--fill-color);\n",
              "    height: 32px;\n",
              "    padding: 0;\n",
              "    width: 32px;\n",
              "  }\n",
              "\n",
              "  .colab-df-quickchart:hover {\n",
              "    background-color: var(--hover-bg-color);\n",
              "    box-shadow: 0 1px 2px rgba(60, 64, 67, 0.3), 0 1px 3px 1px rgba(60, 64, 67, 0.15);\n",
              "    fill: var(--button-hover-fill-color);\n",
              "  }\n",
              "\n",
              "  .colab-df-quickchart-complete:disabled,\n",
              "  .colab-df-quickchart-complete:disabled:hover {\n",
              "    background-color: var(--disabled-bg-color);\n",
              "    fill: var(--disabled-fill-color);\n",
              "    box-shadow: none;\n",
              "  }\n",
              "\n",
              "  .colab-df-spinner {\n",
              "    border: 2px solid var(--fill-color);\n",
              "    border-color: transparent;\n",
              "    border-bottom-color: var(--fill-color);\n",
              "    animation:\n",
              "      spin 1s steps(1) infinite;\n",
              "  }\n",
              "\n",
              "  @keyframes spin {\n",
              "    0% {\n",
              "      border-color: transparent;\n",
              "      border-bottom-color: var(--fill-color);\n",
              "      border-left-color: var(--fill-color);\n",
              "    }\n",
              "    20% {\n",
              "      border-color: transparent;\n",
              "      border-left-color: var(--fill-color);\n",
              "      border-top-color: var(--fill-color);\n",
              "    }\n",
              "    30% {\n",
              "      border-color: transparent;\n",
              "      border-left-color: var(--fill-color);\n",
              "      border-top-color: var(--fill-color);\n",
              "      border-right-color: var(--fill-color);\n",
              "    }\n",
              "    40% {\n",
              "      border-color: transparent;\n",
              "      border-right-color: var(--fill-color);\n",
              "      border-top-color: var(--fill-color);\n",
              "    }\n",
              "    60% {\n",
              "      border-color: transparent;\n",
              "      border-right-color: var(--fill-color);\n",
              "    }\n",
              "    80% {\n",
              "      border-color: transparent;\n",
              "      border-right-color: var(--fill-color);\n",
              "      border-bottom-color: var(--fill-color);\n",
              "    }\n",
              "    90% {\n",
              "      border-color: transparent;\n",
              "      border-bottom-color: var(--fill-color);\n",
              "    }\n",
              "  }\n",
              "</style>\n",
              "\n",
              "  <script>\n",
              "    async function quickchart(key) {\n",
              "      const quickchartButtonEl =\n",
              "        document.querySelector('#' + key + ' button');\n",
              "      quickchartButtonEl.disabled = true;  // To prevent multiple clicks.\n",
              "      quickchartButtonEl.classList.add('colab-df-spinner');\n",
              "      try {\n",
              "        const charts = await google.colab.kernel.invokeFunction(\n",
              "            'suggestCharts', [key], {});\n",
              "      } catch (error) {\n",
              "        console.error('Error during call to suggestCharts:', error);\n",
              "      }\n",
              "      quickchartButtonEl.classList.remove('colab-df-spinner');\n",
              "      quickchartButtonEl.classList.add('colab-df-quickchart-complete');\n",
              "    }\n",
              "    (() => {\n",
              "      let quickchartButtonEl =\n",
              "        document.querySelector('#df-71db981c-5d73-4c22-87ed-5963a4f42feb button');\n",
              "      quickchartButtonEl.style.display =\n",
              "        google.colab.kernel.accessAllowed ? 'block' : 'none';\n",
              "    })();\n",
              "  </script>\n",
              "</div>\n",
              "    </div>\n",
              "  </div>\n"
            ],
            "application/vnd.google.colaboratory.intrinsic+json": {
              "type": "dataframe",
              "variable_name": "score_data",
              "summary": "{\n  \"name\": \"score_data\",\n  \"rows\": 5,\n  \"fields\": [\n    {\n      \"column\": \"Website\",\n      \"properties\": {\n        \"dtype\": \"string\",\n        \"num_unique_values\": 5,\n        \"samples\": [\n          \"FreeCodeCamp\",\n          \"CodeAcademy\",\n          \"GeeksForGeeks\"\n        ],\n        \"semantic_type\": \"\",\n        \"description\": \"\"\n      }\n    },\n    {\n      \"column\": \"Score\",\n      \"properties\": {\n        \"dtype\": \"number\",\n        \"std\": 25,\n        \"min\": 33,\n        \"max\": 99,\n        \"num_unique_values\": 5,\n        \"samples\": [\n          50,\n          33,\n          99\n        ],\n        \"semantic_type\": \"\",\n        \"description\": \"\"\n      }\n    }\n  ]\n}"
            }
          },
          "metadata": {},
          "execution_count": 3
        }
      ]
    },
    {
      "cell_type": "markdown",
      "source": [
        "Now lets make an altair chart for it"
      ],
      "metadata": {
        "id": "bjrbLgW8LNtw"
      }
    },
    {
      "cell_type": "code",
      "source": [
        "# Making the Simple Bar Chart\n",
        "alt.Chart(score_data).mark_bar().encode(\n",
        "    # Mapping the Website column to x-axis\n",
        "    x='Website',\n",
        "    # Mapping the Score column to y-axis\n",
        "    y='Score'\n",
        ")"
      ],
      "metadata": {
        "colab": {
          "base_uri": "https://localhost:8080/",
          "height": 431
        },
        "id": "89jAJl1zKcCn",
        "outputId": "a8d6ec9b-aad8-418b-8af6-3c5de549be04"
      },
      "execution_count": null,
      "outputs": [
        {
          "output_type": "execute_result",
          "data": {
            "text/html": [
              "\n",
              "<div id=\"altair-viz-726491e4807447fca7152570ec71fd6c\"></div>\n",
              "<script type=\"text/javascript\">\n",
              "  var VEGA_DEBUG = (typeof VEGA_DEBUG == \"undefined\") ? {} : VEGA_DEBUG;\n",
              "  (function(spec, embedOpt){\n",
              "    let outputDiv = document.currentScript.previousElementSibling;\n",
              "    if (outputDiv.id !== \"altair-viz-726491e4807447fca7152570ec71fd6c\") {\n",
              "      outputDiv = document.getElementById(\"altair-viz-726491e4807447fca7152570ec71fd6c\");\n",
              "    }\n",
              "    const paths = {\n",
              "      \"vega\": \"https://cdn.jsdelivr.net/npm//vega@5?noext\",\n",
              "      \"vega-lib\": \"https://cdn.jsdelivr.net/npm//vega-lib?noext\",\n",
              "      \"vega-lite\": \"https://cdn.jsdelivr.net/npm//vega-lite@4.17.0?noext\",\n",
              "      \"vega-embed\": \"https://cdn.jsdelivr.net/npm//vega-embed@6?noext\",\n",
              "    };\n",
              "\n",
              "    function maybeLoadScript(lib, version) {\n",
              "      var key = `${lib.replace(\"-\", \"\")}_version`;\n",
              "      return (VEGA_DEBUG[key] == version) ?\n",
              "        Promise.resolve(paths[lib]) :\n",
              "        new Promise(function(resolve, reject) {\n",
              "          var s = document.createElement('script');\n",
              "          document.getElementsByTagName(\"head\")[0].appendChild(s);\n",
              "          s.async = true;\n",
              "          s.onload = () => {\n",
              "            VEGA_DEBUG[key] = version;\n",
              "            return resolve(paths[lib]);\n",
              "          };\n",
              "          s.onerror = () => reject(`Error loading script: ${paths[lib]}`);\n",
              "          s.src = paths[lib];\n",
              "        });\n",
              "    }\n",
              "\n",
              "    function showError(err) {\n",
              "      outputDiv.innerHTML = `<div class=\"error\" style=\"color:red;\">${err}</div>`;\n",
              "      throw err;\n",
              "    }\n",
              "\n",
              "    function displayChart(vegaEmbed) {\n",
              "      vegaEmbed(outputDiv, spec, embedOpt)\n",
              "        .catch(err => showError(`Javascript Error: ${err.message}<br>This usually means there's a typo in your chart specification. See the javascript console for the full traceback.`));\n",
              "    }\n",
              "\n",
              "    if(typeof define === \"function\" && define.amd) {\n",
              "      requirejs.config({paths});\n",
              "      require([\"vega-embed\"], displayChart, err => showError(`Error loading script: ${err.message}`));\n",
              "    } else {\n",
              "      maybeLoadScript(\"vega\", \"5\")\n",
              "        .then(() => maybeLoadScript(\"vega-lite\", \"4.17.0\"))\n",
              "        .then(() => maybeLoadScript(\"vega-embed\", \"6\"))\n",
              "        .catch(showError)\n",
              "        .then(() => displayChart(vegaEmbed));\n",
              "    }\n",
              "  })({\"config\": {\"view\": {\"continuousWidth\": 400, \"continuousHeight\": 300}}, \"data\": {\"name\": \"data-412c7d720a7f1c2695612f6321b31efa\"}, \"mark\": \"bar\", \"encoding\": {\"x\": {\"field\": \"Website\", \"type\": \"nominal\"}, \"y\": {\"field\": \"Score\", \"type\": \"quantitative\"}}, \"$schema\": \"https://vega.github.io/schema/vega-lite/v4.17.0.json\", \"datasets\": {\"data-412c7d720a7f1c2695612f6321b31efa\": [{\"Website\": \"StackOverflow\", \"Score\": 65}, {\"Website\": \"FreeCodeCamp\", \"Score\": 50}, {\"Website\": \"GeeksForGeeks\", \"Score\": 99}, {\"Website\": \"MDN\", \"Score\": 75}, {\"Website\": \"CodeAcademy\", \"Score\": 33}]}}, {\"mode\": \"vega-lite\"});\n",
              "</script>"
            ],
            "text/plain": [
              "alt.Chart(...)"
            ]
          },
          "metadata": {},
          "execution_count": 4
        }
      ]
    },
    {
      "cell_type": "markdown",
      "source": [
        "Think!\n",
        "* What is a DataFrame in Pandas? Why do we use it?\n",
        "* How would you add a new column to this DataFrame, for example, a column for the type of resource (forum, tutorial, documentation)?\n",
        "* Can you modify the 'Score' values to change the data?\n",
        "* What does alt.Chart() do?\n",
        "* What is the purpose of mark_bar() in the code?\n",
        "* How does encode() function work in Altair? What does mapping columns to axes mean?\n",
        "\n",
        "\n",
        "Experimentation\n",
        "* Add a new column called 'Type' with values ['Forum', 'Tutorial', 'Tutorial', 'Documentation', 'Tutorial'].\n",
        "* Modify the chart to display the 'Type' column on the x-axis and 'Score' on the y-axis.\n",
        "* change the color of the bars based on the 'Website' column?\n",
        "* How would you sort the bars in descending order of the 'Score'?\n",
        "* can you think of other ways to visualize this data?"
      ],
      "metadata": {
        "id": "YGYVrYHkOoPs"
      }
    },
    {
      "cell_type": "code",
      "source": [
        "# start experimenting with the code here"
      ],
      "metadata": {
        "id": "5ZSD_p3nMIse"
      },
      "execution_count": null,
      "outputs": []
    },
    {
      "cell_type": "code",
      "source": [
        "# @title click for solution\n",
        "\n",
        "score_data['Type'] = ['Forum', 'Tutorial', 'Tutorial', 'Documentation', 'Tutorial']\n",
        "\n",
        "alt.Chart(score_data).mark_bar().encode(\n",
        "    x='Type',\n",
        "    y='Score',\n",
        "    color='Type'\n",
        ")"
      ],
      "metadata": {
        "colab": {
          "base_uri": "https://localhost:8080/",
          "height": 426
        },
        "id": "53zajq_OQavH",
        "outputId": "51e9a068-4f5e-4f24-c479-6e9e0e356e2e"
      },
      "execution_count": null,
      "outputs": [
        {
          "output_type": "execute_result",
          "data": {
            "text/html": [
              "\n",
              "<div id=\"altair-viz-0ea9f606f10b4a1f983c726a250e6455\"></div>\n",
              "<script type=\"text/javascript\">\n",
              "  var VEGA_DEBUG = (typeof VEGA_DEBUG == \"undefined\") ? {} : VEGA_DEBUG;\n",
              "  (function(spec, embedOpt){\n",
              "    let outputDiv = document.currentScript.previousElementSibling;\n",
              "    if (outputDiv.id !== \"altair-viz-0ea9f606f10b4a1f983c726a250e6455\") {\n",
              "      outputDiv = document.getElementById(\"altair-viz-0ea9f606f10b4a1f983c726a250e6455\");\n",
              "    }\n",
              "    const paths = {\n",
              "      \"vega\": \"https://cdn.jsdelivr.net/npm//vega@5?noext\",\n",
              "      \"vega-lib\": \"https://cdn.jsdelivr.net/npm//vega-lib?noext\",\n",
              "      \"vega-lite\": \"https://cdn.jsdelivr.net/npm//vega-lite@4.17.0?noext\",\n",
              "      \"vega-embed\": \"https://cdn.jsdelivr.net/npm//vega-embed@6?noext\",\n",
              "    };\n",
              "\n",
              "    function maybeLoadScript(lib, version) {\n",
              "      var key = `${lib.replace(\"-\", \"\")}_version`;\n",
              "      return (VEGA_DEBUG[key] == version) ?\n",
              "        Promise.resolve(paths[lib]) :\n",
              "        new Promise(function(resolve, reject) {\n",
              "          var s = document.createElement('script');\n",
              "          document.getElementsByTagName(\"head\")[0].appendChild(s);\n",
              "          s.async = true;\n",
              "          s.onload = () => {\n",
              "            VEGA_DEBUG[key] = version;\n",
              "            return resolve(paths[lib]);\n",
              "          };\n",
              "          s.onerror = () => reject(`Error loading script: ${paths[lib]}`);\n",
              "          s.src = paths[lib];\n",
              "        });\n",
              "    }\n",
              "\n",
              "    function showError(err) {\n",
              "      outputDiv.innerHTML = `<div class=\"error\" style=\"color:red;\">${err}</div>`;\n",
              "      throw err;\n",
              "    }\n",
              "\n",
              "    function displayChart(vegaEmbed) {\n",
              "      vegaEmbed(outputDiv, spec, embedOpt)\n",
              "        .catch(err => showError(`Javascript Error: ${err.message}<br>This usually means there's a typo in your chart specification. See the javascript console for the full traceback.`));\n",
              "    }\n",
              "\n",
              "    if(typeof define === \"function\" && define.amd) {\n",
              "      requirejs.config({paths});\n",
              "      require([\"vega-embed\"], displayChart, err => showError(`Error loading script: ${err.message}`));\n",
              "    } else {\n",
              "      maybeLoadScript(\"vega\", \"5\")\n",
              "        .then(() => maybeLoadScript(\"vega-lite\", \"4.17.0\"))\n",
              "        .then(() => maybeLoadScript(\"vega-embed\", \"6\"))\n",
              "        .catch(showError)\n",
              "        .then(() => displayChart(vegaEmbed));\n",
              "    }\n",
              "  })({\"config\": {\"view\": {\"continuousWidth\": 400, \"continuousHeight\": 300}}, \"data\": {\"name\": \"data-747a45079e1f4573dd2617835f1f9303\"}, \"mark\": \"bar\", \"encoding\": {\"color\": {\"field\": \"Type\", \"type\": \"nominal\"}, \"x\": {\"field\": \"Type\", \"type\": \"nominal\"}, \"y\": {\"field\": \"Score\", \"type\": \"quantitative\"}}, \"$schema\": \"https://vega.github.io/schema/vega-lite/v4.17.0.json\", \"datasets\": {\"data-747a45079e1f4573dd2617835f1f9303\": [{\"Website\": \"StackOverflow\", \"Score\": 65, \"Type\": \"Forum\"}, {\"Website\": \"FreeCodeCamp\", \"Score\": 50, \"Type\": \"Tutorial\"}, {\"Website\": \"GeeksForGeeks\", \"Score\": 99, \"Type\": \"Tutorial\"}, {\"Website\": \"MDN\", \"Score\": 75, \"Type\": \"Documentation\"}, {\"Website\": \"CodeAcademy\", \"Score\": 33, \"Type\": \"Tutorial\"}]}}, {\"mode\": \"vega-lite\"});\n",
              "</script>"
            ],
            "text/plain": [
              "alt.Chart(...)"
            ]
          },
          "metadata": {},
          "execution_count": 6
        }
      ]
    },
    {
      "cell_type": "markdown",
      "source": [
        "## Example 2: Scatter Plot"
      ],
      "metadata": {
        "id": "sp40kMYVNrSM"
      }
    },
    {
      "cell_type": "markdown",
      "source": [
        "In this example, we will visualize the iris dataset from the vega_datasets library in the form of a scatter plot. The mark method used for scatter plot in this example is mark_point(). For this bi-variate analysis, we map the sepalLength and petalLength columns to the x and y axes encoding. Further, to differentiate the points from each other, we map the shape encoding to the species column."
      ],
      "metadata": {
        "id": "CrSu_2e0Nu10"
      }
    },
    {
      "cell_type": "code",
      "source": [
        "# Import data object from vega_datasets\n",
        "from vega_datasets import data\n",
        "\n",
        "# Selecting the data\n",
        "iris = data.iris()\n",
        "\n",
        "# Making the Scatter Plot\n",
        "alt.Chart(iris).mark_point().encode(\n",
        "\t# Map the sepalLength to x-axis\n",
        "\tx='sepalLength',\n",
        "\t# Map the petalLength to y-axis\n",
        "\ty='petalLength',\n",
        "\t# Map the species to shape\n",
        "\tcolor='species'   #you can also encode speces as different shape\n",
        ")"
      ],
      "metadata": {
        "colab": {
          "base_uri": "https://localhost:8080/",
          "height": 368
        },
        "id": "IFUAG3PwN5BY",
        "outputId": "f8bc05f4-7cd8-4696-f966-cdc743b06d5f"
      },
      "execution_count": null,
      "outputs": [
        {
          "output_type": "execute_result",
          "data": {
            "text/html": [
              "\n",
              "<div id=\"altair-viz-0cf5b6e728d14ad1839d8e10f9e71944\"></div>\n",
              "<script type=\"text/javascript\">\n",
              "  var VEGA_DEBUG = (typeof VEGA_DEBUG == \"undefined\") ? {} : VEGA_DEBUG;\n",
              "  (function(spec, embedOpt){\n",
              "    let outputDiv = document.currentScript.previousElementSibling;\n",
              "    if (outputDiv.id !== \"altair-viz-0cf5b6e728d14ad1839d8e10f9e71944\") {\n",
              "      outputDiv = document.getElementById(\"altair-viz-0cf5b6e728d14ad1839d8e10f9e71944\");\n",
              "    }\n",
              "    const paths = {\n",
              "      \"vega\": \"https://cdn.jsdelivr.net/npm//vega@5?noext\",\n",
              "      \"vega-lib\": \"https://cdn.jsdelivr.net/npm//vega-lib?noext\",\n",
              "      \"vega-lite\": \"https://cdn.jsdelivr.net/npm//vega-lite@4.17.0?noext\",\n",
              "      \"vega-embed\": \"https://cdn.jsdelivr.net/npm//vega-embed@6?noext\",\n",
              "    };\n",
              "\n",
              "    function maybeLoadScript(lib, version) {\n",
              "      var key = `${lib.replace(\"-\", \"\")}_version`;\n",
              "      return (VEGA_DEBUG[key] == version) ?\n",
              "        Promise.resolve(paths[lib]) :\n",
              "        new Promise(function(resolve, reject) {\n",
              "          var s = document.createElement('script');\n",
              "          document.getElementsByTagName(\"head\")[0].appendChild(s);\n",
              "          s.async = true;\n",
              "          s.onload = () => {\n",
              "            VEGA_DEBUG[key] = version;\n",
              "            return resolve(paths[lib]);\n",
              "          };\n",
              "          s.onerror = () => reject(`Error loading script: ${paths[lib]}`);\n",
              "          s.src = paths[lib];\n",
              "        });\n",
              "    }\n",
              "\n",
              "    function showError(err) {\n",
              "      outputDiv.innerHTML = `<div class=\"error\" style=\"color:red;\">${err}</div>`;\n",
              "      throw err;\n",
              "    }\n",
              "\n",
              "    function displayChart(vegaEmbed) {\n",
              "      vegaEmbed(outputDiv, spec, embedOpt)\n",
              "        .catch(err => showError(`Javascript Error: ${err.message}<br>This usually means there's a typo in your chart specification. See the javascript console for the full traceback.`));\n",
              "    }\n",
              "\n",
              "    if(typeof define === \"function\" && define.amd) {\n",
              "      requirejs.config({paths});\n",
              "      require([\"vega-embed\"], displayChart, err => showError(`Error loading script: ${err.message}`));\n",
              "    } else {\n",
              "      maybeLoadScript(\"vega\", \"5\")\n",
              "        .then(() => maybeLoadScript(\"vega-lite\", \"4.17.0\"))\n",
              "        .then(() => maybeLoadScript(\"vega-embed\", \"6\"))\n",
              "        .catch(showError)\n",
              "        .then(() => displayChart(vegaEmbed));\n",
              "    }\n",
              "  })({\"config\": {\"view\": {\"continuousWidth\": 400, \"continuousHeight\": 300}}, \"data\": {\"name\": \"data-a264acbd6e539a8b3afc0cb5f240fb57\"}, \"mark\": \"point\", \"encoding\": {\"color\": {\"field\": \"species\", \"type\": \"nominal\"}, \"x\": {\"field\": \"sepalLength\", \"type\": \"quantitative\"}, \"y\": {\"field\": \"petalLength\", \"type\": \"quantitative\"}}, \"$schema\": \"https://vega.github.io/schema/vega-lite/v4.17.0.json\", \"datasets\": {\"data-a264acbd6e539a8b3afc0cb5f240fb57\": [{\"sepalLength\": 5.1, \"sepalWidth\": 3.5, \"petalLength\": 1.4, \"petalWidth\": 0.2, \"species\": \"setosa\"}, {\"sepalLength\": 4.9, \"sepalWidth\": 3.0, \"petalLength\": 1.4, \"petalWidth\": 0.2, \"species\": \"setosa\"}, {\"sepalLength\": 4.7, \"sepalWidth\": 3.2, \"petalLength\": 1.3, \"petalWidth\": 0.2, \"species\": \"setosa\"}, {\"sepalLength\": 4.6, \"sepalWidth\": 3.1, \"petalLength\": 1.5, \"petalWidth\": 0.2, \"species\": \"setosa\"}, {\"sepalLength\": 5.0, \"sepalWidth\": 3.6, \"petalLength\": 1.4, \"petalWidth\": 0.2, \"species\": \"setosa\"}, {\"sepalLength\": 5.4, \"sepalWidth\": 3.9, \"petalLength\": 1.7000000000000002, \"petalWidth\": 0.4, \"species\": \"setosa\"}, {\"sepalLength\": 4.6, \"sepalWidth\": 3.4, \"petalLength\": 1.4, \"petalWidth\": 0.30000000000000004, \"species\": \"setosa\"}, {\"sepalLength\": 5.0, \"sepalWidth\": 3.4, \"petalLength\": 1.5, \"petalWidth\": 0.2, \"species\": \"setosa\"}, {\"sepalLength\": 4.4, \"sepalWidth\": 2.9, \"petalLength\": 1.4, \"petalWidth\": 0.2, \"species\": \"setosa\"}, {\"sepalLength\": 4.9, \"sepalWidth\": 3.1, \"petalLength\": 1.5, \"petalWidth\": 0.1, \"species\": \"setosa\"}, {\"sepalLength\": 5.4, \"sepalWidth\": 3.7, \"petalLength\": 1.5, \"petalWidth\": 0.2, \"species\": \"setosa\"}, {\"sepalLength\": 4.8, \"sepalWidth\": 3.4, \"petalLength\": 1.6, \"petalWidth\": 0.2, \"species\": \"setosa\"}, {\"sepalLength\": 4.8, \"sepalWidth\": 3.0, \"petalLength\": 1.4, \"petalWidth\": 0.1, \"species\": \"setosa\"}, {\"sepalLength\": 4.3, \"sepalWidth\": 3.0, \"petalLength\": 1.1, \"petalWidth\": 0.1, \"species\": \"setosa\"}, {\"sepalLength\": 5.8, \"sepalWidth\": 4.0, \"petalLength\": 1.2, \"petalWidth\": 0.2, \"species\": \"setosa\"}, {\"sepalLength\": 5.7, \"sepalWidth\": 4.4, \"petalLength\": 1.5, \"petalWidth\": 0.4, \"species\": \"setosa\"}, {\"sepalLength\": 5.4, \"sepalWidth\": 3.9, \"petalLength\": 1.3, \"petalWidth\": 0.4, \"species\": \"setosa\"}, {\"sepalLength\": 5.1, \"sepalWidth\": 3.5, \"petalLength\": 1.4, \"petalWidth\": 0.30000000000000004, \"species\": \"setosa\"}, {\"sepalLength\": 5.7, \"sepalWidth\": 3.8, \"petalLength\": 1.7000000000000002, \"petalWidth\": 0.30000000000000004, \"species\": \"setosa\"}, {\"sepalLength\": 5.1, \"sepalWidth\": 3.8, \"petalLength\": 1.5, \"petalWidth\": 0.30000000000000004, \"species\": \"setosa\"}, {\"sepalLength\": 5.4, \"sepalWidth\": 3.4, \"petalLength\": 1.7000000000000002, \"petalWidth\": 0.2, \"species\": \"setosa\"}, {\"sepalLength\": 5.1, \"sepalWidth\": 3.7, \"petalLength\": 1.5, \"petalWidth\": 0.4, \"species\": \"setosa\"}, {\"sepalLength\": 4.6, \"sepalWidth\": 3.6, \"petalLength\": 1.0, \"petalWidth\": 0.2, \"species\": \"setosa\"}, {\"sepalLength\": 5.1, \"sepalWidth\": 3.3, \"petalLength\": 1.7000000000000002, \"petalWidth\": 0.5, \"species\": \"setosa\"}, {\"sepalLength\": 4.8, \"sepalWidth\": 3.4, \"petalLength\": 1.9, \"petalWidth\": 0.2, \"species\": \"setosa\"}, {\"sepalLength\": 5.0, \"sepalWidth\": 3.0, \"petalLength\": 1.6, \"petalWidth\": 0.2, \"species\": \"setosa\"}, {\"sepalLength\": 5.0, \"sepalWidth\": 3.4, \"petalLength\": 1.6, \"petalWidth\": 0.4, \"species\": \"setosa\"}, {\"sepalLength\": 5.2, \"sepalWidth\": 3.5, \"petalLength\": 1.5, \"petalWidth\": 0.2, \"species\": \"setosa\"}, {\"sepalLength\": 5.2, \"sepalWidth\": 3.4, \"petalLength\": 1.4, \"petalWidth\": 0.2, \"species\": \"setosa\"}, {\"sepalLength\": 4.7, \"sepalWidth\": 3.2, \"petalLength\": 1.6, \"petalWidth\": 0.2, \"species\": \"setosa\"}, {\"sepalLength\": 4.8, \"sepalWidth\": 3.1, \"petalLength\": 1.6, \"petalWidth\": 0.2, \"species\": \"setosa\"}, {\"sepalLength\": 5.4, \"sepalWidth\": 3.4, \"petalLength\": 1.5, \"petalWidth\": 0.4, \"species\": \"setosa\"}, {\"sepalLength\": 5.2, \"sepalWidth\": 4.1, \"petalLength\": 1.5, \"petalWidth\": 0.1, \"species\": \"setosa\"}, {\"sepalLength\": 5.5, \"sepalWidth\": 4.2, \"petalLength\": 1.4, \"petalWidth\": 0.2, \"species\": \"setosa\"}, {\"sepalLength\": 4.9, \"sepalWidth\": 3.1, \"petalLength\": 1.5, \"petalWidth\": 0.2, \"species\": \"setosa\"}, {\"sepalLength\": 5.0, \"sepalWidth\": 3.2, \"petalLength\": 1.2, \"petalWidth\": 0.2, \"species\": \"setosa\"}, {\"sepalLength\": 5.5, \"sepalWidth\": 3.5, \"petalLength\": 1.3, \"petalWidth\": 0.2, \"species\": \"setosa\"}, {\"sepalLength\": 4.9, \"sepalWidth\": 3.6, \"petalLength\": 1.4, \"petalWidth\": 0.1, \"species\": \"setosa\"}, {\"sepalLength\": 4.4, \"sepalWidth\": 3.0, \"petalLength\": 1.3, \"petalWidth\": 0.2, \"species\": \"setosa\"}, {\"sepalLength\": 5.1, \"sepalWidth\": 3.4, \"petalLength\": 1.5, \"petalWidth\": 0.2, \"species\": \"setosa\"}, {\"sepalLength\": 5.0, \"sepalWidth\": 3.5, \"petalLength\": 1.3, \"petalWidth\": 0.30000000000000004, \"species\": \"setosa\"}, {\"sepalLength\": 4.5, \"sepalWidth\": 2.3, \"petalLength\": 1.3, \"petalWidth\": 0.30000000000000004, \"species\": \"setosa\"}, {\"sepalLength\": 4.4, \"sepalWidth\": 3.2, \"petalLength\": 1.3, \"petalWidth\": 0.2, \"species\": \"setosa\"}, {\"sepalLength\": 5.0, \"sepalWidth\": 3.5, \"petalLength\": 1.6, \"petalWidth\": 0.6000000000000001, \"species\": \"setosa\"}, {\"sepalLength\": 5.1, \"sepalWidth\": 3.8, \"petalLength\": 1.9, \"petalWidth\": 0.4, \"species\": \"setosa\"}, {\"sepalLength\": 4.8, \"sepalWidth\": 3.0, \"petalLength\": 1.4, \"petalWidth\": 0.30000000000000004, \"species\": \"setosa\"}, {\"sepalLength\": 5.1, \"sepalWidth\": 3.8, \"petalLength\": 1.6, \"petalWidth\": 0.2, \"species\": \"setosa\"}, {\"sepalLength\": 4.6, \"sepalWidth\": 3.2, \"petalLength\": 1.4, \"petalWidth\": 0.2, \"species\": \"setosa\"}, {\"sepalLength\": 5.3, \"sepalWidth\": 3.7, \"petalLength\": 1.5, \"petalWidth\": 0.2, \"species\": \"setosa\"}, {\"sepalLength\": 5.0, \"sepalWidth\": 3.3, \"petalLength\": 1.4, \"petalWidth\": 0.2, \"species\": \"setosa\"}, {\"sepalLength\": 7.0, \"sepalWidth\": 3.2, \"petalLength\": 4.7, \"petalWidth\": 1.4, \"species\": \"versicolor\"}, {\"sepalLength\": 6.4, \"sepalWidth\": 3.2, \"petalLength\": 4.5, \"petalWidth\": 1.5, \"species\": \"versicolor\"}, {\"sepalLength\": 6.9, \"sepalWidth\": 3.1, \"petalLength\": 4.9, \"petalWidth\": 1.5, \"species\": \"versicolor\"}, {\"sepalLength\": 5.5, \"sepalWidth\": 2.3, \"petalLength\": 4.0, \"petalWidth\": 1.3, \"species\": \"versicolor\"}, {\"sepalLength\": 6.5, \"sepalWidth\": 2.8, \"petalLength\": 4.6, \"petalWidth\": 1.5, \"species\": \"versicolor\"}, {\"sepalLength\": 5.7, \"sepalWidth\": 2.8, \"petalLength\": 4.5, \"petalWidth\": 1.3, \"species\": \"versicolor\"}, {\"sepalLength\": 6.3, \"sepalWidth\": 3.3, \"petalLength\": 4.7, \"petalWidth\": 1.6, \"species\": \"versicolor\"}, {\"sepalLength\": 4.9, \"sepalWidth\": 2.4, \"petalLength\": 3.3, \"petalWidth\": 1.0, \"species\": \"versicolor\"}, {\"sepalLength\": 6.6, \"sepalWidth\": 2.9, \"petalLength\": 4.6, \"petalWidth\": 1.3, \"species\": \"versicolor\"}, {\"sepalLength\": 5.2, \"sepalWidth\": 2.7, \"petalLength\": 3.9, \"petalWidth\": 1.4, \"species\": \"versicolor\"}, {\"sepalLength\": 5.0, \"sepalWidth\": 2.0, \"petalLength\": 3.5, \"petalWidth\": 1.0, \"species\": \"versicolor\"}, {\"sepalLength\": 5.9, \"sepalWidth\": 3.0, \"petalLength\": 4.2, \"petalWidth\": 1.5, \"species\": \"versicolor\"}, {\"sepalLength\": 6.0, \"sepalWidth\": 2.2, \"petalLength\": 4.0, \"petalWidth\": 1.0, \"species\": \"versicolor\"}, {\"sepalLength\": 6.1, \"sepalWidth\": 2.9, \"petalLength\": 4.7, \"petalWidth\": 1.4, \"species\": \"versicolor\"}, {\"sepalLength\": 5.6, \"sepalWidth\": 2.9, \"petalLength\": 3.6, \"petalWidth\": 1.3, \"species\": \"versicolor\"}, {\"sepalLength\": 6.7, \"sepalWidth\": 3.1, \"petalLength\": 4.4, \"petalWidth\": 1.4, \"species\": \"versicolor\"}, {\"sepalLength\": 5.6, \"sepalWidth\": 3.0, \"petalLength\": 4.5, \"petalWidth\": 1.5, \"species\": \"versicolor\"}, {\"sepalLength\": 5.8, \"sepalWidth\": 2.7, \"petalLength\": 4.1, \"petalWidth\": 1.0, \"species\": \"versicolor\"}, {\"sepalLength\": 6.2, \"sepalWidth\": 2.2, \"petalLength\": 4.5, \"petalWidth\": 1.5, \"species\": \"versicolor\"}, {\"sepalLength\": 5.6, \"sepalWidth\": 2.5, \"petalLength\": 3.9, \"petalWidth\": 1.1, \"species\": \"versicolor\"}, {\"sepalLength\": 5.9, \"sepalWidth\": 3.2, \"petalLength\": 4.8, \"petalWidth\": 1.8, \"species\": \"versicolor\"}, {\"sepalLength\": 6.1, \"sepalWidth\": 2.8, \"petalLength\": 4.0, \"petalWidth\": 1.3, \"species\": \"versicolor\"}, {\"sepalLength\": 6.3, \"sepalWidth\": 2.5, \"petalLength\": 4.9, \"petalWidth\": 1.5, \"species\": \"versicolor\"}, {\"sepalLength\": 6.1, \"sepalWidth\": 2.8, \"petalLength\": 4.7, \"petalWidth\": 1.2, \"species\": \"versicolor\"}, {\"sepalLength\": 6.4, \"sepalWidth\": 2.9, \"petalLength\": 4.3, \"petalWidth\": 1.3, \"species\": \"versicolor\"}, {\"sepalLength\": 6.6, \"sepalWidth\": 3.0, \"petalLength\": 4.4, \"petalWidth\": 1.4, \"species\": \"versicolor\"}, {\"sepalLength\": 6.8, \"sepalWidth\": 2.8, \"petalLength\": 4.8, \"petalWidth\": 1.4, \"species\": \"versicolor\"}, {\"sepalLength\": 6.7, \"sepalWidth\": 3.0, \"petalLength\": 5.0, \"petalWidth\": 1.7000000000000002, \"species\": \"versicolor\"}, {\"sepalLength\": 6.0, \"sepalWidth\": 2.9, \"petalLength\": 4.5, \"petalWidth\": 1.5, \"species\": \"versicolor\"}, {\"sepalLength\": 5.7, \"sepalWidth\": 2.6, \"petalLength\": 3.5, \"petalWidth\": 1.0, \"species\": \"versicolor\"}, {\"sepalLength\": 5.5, \"sepalWidth\": 2.4, \"petalLength\": 3.8, \"petalWidth\": 1.1, \"species\": \"versicolor\"}, {\"sepalLength\": 5.5, \"sepalWidth\": 2.4, \"petalLength\": 3.7, \"petalWidth\": 1.0, \"species\": \"versicolor\"}, {\"sepalLength\": 5.8, \"sepalWidth\": 2.7, \"petalLength\": 3.9, \"petalWidth\": 1.2, \"species\": \"versicolor\"}, {\"sepalLength\": 6.0, \"sepalWidth\": 2.7, \"petalLength\": 5.1, \"petalWidth\": 1.6, \"species\": \"versicolor\"}, {\"sepalLength\": 5.4, \"sepalWidth\": 3.0, \"petalLength\": 4.5, \"petalWidth\": 1.5, \"species\": \"versicolor\"}, {\"sepalLength\": 6.0, \"sepalWidth\": 3.4, \"petalLength\": 4.5, \"petalWidth\": 1.6, \"species\": \"versicolor\"}, {\"sepalLength\": 6.7, \"sepalWidth\": 3.1, \"petalLength\": 4.7, \"petalWidth\": 1.5, \"species\": \"versicolor\"}, {\"sepalLength\": 6.3, \"sepalWidth\": 2.3, \"petalLength\": 4.4, \"petalWidth\": 1.3, \"species\": \"versicolor\"}, {\"sepalLength\": 5.6, \"sepalWidth\": 3.0, \"petalLength\": 4.1, \"petalWidth\": 1.3, \"species\": \"versicolor\"}, {\"sepalLength\": 5.5, \"sepalWidth\": 2.5, \"petalLength\": 4.0, \"petalWidth\": 1.3, \"species\": \"versicolor\"}, {\"sepalLength\": 5.5, \"sepalWidth\": 2.6, \"petalLength\": 4.4, \"petalWidth\": 1.2, \"species\": \"versicolor\"}, {\"sepalLength\": 6.1, \"sepalWidth\": 3.0, \"petalLength\": 4.6, \"petalWidth\": 1.4, \"species\": \"versicolor\"}, {\"sepalLength\": 5.8, \"sepalWidth\": 2.6, \"petalLength\": 4.0, \"petalWidth\": 1.2, \"species\": \"versicolor\"}, {\"sepalLength\": 5.0, \"sepalWidth\": 2.3, \"petalLength\": 3.3, \"petalWidth\": 1.0, \"species\": \"versicolor\"}, {\"sepalLength\": 5.6, \"sepalWidth\": 2.7, \"petalLength\": 4.2, \"petalWidth\": 1.3, \"species\": \"versicolor\"}, {\"sepalLength\": 5.7, \"sepalWidth\": 3.0, \"petalLength\": 4.2, \"petalWidth\": 1.2, \"species\": \"versicolor\"}, {\"sepalLength\": 5.7, \"sepalWidth\": 2.9, \"petalLength\": 4.2, \"petalWidth\": 1.3, \"species\": \"versicolor\"}, {\"sepalLength\": 6.2, \"sepalWidth\": 2.9, \"petalLength\": 4.3, \"petalWidth\": 1.3, \"species\": \"versicolor\"}, {\"sepalLength\": 5.1, \"sepalWidth\": 2.5, \"petalLength\": 3.0, \"petalWidth\": 1.1, \"species\": \"versicolor\"}, {\"sepalLength\": 5.7, \"sepalWidth\": 2.8, \"petalLength\": 4.1, \"petalWidth\": 1.3, \"species\": \"versicolor\"}, {\"sepalLength\": 6.3, \"sepalWidth\": 3.3, \"petalLength\": 6.0, \"petalWidth\": 2.5, \"species\": \"virginica\"}, {\"sepalLength\": 5.8, \"sepalWidth\": 2.7, \"petalLength\": 5.1, \"petalWidth\": 1.9, \"species\": \"virginica\"}, {\"sepalLength\": 7.1, \"sepalWidth\": 3.0, \"petalLength\": 5.9, \"petalWidth\": 2.1, \"species\": \"virginica\"}, {\"sepalLength\": 6.3, \"sepalWidth\": 2.9, \"petalLength\": 5.6, \"petalWidth\": 1.8, \"species\": \"virginica\"}, {\"sepalLength\": 6.5, \"sepalWidth\": 3.0, \"petalLength\": 5.8, \"petalWidth\": 2.2, \"species\": \"virginica\"}, {\"sepalLength\": 7.6, \"sepalWidth\": 3.0, \"petalLength\": 6.6, \"petalWidth\": 2.1, \"species\": \"virginica\"}, {\"sepalLength\": 4.9, \"sepalWidth\": 2.5, \"petalLength\": 4.5, \"petalWidth\": 1.7000000000000002, \"species\": \"virginica\"}, {\"sepalLength\": 7.3, \"sepalWidth\": 2.9, \"petalLength\": 6.3, \"petalWidth\": 1.8, \"species\": \"virginica\"}, {\"sepalLength\": 6.7, \"sepalWidth\": 2.5, \"petalLength\": 5.8, \"petalWidth\": 1.8, \"species\": \"virginica\"}, {\"sepalLength\": 7.2, \"sepalWidth\": 3.6, \"petalLength\": 6.1, \"petalWidth\": 2.5, \"species\": \"virginica\"}, {\"sepalLength\": 6.5, \"sepalWidth\": 3.2, \"petalLength\": 5.1, \"petalWidth\": 2.0, \"species\": \"virginica\"}, {\"sepalLength\": 6.4, \"sepalWidth\": 2.7, \"petalLength\": 5.3, \"petalWidth\": 1.9, \"species\": \"virginica\"}, {\"sepalLength\": 6.8, \"sepalWidth\": 3.0, \"petalLength\": 5.5, \"petalWidth\": 2.1, \"species\": \"virginica\"}, {\"sepalLength\": 5.7, \"sepalWidth\": 2.5, \"petalLength\": 5.0, \"petalWidth\": 2.0, \"species\": \"virginica\"}, {\"sepalLength\": 5.8, \"sepalWidth\": 2.8, \"petalLength\": 5.1, \"petalWidth\": 2.4, \"species\": \"virginica\"}, {\"sepalLength\": 6.4, \"sepalWidth\": 3.2, \"petalLength\": 5.3, \"petalWidth\": 2.3, \"species\": \"virginica\"}, {\"sepalLength\": 6.5, \"sepalWidth\": 3.0, \"petalLength\": 5.5, \"petalWidth\": 1.8, \"species\": \"virginica\"}, {\"sepalLength\": 7.7, \"sepalWidth\": 3.8, \"petalLength\": 6.7, \"petalWidth\": 2.2, \"species\": \"virginica\"}, {\"sepalLength\": 7.7, \"sepalWidth\": 2.6, \"petalLength\": 6.9, \"petalWidth\": 2.3, \"species\": \"virginica\"}, {\"sepalLength\": 6.0, \"sepalWidth\": 2.2, \"petalLength\": 5.0, \"petalWidth\": 1.5, \"species\": \"virginica\"}, {\"sepalLength\": 6.9, \"sepalWidth\": 3.2, \"petalLength\": 5.7, \"petalWidth\": 2.3, \"species\": \"virginica\"}, {\"sepalLength\": 5.6, \"sepalWidth\": 2.8, \"petalLength\": 4.9, \"petalWidth\": 2.0, \"species\": \"virginica\"}, {\"sepalLength\": 7.7, \"sepalWidth\": 2.8, \"petalLength\": 6.7, \"petalWidth\": 2.0, \"species\": \"virginica\"}, {\"sepalLength\": 6.3, \"sepalWidth\": 2.7, \"petalLength\": 4.9, \"petalWidth\": 1.8, \"species\": \"virginica\"}, {\"sepalLength\": 6.7, \"sepalWidth\": 3.3, \"petalLength\": 5.7, \"petalWidth\": 2.1, \"species\": \"virginica\"}, {\"sepalLength\": 7.2, \"sepalWidth\": 3.2, \"petalLength\": 6.0, \"petalWidth\": 1.8, \"species\": \"virginica\"}, {\"sepalLength\": 6.2, \"sepalWidth\": 2.8, \"petalLength\": 4.8, \"petalWidth\": 1.8, \"species\": \"virginica\"}, {\"sepalLength\": 6.1, \"sepalWidth\": 3.0, \"petalLength\": 4.9, \"petalWidth\": 1.8, \"species\": \"virginica\"}, {\"sepalLength\": 6.4, \"sepalWidth\": 2.8, \"petalLength\": 5.6, \"petalWidth\": 2.1, \"species\": \"virginica\"}, {\"sepalLength\": 7.2, \"sepalWidth\": 3.0, \"petalLength\": 5.8, \"petalWidth\": 1.6, \"species\": \"virginica\"}, {\"sepalLength\": 7.4, \"sepalWidth\": 2.8, \"petalLength\": 6.1, \"petalWidth\": 1.9, \"species\": \"virginica\"}, {\"sepalLength\": 7.9, \"sepalWidth\": 3.8, \"petalLength\": 6.4, \"petalWidth\": 2.0, \"species\": \"virginica\"}, {\"sepalLength\": 6.4, \"sepalWidth\": 2.8, \"petalLength\": 5.6, \"petalWidth\": 2.2, \"species\": \"virginica\"}, {\"sepalLength\": 6.3, \"sepalWidth\": 2.8, \"petalLength\": 5.1, \"petalWidth\": 1.5, \"species\": \"virginica\"}, {\"sepalLength\": 6.1, \"sepalWidth\": 2.6, \"petalLength\": 5.6, \"petalWidth\": 1.4, \"species\": \"virginica\"}, {\"sepalLength\": 7.7, \"sepalWidth\": 3.0, \"petalLength\": 6.1, \"petalWidth\": 2.3, \"species\": \"virginica\"}, {\"sepalLength\": 6.3, \"sepalWidth\": 3.4, \"petalLength\": 5.6, \"petalWidth\": 2.4, \"species\": \"virginica\"}, {\"sepalLength\": 6.4, \"sepalWidth\": 3.1, \"petalLength\": 5.5, \"petalWidth\": 1.8, \"species\": \"virginica\"}, {\"sepalLength\": 6.0, \"sepalWidth\": 3.0, \"petalLength\": 4.8, \"petalWidth\": 1.8, \"species\": \"virginica\"}, {\"sepalLength\": 6.9, \"sepalWidth\": 3.1, \"petalLength\": 5.4, \"petalWidth\": 2.1, \"species\": \"virginica\"}, {\"sepalLength\": 6.7, \"sepalWidth\": 3.1, \"petalLength\": 5.6, \"petalWidth\": 2.4, \"species\": \"virginica\"}, {\"sepalLength\": 6.9, \"sepalWidth\": 3.1, \"petalLength\": 5.1, \"petalWidth\": 2.3, \"species\": \"virginica\"}, {\"sepalLength\": 5.8, \"sepalWidth\": 2.7, \"petalLength\": 5.1, \"petalWidth\": 1.9, \"species\": \"virginica\"}, {\"sepalLength\": 6.8, \"sepalWidth\": 3.2, \"petalLength\": 5.9, \"petalWidth\": 2.3, \"species\": \"virginica\"}, {\"sepalLength\": 6.7, \"sepalWidth\": 3.3, \"petalLength\": 5.7, \"petalWidth\": 2.5, \"species\": \"virginica\"}, {\"sepalLength\": 6.7, \"sepalWidth\": 3.0, \"petalLength\": 5.2, \"petalWidth\": 2.3, \"species\": \"virginica\"}, {\"sepalLength\": 6.3, \"sepalWidth\": 2.5, \"petalLength\": 5.0, \"petalWidth\": 1.9, \"species\": \"virginica\"}, {\"sepalLength\": 6.5, \"sepalWidth\": 3.0, \"petalLength\": 5.2, \"petalWidth\": 2.0, \"species\": \"virginica\"}, {\"sepalLength\": 6.2, \"sepalWidth\": 3.4, \"petalLength\": 5.4, \"petalWidth\": 2.3, \"species\": \"virginica\"}, {\"sepalLength\": 5.9, \"sepalWidth\": 3.0, \"petalLength\": 5.1, \"petalWidth\": 1.8, \"species\": \"virginica\"}]}}, {\"mode\": \"vega-lite\"});\n",
              "</script>"
            ],
            "text/plain": [
              "alt.Chart(...)"
            ]
          },
          "metadata": {},
          "execution_count": 7
        }
      ]
    },
    {
      "cell_type": "markdown",
      "source": [
        "Think!\n",
        "* What does the vega_datasets library provide? Why do we use it?\n",
        "* What kind of data does the iris dataset contain? What are its features?\n",
        "How would you describe the purpose of a scatter plot?\n",
        "* What is the purpose of mark_point() in the code?\n",
        "* How does the encode() function work in Altair? What does mapping columns to visual properties mean?\n",
        "* How does encoding the species column as color or shape help in visualizing the data?\n",
        "\n",
        "Experimentation\n",
        "1. Print the first few rows of the iris dataset to understand its structure.\n",
        "2. Modify the scatter plot to map the species column to the shape of the points instead of the color.\n",
        "3. Combine both color and shape encodings for the species column to see how it enhances the visualization.\n",
        "4. Change the x-axis to sepalWidth and observe how the scatter plot changes.\n",
        "5. Add tooltips to the scatter plot to display sepalLength, sepalWidth, and species when hovering over a point."
      ],
      "metadata": {
        "id": "p5QD3ACZUB-a"
      }
    },
    {
      "cell_type": "code",
      "source": [
        "# start experimenting with the code here"
      ],
      "metadata": {
        "id": "HWzVTp0ycsvS"
      },
      "execution_count": null,
      "outputs": []
    },
    {
      "cell_type": "code",
      "source": [
        "# @title click for solution 1-3\n",
        "print(iris.head())\n",
        "\n",
        "alt.Chart(iris).mark_point().encode(\n",
        "    x='sepalLength',\n",
        "    y='petalLength',\n",
        "    color='species',\n",
        "    shape='species'\n",
        ")"
      ],
      "metadata": {
        "colab": {
          "base_uri": "https://localhost:8080/",
          "height": 477
        },
        "id": "oMA9_zc_UWsU",
        "outputId": "62b028be-01ae-441c-d291-aa37df52de4a"
      },
      "execution_count": null,
      "outputs": [
        {
          "output_type": "stream",
          "name": "stdout",
          "text": [
            "   sepalLength  sepalWidth  petalLength  petalWidth species\n",
            "0          5.1         3.5          1.4         0.2  setosa\n",
            "1          4.9         3.0          1.4         0.2  setosa\n",
            "2          4.7         3.2          1.3         0.2  setosa\n",
            "3          4.6         3.1          1.5         0.2  setosa\n",
            "4          5.0         3.6          1.4         0.2  setosa\n"
          ]
        },
        {
          "output_type": "execute_result",
          "data": {
            "text/html": [
              "\n",
              "<div id=\"altair-viz-f5908894539f4274a646b3285c7b8f1b\"></div>\n",
              "<script type=\"text/javascript\">\n",
              "  var VEGA_DEBUG = (typeof VEGA_DEBUG == \"undefined\") ? {} : VEGA_DEBUG;\n",
              "  (function(spec, embedOpt){\n",
              "    let outputDiv = document.currentScript.previousElementSibling;\n",
              "    if (outputDiv.id !== \"altair-viz-f5908894539f4274a646b3285c7b8f1b\") {\n",
              "      outputDiv = document.getElementById(\"altair-viz-f5908894539f4274a646b3285c7b8f1b\");\n",
              "    }\n",
              "    const paths = {\n",
              "      \"vega\": \"https://cdn.jsdelivr.net/npm//vega@5?noext\",\n",
              "      \"vega-lib\": \"https://cdn.jsdelivr.net/npm//vega-lib?noext\",\n",
              "      \"vega-lite\": \"https://cdn.jsdelivr.net/npm//vega-lite@4.17.0?noext\",\n",
              "      \"vega-embed\": \"https://cdn.jsdelivr.net/npm//vega-embed@6?noext\",\n",
              "    };\n",
              "\n",
              "    function maybeLoadScript(lib, version) {\n",
              "      var key = `${lib.replace(\"-\", \"\")}_version`;\n",
              "      return (VEGA_DEBUG[key] == version) ?\n",
              "        Promise.resolve(paths[lib]) :\n",
              "        new Promise(function(resolve, reject) {\n",
              "          var s = document.createElement('script');\n",
              "          document.getElementsByTagName(\"head\")[0].appendChild(s);\n",
              "          s.async = true;\n",
              "          s.onload = () => {\n",
              "            VEGA_DEBUG[key] = version;\n",
              "            return resolve(paths[lib]);\n",
              "          };\n",
              "          s.onerror = () => reject(`Error loading script: ${paths[lib]}`);\n",
              "          s.src = paths[lib];\n",
              "        });\n",
              "    }\n",
              "\n",
              "    function showError(err) {\n",
              "      outputDiv.innerHTML = `<div class=\"error\" style=\"color:red;\">${err}</div>`;\n",
              "      throw err;\n",
              "    }\n",
              "\n",
              "    function displayChart(vegaEmbed) {\n",
              "      vegaEmbed(outputDiv, spec, embedOpt)\n",
              "        .catch(err => showError(`Javascript Error: ${err.message}<br>This usually means there's a typo in your chart specification. See the javascript console for the full traceback.`));\n",
              "    }\n",
              "\n",
              "    if(typeof define === \"function\" && define.amd) {\n",
              "      requirejs.config({paths});\n",
              "      require([\"vega-embed\"], displayChart, err => showError(`Error loading script: ${err.message}`));\n",
              "    } else {\n",
              "      maybeLoadScript(\"vega\", \"5\")\n",
              "        .then(() => maybeLoadScript(\"vega-lite\", \"4.17.0\"))\n",
              "        .then(() => maybeLoadScript(\"vega-embed\", \"6\"))\n",
              "        .catch(showError)\n",
              "        .then(() => displayChart(vegaEmbed));\n",
              "    }\n",
              "  })({\"config\": {\"view\": {\"continuousWidth\": 400, \"continuousHeight\": 300}}, \"data\": {\"name\": \"data-a264acbd6e539a8b3afc0cb5f240fb57\"}, \"mark\": \"point\", \"encoding\": {\"color\": {\"field\": \"species\", \"type\": \"nominal\"}, \"shape\": {\"field\": \"species\", \"type\": \"nominal\"}, \"x\": {\"field\": \"sepalLength\", \"type\": \"quantitative\"}, \"y\": {\"field\": \"petalLength\", \"type\": \"quantitative\"}}, \"$schema\": \"https://vega.github.io/schema/vega-lite/v4.17.0.json\", \"datasets\": {\"data-a264acbd6e539a8b3afc0cb5f240fb57\": [{\"sepalLength\": 5.1, \"sepalWidth\": 3.5, \"petalLength\": 1.4, \"petalWidth\": 0.2, \"species\": \"setosa\"}, {\"sepalLength\": 4.9, \"sepalWidth\": 3.0, \"petalLength\": 1.4, \"petalWidth\": 0.2, \"species\": \"setosa\"}, {\"sepalLength\": 4.7, \"sepalWidth\": 3.2, \"petalLength\": 1.3, \"petalWidth\": 0.2, \"species\": \"setosa\"}, {\"sepalLength\": 4.6, \"sepalWidth\": 3.1, \"petalLength\": 1.5, \"petalWidth\": 0.2, \"species\": \"setosa\"}, {\"sepalLength\": 5.0, \"sepalWidth\": 3.6, \"petalLength\": 1.4, \"petalWidth\": 0.2, \"species\": \"setosa\"}, {\"sepalLength\": 5.4, \"sepalWidth\": 3.9, \"petalLength\": 1.7000000000000002, \"petalWidth\": 0.4, \"species\": \"setosa\"}, {\"sepalLength\": 4.6, \"sepalWidth\": 3.4, \"petalLength\": 1.4, \"petalWidth\": 0.30000000000000004, \"species\": \"setosa\"}, {\"sepalLength\": 5.0, \"sepalWidth\": 3.4, \"petalLength\": 1.5, \"petalWidth\": 0.2, \"species\": \"setosa\"}, {\"sepalLength\": 4.4, \"sepalWidth\": 2.9, \"petalLength\": 1.4, \"petalWidth\": 0.2, \"species\": \"setosa\"}, {\"sepalLength\": 4.9, \"sepalWidth\": 3.1, \"petalLength\": 1.5, \"petalWidth\": 0.1, \"species\": \"setosa\"}, {\"sepalLength\": 5.4, \"sepalWidth\": 3.7, \"petalLength\": 1.5, \"petalWidth\": 0.2, \"species\": \"setosa\"}, {\"sepalLength\": 4.8, \"sepalWidth\": 3.4, \"petalLength\": 1.6, \"petalWidth\": 0.2, \"species\": \"setosa\"}, {\"sepalLength\": 4.8, \"sepalWidth\": 3.0, \"petalLength\": 1.4, \"petalWidth\": 0.1, \"species\": \"setosa\"}, {\"sepalLength\": 4.3, \"sepalWidth\": 3.0, \"petalLength\": 1.1, \"petalWidth\": 0.1, \"species\": \"setosa\"}, {\"sepalLength\": 5.8, \"sepalWidth\": 4.0, \"petalLength\": 1.2, \"petalWidth\": 0.2, \"species\": \"setosa\"}, {\"sepalLength\": 5.7, \"sepalWidth\": 4.4, \"petalLength\": 1.5, \"petalWidth\": 0.4, \"species\": \"setosa\"}, {\"sepalLength\": 5.4, \"sepalWidth\": 3.9, \"petalLength\": 1.3, \"petalWidth\": 0.4, \"species\": \"setosa\"}, {\"sepalLength\": 5.1, \"sepalWidth\": 3.5, \"petalLength\": 1.4, \"petalWidth\": 0.30000000000000004, \"species\": \"setosa\"}, {\"sepalLength\": 5.7, \"sepalWidth\": 3.8, \"petalLength\": 1.7000000000000002, \"petalWidth\": 0.30000000000000004, \"species\": \"setosa\"}, {\"sepalLength\": 5.1, \"sepalWidth\": 3.8, \"petalLength\": 1.5, \"petalWidth\": 0.30000000000000004, \"species\": \"setosa\"}, {\"sepalLength\": 5.4, \"sepalWidth\": 3.4, \"petalLength\": 1.7000000000000002, \"petalWidth\": 0.2, \"species\": \"setosa\"}, {\"sepalLength\": 5.1, \"sepalWidth\": 3.7, \"petalLength\": 1.5, \"petalWidth\": 0.4, \"species\": \"setosa\"}, {\"sepalLength\": 4.6, \"sepalWidth\": 3.6, \"petalLength\": 1.0, \"petalWidth\": 0.2, \"species\": \"setosa\"}, {\"sepalLength\": 5.1, \"sepalWidth\": 3.3, \"petalLength\": 1.7000000000000002, \"petalWidth\": 0.5, \"species\": \"setosa\"}, {\"sepalLength\": 4.8, \"sepalWidth\": 3.4, \"petalLength\": 1.9, \"petalWidth\": 0.2, \"species\": \"setosa\"}, {\"sepalLength\": 5.0, \"sepalWidth\": 3.0, \"petalLength\": 1.6, \"petalWidth\": 0.2, \"species\": \"setosa\"}, {\"sepalLength\": 5.0, \"sepalWidth\": 3.4, \"petalLength\": 1.6, \"petalWidth\": 0.4, \"species\": \"setosa\"}, {\"sepalLength\": 5.2, \"sepalWidth\": 3.5, \"petalLength\": 1.5, \"petalWidth\": 0.2, \"species\": \"setosa\"}, {\"sepalLength\": 5.2, \"sepalWidth\": 3.4, \"petalLength\": 1.4, \"petalWidth\": 0.2, \"species\": \"setosa\"}, {\"sepalLength\": 4.7, \"sepalWidth\": 3.2, \"petalLength\": 1.6, \"petalWidth\": 0.2, \"species\": \"setosa\"}, {\"sepalLength\": 4.8, \"sepalWidth\": 3.1, \"petalLength\": 1.6, \"petalWidth\": 0.2, \"species\": \"setosa\"}, {\"sepalLength\": 5.4, \"sepalWidth\": 3.4, \"petalLength\": 1.5, \"petalWidth\": 0.4, \"species\": \"setosa\"}, {\"sepalLength\": 5.2, \"sepalWidth\": 4.1, \"petalLength\": 1.5, \"petalWidth\": 0.1, \"species\": \"setosa\"}, {\"sepalLength\": 5.5, \"sepalWidth\": 4.2, \"petalLength\": 1.4, \"petalWidth\": 0.2, \"species\": \"setosa\"}, {\"sepalLength\": 4.9, \"sepalWidth\": 3.1, \"petalLength\": 1.5, \"petalWidth\": 0.2, \"species\": \"setosa\"}, {\"sepalLength\": 5.0, \"sepalWidth\": 3.2, \"petalLength\": 1.2, \"petalWidth\": 0.2, \"species\": \"setosa\"}, {\"sepalLength\": 5.5, \"sepalWidth\": 3.5, \"petalLength\": 1.3, \"petalWidth\": 0.2, \"species\": \"setosa\"}, {\"sepalLength\": 4.9, \"sepalWidth\": 3.6, \"petalLength\": 1.4, \"petalWidth\": 0.1, \"species\": \"setosa\"}, {\"sepalLength\": 4.4, \"sepalWidth\": 3.0, \"petalLength\": 1.3, \"petalWidth\": 0.2, \"species\": \"setosa\"}, {\"sepalLength\": 5.1, \"sepalWidth\": 3.4, \"petalLength\": 1.5, \"petalWidth\": 0.2, \"species\": \"setosa\"}, {\"sepalLength\": 5.0, \"sepalWidth\": 3.5, \"petalLength\": 1.3, \"petalWidth\": 0.30000000000000004, \"species\": \"setosa\"}, {\"sepalLength\": 4.5, \"sepalWidth\": 2.3, \"petalLength\": 1.3, \"petalWidth\": 0.30000000000000004, \"species\": \"setosa\"}, {\"sepalLength\": 4.4, \"sepalWidth\": 3.2, \"petalLength\": 1.3, \"petalWidth\": 0.2, \"species\": \"setosa\"}, {\"sepalLength\": 5.0, \"sepalWidth\": 3.5, \"petalLength\": 1.6, \"petalWidth\": 0.6000000000000001, \"species\": \"setosa\"}, {\"sepalLength\": 5.1, \"sepalWidth\": 3.8, \"petalLength\": 1.9, \"petalWidth\": 0.4, \"species\": \"setosa\"}, {\"sepalLength\": 4.8, \"sepalWidth\": 3.0, \"petalLength\": 1.4, \"petalWidth\": 0.30000000000000004, \"species\": \"setosa\"}, {\"sepalLength\": 5.1, \"sepalWidth\": 3.8, \"petalLength\": 1.6, \"petalWidth\": 0.2, \"species\": \"setosa\"}, {\"sepalLength\": 4.6, \"sepalWidth\": 3.2, \"petalLength\": 1.4, \"petalWidth\": 0.2, \"species\": \"setosa\"}, {\"sepalLength\": 5.3, \"sepalWidth\": 3.7, \"petalLength\": 1.5, \"petalWidth\": 0.2, \"species\": \"setosa\"}, {\"sepalLength\": 5.0, \"sepalWidth\": 3.3, \"petalLength\": 1.4, \"petalWidth\": 0.2, \"species\": \"setosa\"}, {\"sepalLength\": 7.0, \"sepalWidth\": 3.2, \"petalLength\": 4.7, \"petalWidth\": 1.4, \"species\": \"versicolor\"}, {\"sepalLength\": 6.4, \"sepalWidth\": 3.2, \"petalLength\": 4.5, \"petalWidth\": 1.5, \"species\": \"versicolor\"}, {\"sepalLength\": 6.9, \"sepalWidth\": 3.1, \"petalLength\": 4.9, \"petalWidth\": 1.5, \"species\": \"versicolor\"}, {\"sepalLength\": 5.5, \"sepalWidth\": 2.3, \"petalLength\": 4.0, \"petalWidth\": 1.3, \"species\": \"versicolor\"}, {\"sepalLength\": 6.5, \"sepalWidth\": 2.8, \"petalLength\": 4.6, \"petalWidth\": 1.5, \"species\": \"versicolor\"}, {\"sepalLength\": 5.7, \"sepalWidth\": 2.8, \"petalLength\": 4.5, \"petalWidth\": 1.3, \"species\": \"versicolor\"}, {\"sepalLength\": 6.3, \"sepalWidth\": 3.3, \"petalLength\": 4.7, \"petalWidth\": 1.6, \"species\": \"versicolor\"}, {\"sepalLength\": 4.9, \"sepalWidth\": 2.4, \"petalLength\": 3.3, \"petalWidth\": 1.0, \"species\": \"versicolor\"}, {\"sepalLength\": 6.6, \"sepalWidth\": 2.9, \"petalLength\": 4.6, \"petalWidth\": 1.3, \"species\": \"versicolor\"}, {\"sepalLength\": 5.2, \"sepalWidth\": 2.7, \"petalLength\": 3.9, \"petalWidth\": 1.4, \"species\": \"versicolor\"}, {\"sepalLength\": 5.0, \"sepalWidth\": 2.0, \"petalLength\": 3.5, \"petalWidth\": 1.0, \"species\": \"versicolor\"}, {\"sepalLength\": 5.9, \"sepalWidth\": 3.0, \"petalLength\": 4.2, \"petalWidth\": 1.5, \"species\": \"versicolor\"}, {\"sepalLength\": 6.0, \"sepalWidth\": 2.2, \"petalLength\": 4.0, \"petalWidth\": 1.0, \"species\": \"versicolor\"}, {\"sepalLength\": 6.1, \"sepalWidth\": 2.9, \"petalLength\": 4.7, \"petalWidth\": 1.4, \"species\": \"versicolor\"}, {\"sepalLength\": 5.6, \"sepalWidth\": 2.9, \"petalLength\": 3.6, \"petalWidth\": 1.3, \"species\": \"versicolor\"}, {\"sepalLength\": 6.7, \"sepalWidth\": 3.1, \"petalLength\": 4.4, \"petalWidth\": 1.4, \"species\": \"versicolor\"}, {\"sepalLength\": 5.6, \"sepalWidth\": 3.0, \"petalLength\": 4.5, \"petalWidth\": 1.5, \"species\": \"versicolor\"}, {\"sepalLength\": 5.8, \"sepalWidth\": 2.7, \"petalLength\": 4.1, \"petalWidth\": 1.0, \"species\": \"versicolor\"}, {\"sepalLength\": 6.2, \"sepalWidth\": 2.2, \"petalLength\": 4.5, \"petalWidth\": 1.5, \"species\": \"versicolor\"}, {\"sepalLength\": 5.6, \"sepalWidth\": 2.5, \"petalLength\": 3.9, \"petalWidth\": 1.1, \"species\": \"versicolor\"}, {\"sepalLength\": 5.9, \"sepalWidth\": 3.2, \"petalLength\": 4.8, \"petalWidth\": 1.8, \"species\": \"versicolor\"}, {\"sepalLength\": 6.1, \"sepalWidth\": 2.8, \"petalLength\": 4.0, \"petalWidth\": 1.3, \"species\": \"versicolor\"}, {\"sepalLength\": 6.3, \"sepalWidth\": 2.5, \"petalLength\": 4.9, \"petalWidth\": 1.5, \"species\": \"versicolor\"}, {\"sepalLength\": 6.1, \"sepalWidth\": 2.8, \"petalLength\": 4.7, \"petalWidth\": 1.2, \"species\": \"versicolor\"}, {\"sepalLength\": 6.4, \"sepalWidth\": 2.9, \"petalLength\": 4.3, \"petalWidth\": 1.3, \"species\": \"versicolor\"}, {\"sepalLength\": 6.6, \"sepalWidth\": 3.0, \"petalLength\": 4.4, \"petalWidth\": 1.4, \"species\": \"versicolor\"}, {\"sepalLength\": 6.8, \"sepalWidth\": 2.8, \"petalLength\": 4.8, \"petalWidth\": 1.4, \"species\": \"versicolor\"}, {\"sepalLength\": 6.7, \"sepalWidth\": 3.0, \"petalLength\": 5.0, \"petalWidth\": 1.7000000000000002, \"species\": \"versicolor\"}, {\"sepalLength\": 6.0, \"sepalWidth\": 2.9, \"petalLength\": 4.5, \"petalWidth\": 1.5, \"species\": \"versicolor\"}, {\"sepalLength\": 5.7, \"sepalWidth\": 2.6, \"petalLength\": 3.5, \"petalWidth\": 1.0, \"species\": \"versicolor\"}, {\"sepalLength\": 5.5, \"sepalWidth\": 2.4, \"petalLength\": 3.8, \"petalWidth\": 1.1, \"species\": \"versicolor\"}, {\"sepalLength\": 5.5, \"sepalWidth\": 2.4, \"petalLength\": 3.7, \"petalWidth\": 1.0, \"species\": \"versicolor\"}, {\"sepalLength\": 5.8, \"sepalWidth\": 2.7, \"petalLength\": 3.9, \"petalWidth\": 1.2, \"species\": \"versicolor\"}, {\"sepalLength\": 6.0, \"sepalWidth\": 2.7, \"petalLength\": 5.1, \"petalWidth\": 1.6, \"species\": \"versicolor\"}, {\"sepalLength\": 5.4, \"sepalWidth\": 3.0, \"petalLength\": 4.5, \"petalWidth\": 1.5, \"species\": \"versicolor\"}, {\"sepalLength\": 6.0, \"sepalWidth\": 3.4, \"petalLength\": 4.5, \"petalWidth\": 1.6, \"species\": \"versicolor\"}, {\"sepalLength\": 6.7, \"sepalWidth\": 3.1, \"petalLength\": 4.7, \"petalWidth\": 1.5, \"species\": \"versicolor\"}, {\"sepalLength\": 6.3, \"sepalWidth\": 2.3, \"petalLength\": 4.4, \"petalWidth\": 1.3, \"species\": \"versicolor\"}, {\"sepalLength\": 5.6, \"sepalWidth\": 3.0, \"petalLength\": 4.1, \"petalWidth\": 1.3, \"species\": \"versicolor\"}, {\"sepalLength\": 5.5, \"sepalWidth\": 2.5, \"petalLength\": 4.0, \"petalWidth\": 1.3, \"species\": \"versicolor\"}, {\"sepalLength\": 5.5, \"sepalWidth\": 2.6, \"petalLength\": 4.4, \"petalWidth\": 1.2, \"species\": \"versicolor\"}, {\"sepalLength\": 6.1, \"sepalWidth\": 3.0, \"petalLength\": 4.6, \"petalWidth\": 1.4, \"species\": \"versicolor\"}, {\"sepalLength\": 5.8, \"sepalWidth\": 2.6, \"petalLength\": 4.0, \"petalWidth\": 1.2, \"species\": \"versicolor\"}, {\"sepalLength\": 5.0, \"sepalWidth\": 2.3, \"petalLength\": 3.3, \"petalWidth\": 1.0, \"species\": \"versicolor\"}, {\"sepalLength\": 5.6, \"sepalWidth\": 2.7, \"petalLength\": 4.2, \"petalWidth\": 1.3, \"species\": \"versicolor\"}, {\"sepalLength\": 5.7, \"sepalWidth\": 3.0, \"petalLength\": 4.2, \"petalWidth\": 1.2, \"species\": \"versicolor\"}, {\"sepalLength\": 5.7, \"sepalWidth\": 2.9, \"petalLength\": 4.2, \"petalWidth\": 1.3, \"species\": \"versicolor\"}, {\"sepalLength\": 6.2, \"sepalWidth\": 2.9, \"petalLength\": 4.3, \"petalWidth\": 1.3, \"species\": \"versicolor\"}, {\"sepalLength\": 5.1, \"sepalWidth\": 2.5, \"petalLength\": 3.0, \"petalWidth\": 1.1, \"species\": \"versicolor\"}, {\"sepalLength\": 5.7, \"sepalWidth\": 2.8, \"petalLength\": 4.1, \"petalWidth\": 1.3, \"species\": \"versicolor\"}, {\"sepalLength\": 6.3, \"sepalWidth\": 3.3, \"petalLength\": 6.0, \"petalWidth\": 2.5, \"species\": \"virginica\"}, {\"sepalLength\": 5.8, \"sepalWidth\": 2.7, \"petalLength\": 5.1, \"petalWidth\": 1.9, \"species\": \"virginica\"}, {\"sepalLength\": 7.1, \"sepalWidth\": 3.0, \"petalLength\": 5.9, \"petalWidth\": 2.1, \"species\": \"virginica\"}, {\"sepalLength\": 6.3, \"sepalWidth\": 2.9, \"petalLength\": 5.6, \"petalWidth\": 1.8, \"species\": \"virginica\"}, {\"sepalLength\": 6.5, \"sepalWidth\": 3.0, \"petalLength\": 5.8, \"petalWidth\": 2.2, \"species\": \"virginica\"}, {\"sepalLength\": 7.6, \"sepalWidth\": 3.0, \"petalLength\": 6.6, \"petalWidth\": 2.1, \"species\": \"virginica\"}, {\"sepalLength\": 4.9, \"sepalWidth\": 2.5, \"petalLength\": 4.5, \"petalWidth\": 1.7000000000000002, \"species\": \"virginica\"}, {\"sepalLength\": 7.3, \"sepalWidth\": 2.9, \"petalLength\": 6.3, \"petalWidth\": 1.8, \"species\": \"virginica\"}, {\"sepalLength\": 6.7, \"sepalWidth\": 2.5, \"petalLength\": 5.8, \"petalWidth\": 1.8, \"species\": \"virginica\"}, {\"sepalLength\": 7.2, \"sepalWidth\": 3.6, \"petalLength\": 6.1, \"petalWidth\": 2.5, \"species\": \"virginica\"}, {\"sepalLength\": 6.5, \"sepalWidth\": 3.2, \"petalLength\": 5.1, \"petalWidth\": 2.0, \"species\": \"virginica\"}, {\"sepalLength\": 6.4, \"sepalWidth\": 2.7, \"petalLength\": 5.3, \"petalWidth\": 1.9, \"species\": \"virginica\"}, {\"sepalLength\": 6.8, \"sepalWidth\": 3.0, \"petalLength\": 5.5, \"petalWidth\": 2.1, \"species\": \"virginica\"}, {\"sepalLength\": 5.7, \"sepalWidth\": 2.5, \"petalLength\": 5.0, \"petalWidth\": 2.0, \"species\": \"virginica\"}, {\"sepalLength\": 5.8, \"sepalWidth\": 2.8, \"petalLength\": 5.1, \"petalWidth\": 2.4, \"species\": \"virginica\"}, {\"sepalLength\": 6.4, \"sepalWidth\": 3.2, \"petalLength\": 5.3, \"petalWidth\": 2.3, \"species\": \"virginica\"}, {\"sepalLength\": 6.5, \"sepalWidth\": 3.0, \"petalLength\": 5.5, \"petalWidth\": 1.8, \"species\": \"virginica\"}, {\"sepalLength\": 7.7, \"sepalWidth\": 3.8, \"petalLength\": 6.7, \"petalWidth\": 2.2, \"species\": \"virginica\"}, {\"sepalLength\": 7.7, \"sepalWidth\": 2.6, \"petalLength\": 6.9, \"petalWidth\": 2.3, \"species\": \"virginica\"}, {\"sepalLength\": 6.0, \"sepalWidth\": 2.2, \"petalLength\": 5.0, \"petalWidth\": 1.5, \"species\": \"virginica\"}, {\"sepalLength\": 6.9, \"sepalWidth\": 3.2, \"petalLength\": 5.7, \"petalWidth\": 2.3, \"species\": \"virginica\"}, {\"sepalLength\": 5.6, \"sepalWidth\": 2.8, \"petalLength\": 4.9, \"petalWidth\": 2.0, \"species\": \"virginica\"}, {\"sepalLength\": 7.7, \"sepalWidth\": 2.8, \"petalLength\": 6.7, \"petalWidth\": 2.0, \"species\": \"virginica\"}, {\"sepalLength\": 6.3, \"sepalWidth\": 2.7, \"petalLength\": 4.9, \"petalWidth\": 1.8, \"species\": \"virginica\"}, {\"sepalLength\": 6.7, \"sepalWidth\": 3.3, \"petalLength\": 5.7, \"petalWidth\": 2.1, \"species\": \"virginica\"}, {\"sepalLength\": 7.2, \"sepalWidth\": 3.2, \"petalLength\": 6.0, \"petalWidth\": 1.8, \"species\": \"virginica\"}, {\"sepalLength\": 6.2, \"sepalWidth\": 2.8, \"petalLength\": 4.8, \"petalWidth\": 1.8, \"species\": \"virginica\"}, {\"sepalLength\": 6.1, \"sepalWidth\": 3.0, \"petalLength\": 4.9, \"petalWidth\": 1.8, \"species\": \"virginica\"}, {\"sepalLength\": 6.4, \"sepalWidth\": 2.8, \"petalLength\": 5.6, \"petalWidth\": 2.1, \"species\": \"virginica\"}, {\"sepalLength\": 7.2, \"sepalWidth\": 3.0, \"petalLength\": 5.8, \"petalWidth\": 1.6, \"species\": \"virginica\"}, {\"sepalLength\": 7.4, \"sepalWidth\": 2.8, \"petalLength\": 6.1, \"petalWidth\": 1.9, \"species\": \"virginica\"}, {\"sepalLength\": 7.9, \"sepalWidth\": 3.8, \"petalLength\": 6.4, \"petalWidth\": 2.0, \"species\": \"virginica\"}, {\"sepalLength\": 6.4, \"sepalWidth\": 2.8, \"petalLength\": 5.6, \"petalWidth\": 2.2, \"species\": \"virginica\"}, {\"sepalLength\": 6.3, \"sepalWidth\": 2.8, \"petalLength\": 5.1, \"petalWidth\": 1.5, \"species\": \"virginica\"}, {\"sepalLength\": 6.1, \"sepalWidth\": 2.6, \"petalLength\": 5.6, \"petalWidth\": 1.4, \"species\": \"virginica\"}, {\"sepalLength\": 7.7, \"sepalWidth\": 3.0, \"petalLength\": 6.1, \"petalWidth\": 2.3, \"species\": \"virginica\"}, {\"sepalLength\": 6.3, \"sepalWidth\": 3.4, \"petalLength\": 5.6, \"petalWidth\": 2.4, \"species\": \"virginica\"}, {\"sepalLength\": 6.4, \"sepalWidth\": 3.1, \"petalLength\": 5.5, \"petalWidth\": 1.8, \"species\": \"virginica\"}, {\"sepalLength\": 6.0, \"sepalWidth\": 3.0, \"petalLength\": 4.8, \"petalWidth\": 1.8, \"species\": \"virginica\"}, {\"sepalLength\": 6.9, \"sepalWidth\": 3.1, \"petalLength\": 5.4, \"petalWidth\": 2.1, \"species\": \"virginica\"}, {\"sepalLength\": 6.7, \"sepalWidth\": 3.1, \"petalLength\": 5.6, \"petalWidth\": 2.4, \"species\": \"virginica\"}, {\"sepalLength\": 6.9, \"sepalWidth\": 3.1, \"petalLength\": 5.1, \"petalWidth\": 2.3, \"species\": \"virginica\"}, {\"sepalLength\": 5.8, \"sepalWidth\": 2.7, \"petalLength\": 5.1, \"petalWidth\": 1.9, \"species\": \"virginica\"}, {\"sepalLength\": 6.8, \"sepalWidth\": 3.2, \"petalLength\": 5.9, \"petalWidth\": 2.3, \"species\": \"virginica\"}, {\"sepalLength\": 6.7, \"sepalWidth\": 3.3, \"petalLength\": 5.7, \"petalWidth\": 2.5, \"species\": \"virginica\"}, {\"sepalLength\": 6.7, \"sepalWidth\": 3.0, \"petalLength\": 5.2, \"petalWidth\": 2.3, \"species\": \"virginica\"}, {\"sepalLength\": 6.3, \"sepalWidth\": 2.5, \"petalLength\": 5.0, \"petalWidth\": 1.9, \"species\": \"virginica\"}, {\"sepalLength\": 6.5, \"sepalWidth\": 3.0, \"petalLength\": 5.2, \"petalWidth\": 2.0, \"species\": \"virginica\"}, {\"sepalLength\": 6.2, \"sepalWidth\": 3.4, \"petalLength\": 5.4, \"petalWidth\": 2.3, \"species\": \"virginica\"}, {\"sepalLength\": 5.9, \"sepalWidth\": 3.0, \"petalLength\": 5.1, \"petalWidth\": 1.8, \"species\": \"virginica\"}]}}, {\"mode\": \"vega-lite\"});\n",
              "</script>"
            ],
            "text/plain": [
              "alt.Chart(...)"
            ]
          },
          "metadata": {},
          "execution_count": 9
        }
      ]
    },
    {
      "cell_type": "code",
      "source": [
        "# @title click for solution 4\n",
        "alt.Chart(iris).mark_point().encode(\n",
        "    x='sepalWidth',\n",
        "    y='petalLength',\n",
        "    color='species'\n",
        ")\n"
      ],
      "metadata": {
        "colab": {
          "base_uri": "https://localhost:8080/",
          "height": 368
        },
        "id": "rwLvoDK7VQWT",
        "outputId": "35f845b1-3215-46ae-eb4a-f6ab4ab0f8e5"
      },
      "execution_count": null,
      "outputs": [
        {
          "output_type": "execute_result",
          "data": {
            "text/html": [
              "\n",
              "<div id=\"altair-viz-d1cf5021def34d8ba068513d1d01efb7\"></div>\n",
              "<script type=\"text/javascript\">\n",
              "  var VEGA_DEBUG = (typeof VEGA_DEBUG == \"undefined\") ? {} : VEGA_DEBUG;\n",
              "  (function(spec, embedOpt){\n",
              "    let outputDiv = document.currentScript.previousElementSibling;\n",
              "    if (outputDiv.id !== \"altair-viz-d1cf5021def34d8ba068513d1d01efb7\") {\n",
              "      outputDiv = document.getElementById(\"altair-viz-d1cf5021def34d8ba068513d1d01efb7\");\n",
              "    }\n",
              "    const paths = {\n",
              "      \"vega\": \"https://cdn.jsdelivr.net/npm//vega@5?noext\",\n",
              "      \"vega-lib\": \"https://cdn.jsdelivr.net/npm//vega-lib?noext\",\n",
              "      \"vega-lite\": \"https://cdn.jsdelivr.net/npm//vega-lite@4.17.0?noext\",\n",
              "      \"vega-embed\": \"https://cdn.jsdelivr.net/npm//vega-embed@6?noext\",\n",
              "    };\n",
              "\n",
              "    function maybeLoadScript(lib, version) {\n",
              "      var key = `${lib.replace(\"-\", \"\")}_version`;\n",
              "      return (VEGA_DEBUG[key] == version) ?\n",
              "        Promise.resolve(paths[lib]) :\n",
              "        new Promise(function(resolve, reject) {\n",
              "          var s = document.createElement('script');\n",
              "          document.getElementsByTagName(\"head\")[0].appendChild(s);\n",
              "          s.async = true;\n",
              "          s.onload = () => {\n",
              "            VEGA_DEBUG[key] = version;\n",
              "            return resolve(paths[lib]);\n",
              "          };\n",
              "          s.onerror = () => reject(`Error loading script: ${paths[lib]}`);\n",
              "          s.src = paths[lib];\n",
              "        });\n",
              "    }\n",
              "\n",
              "    function showError(err) {\n",
              "      outputDiv.innerHTML = `<div class=\"error\" style=\"color:red;\">${err}</div>`;\n",
              "      throw err;\n",
              "    }\n",
              "\n",
              "    function displayChart(vegaEmbed) {\n",
              "      vegaEmbed(outputDiv, spec, embedOpt)\n",
              "        .catch(err => showError(`Javascript Error: ${err.message}<br>This usually means there's a typo in your chart specification. See the javascript console for the full traceback.`));\n",
              "    }\n",
              "\n",
              "    if(typeof define === \"function\" && define.amd) {\n",
              "      requirejs.config({paths});\n",
              "      require([\"vega-embed\"], displayChart, err => showError(`Error loading script: ${err.message}`));\n",
              "    } else {\n",
              "      maybeLoadScript(\"vega\", \"5\")\n",
              "        .then(() => maybeLoadScript(\"vega-lite\", \"4.17.0\"))\n",
              "        .then(() => maybeLoadScript(\"vega-embed\", \"6\"))\n",
              "        .catch(showError)\n",
              "        .then(() => displayChart(vegaEmbed));\n",
              "    }\n",
              "  })({\"config\": {\"view\": {\"continuousWidth\": 400, \"continuousHeight\": 300}}, \"data\": {\"name\": \"data-a264acbd6e539a8b3afc0cb5f240fb57\"}, \"mark\": \"point\", \"encoding\": {\"color\": {\"field\": \"species\", \"type\": \"nominal\"}, \"x\": {\"field\": \"sepalWidth\", \"type\": \"quantitative\"}, \"y\": {\"field\": \"petalLength\", \"type\": \"quantitative\"}}, \"$schema\": \"https://vega.github.io/schema/vega-lite/v4.17.0.json\", \"datasets\": {\"data-a264acbd6e539a8b3afc0cb5f240fb57\": [{\"sepalLength\": 5.1, \"sepalWidth\": 3.5, \"petalLength\": 1.4, \"petalWidth\": 0.2, \"species\": \"setosa\"}, {\"sepalLength\": 4.9, \"sepalWidth\": 3.0, \"petalLength\": 1.4, \"petalWidth\": 0.2, \"species\": \"setosa\"}, {\"sepalLength\": 4.7, \"sepalWidth\": 3.2, \"petalLength\": 1.3, \"petalWidth\": 0.2, \"species\": \"setosa\"}, {\"sepalLength\": 4.6, \"sepalWidth\": 3.1, \"petalLength\": 1.5, \"petalWidth\": 0.2, \"species\": \"setosa\"}, {\"sepalLength\": 5.0, \"sepalWidth\": 3.6, \"petalLength\": 1.4, \"petalWidth\": 0.2, \"species\": \"setosa\"}, {\"sepalLength\": 5.4, \"sepalWidth\": 3.9, \"petalLength\": 1.7000000000000002, \"petalWidth\": 0.4, \"species\": \"setosa\"}, {\"sepalLength\": 4.6, \"sepalWidth\": 3.4, \"petalLength\": 1.4, \"petalWidth\": 0.30000000000000004, \"species\": \"setosa\"}, {\"sepalLength\": 5.0, \"sepalWidth\": 3.4, \"petalLength\": 1.5, \"petalWidth\": 0.2, \"species\": \"setosa\"}, {\"sepalLength\": 4.4, \"sepalWidth\": 2.9, \"petalLength\": 1.4, \"petalWidth\": 0.2, \"species\": \"setosa\"}, {\"sepalLength\": 4.9, \"sepalWidth\": 3.1, \"petalLength\": 1.5, \"petalWidth\": 0.1, \"species\": \"setosa\"}, {\"sepalLength\": 5.4, \"sepalWidth\": 3.7, \"petalLength\": 1.5, \"petalWidth\": 0.2, \"species\": \"setosa\"}, {\"sepalLength\": 4.8, \"sepalWidth\": 3.4, \"petalLength\": 1.6, \"petalWidth\": 0.2, \"species\": \"setosa\"}, {\"sepalLength\": 4.8, \"sepalWidth\": 3.0, \"petalLength\": 1.4, \"petalWidth\": 0.1, \"species\": \"setosa\"}, {\"sepalLength\": 4.3, \"sepalWidth\": 3.0, \"petalLength\": 1.1, \"petalWidth\": 0.1, \"species\": \"setosa\"}, {\"sepalLength\": 5.8, \"sepalWidth\": 4.0, \"petalLength\": 1.2, \"petalWidth\": 0.2, \"species\": \"setosa\"}, {\"sepalLength\": 5.7, \"sepalWidth\": 4.4, \"petalLength\": 1.5, \"petalWidth\": 0.4, \"species\": \"setosa\"}, {\"sepalLength\": 5.4, \"sepalWidth\": 3.9, \"petalLength\": 1.3, \"petalWidth\": 0.4, \"species\": \"setosa\"}, {\"sepalLength\": 5.1, \"sepalWidth\": 3.5, \"petalLength\": 1.4, \"petalWidth\": 0.30000000000000004, \"species\": \"setosa\"}, {\"sepalLength\": 5.7, \"sepalWidth\": 3.8, \"petalLength\": 1.7000000000000002, \"petalWidth\": 0.30000000000000004, \"species\": \"setosa\"}, {\"sepalLength\": 5.1, \"sepalWidth\": 3.8, \"petalLength\": 1.5, \"petalWidth\": 0.30000000000000004, \"species\": \"setosa\"}, {\"sepalLength\": 5.4, \"sepalWidth\": 3.4, \"petalLength\": 1.7000000000000002, \"petalWidth\": 0.2, \"species\": \"setosa\"}, {\"sepalLength\": 5.1, \"sepalWidth\": 3.7, \"petalLength\": 1.5, \"petalWidth\": 0.4, \"species\": \"setosa\"}, {\"sepalLength\": 4.6, \"sepalWidth\": 3.6, \"petalLength\": 1.0, \"petalWidth\": 0.2, \"species\": \"setosa\"}, {\"sepalLength\": 5.1, \"sepalWidth\": 3.3, \"petalLength\": 1.7000000000000002, \"petalWidth\": 0.5, \"species\": \"setosa\"}, {\"sepalLength\": 4.8, \"sepalWidth\": 3.4, \"petalLength\": 1.9, \"petalWidth\": 0.2, \"species\": \"setosa\"}, {\"sepalLength\": 5.0, \"sepalWidth\": 3.0, \"petalLength\": 1.6, \"petalWidth\": 0.2, \"species\": \"setosa\"}, {\"sepalLength\": 5.0, \"sepalWidth\": 3.4, \"petalLength\": 1.6, \"petalWidth\": 0.4, \"species\": \"setosa\"}, {\"sepalLength\": 5.2, \"sepalWidth\": 3.5, \"petalLength\": 1.5, \"petalWidth\": 0.2, \"species\": \"setosa\"}, {\"sepalLength\": 5.2, \"sepalWidth\": 3.4, \"petalLength\": 1.4, \"petalWidth\": 0.2, \"species\": \"setosa\"}, {\"sepalLength\": 4.7, \"sepalWidth\": 3.2, \"petalLength\": 1.6, \"petalWidth\": 0.2, \"species\": \"setosa\"}, {\"sepalLength\": 4.8, \"sepalWidth\": 3.1, \"petalLength\": 1.6, \"petalWidth\": 0.2, \"species\": \"setosa\"}, {\"sepalLength\": 5.4, \"sepalWidth\": 3.4, \"petalLength\": 1.5, \"petalWidth\": 0.4, \"species\": \"setosa\"}, {\"sepalLength\": 5.2, \"sepalWidth\": 4.1, \"petalLength\": 1.5, \"petalWidth\": 0.1, \"species\": \"setosa\"}, {\"sepalLength\": 5.5, \"sepalWidth\": 4.2, \"petalLength\": 1.4, \"petalWidth\": 0.2, \"species\": \"setosa\"}, {\"sepalLength\": 4.9, \"sepalWidth\": 3.1, \"petalLength\": 1.5, \"petalWidth\": 0.2, \"species\": \"setosa\"}, {\"sepalLength\": 5.0, \"sepalWidth\": 3.2, \"petalLength\": 1.2, \"petalWidth\": 0.2, \"species\": \"setosa\"}, {\"sepalLength\": 5.5, \"sepalWidth\": 3.5, \"petalLength\": 1.3, \"petalWidth\": 0.2, \"species\": \"setosa\"}, {\"sepalLength\": 4.9, \"sepalWidth\": 3.6, \"petalLength\": 1.4, \"petalWidth\": 0.1, \"species\": \"setosa\"}, {\"sepalLength\": 4.4, \"sepalWidth\": 3.0, \"petalLength\": 1.3, \"petalWidth\": 0.2, \"species\": \"setosa\"}, {\"sepalLength\": 5.1, \"sepalWidth\": 3.4, \"petalLength\": 1.5, \"petalWidth\": 0.2, \"species\": \"setosa\"}, {\"sepalLength\": 5.0, \"sepalWidth\": 3.5, \"petalLength\": 1.3, \"petalWidth\": 0.30000000000000004, \"species\": \"setosa\"}, {\"sepalLength\": 4.5, \"sepalWidth\": 2.3, \"petalLength\": 1.3, \"petalWidth\": 0.30000000000000004, \"species\": \"setosa\"}, {\"sepalLength\": 4.4, \"sepalWidth\": 3.2, \"petalLength\": 1.3, \"petalWidth\": 0.2, \"species\": \"setosa\"}, {\"sepalLength\": 5.0, \"sepalWidth\": 3.5, \"petalLength\": 1.6, \"petalWidth\": 0.6000000000000001, \"species\": \"setosa\"}, {\"sepalLength\": 5.1, \"sepalWidth\": 3.8, \"petalLength\": 1.9, \"petalWidth\": 0.4, \"species\": \"setosa\"}, {\"sepalLength\": 4.8, \"sepalWidth\": 3.0, \"petalLength\": 1.4, \"petalWidth\": 0.30000000000000004, \"species\": \"setosa\"}, {\"sepalLength\": 5.1, \"sepalWidth\": 3.8, \"petalLength\": 1.6, \"petalWidth\": 0.2, \"species\": \"setosa\"}, {\"sepalLength\": 4.6, \"sepalWidth\": 3.2, \"petalLength\": 1.4, \"petalWidth\": 0.2, \"species\": \"setosa\"}, {\"sepalLength\": 5.3, \"sepalWidth\": 3.7, \"petalLength\": 1.5, \"petalWidth\": 0.2, \"species\": \"setosa\"}, {\"sepalLength\": 5.0, \"sepalWidth\": 3.3, \"petalLength\": 1.4, \"petalWidth\": 0.2, \"species\": \"setosa\"}, {\"sepalLength\": 7.0, \"sepalWidth\": 3.2, \"petalLength\": 4.7, \"petalWidth\": 1.4, \"species\": \"versicolor\"}, {\"sepalLength\": 6.4, \"sepalWidth\": 3.2, \"petalLength\": 4.5, \"petalWidth\": 1.5, \"species\": \"versicolor\"}, {\"sepalLength\": 6.9, \"sepalWidth\": 3.1, \"petalLength\": 4.9, \"petalWidth\": 1.5, \"species\": \"versicolor\"}, {\"sepalLength\": 5.5, \"sepalWidth\": 2.3, \"petalLength\": 4.0, \"petalWidth\": 1.3, \"species\": \"versicolor\"}, {\"sepalLength\": 6.5, \"sepalWidth\": 2.8, \"petalLength\": 4.6, \"petalWidth\": 1.5, \"species\": \"versicolor\"}, {\"sepalLength\": 5.7, \"sepalWidth\": 2.8, \"petalLength\": 4.5, \"petalWidth\": 1.3, \"species\": \"versicolor\"}, {\"sepalLength\": 6.3, \"sepalWidth\": 3.3, \"petalLength\": 4.7, \"petalWidth\": 1.6, \"species\": \"versicolor\"}, {\"sepalLength\": 4.9, \"sepalWidth\": 2.4, \"petalLength\": 3.3, \"petalWidth\": 1.0, \"species\": \"versicolor\"}, {\"sepalLength\": 6.6, \"sepalWidth\": 2.9, \"petalLength\": 4.6, \"petalWidth\": 1.3, \"species\": \"versicolor\"}, {\"sepalLength\": 5.2, \"sepalWidth\": 2.7, \"petalLength\": 3.9, \"petalWidth\": 1.4, \"species\": \"versicolor\"}, {\"sepalLength\": 5.0, \"sepalWidth\": 2.0, \"petalLength\": 3.5, \"petalWidth\": 1.0, \"species\": \"versicolor\"}, {\"sepalLength\": 5.9, \"sepalWidth\": 3.0, \"petalLength\": 4.2, \"petalWidth\": 1.5, \"species\": \"versicolor\"}, {\"sepalLength\": 6.0, \"sepalWidth\": 2.2, \"petalLength\": 4.0, \"petalWidth\": 1.0, \"species\": \"versicolor\"}, {\"sepalLength\": 6.1, \"sepalWidth\": 2.9, \"petalLength\": 4.7, \"petalWidth\": 1.4, \"species\": \"versicolor\"}, {\"sepalLength\": 5.6, \"sepalWidth\": 2.9, \"petalLength\": 3.6, \"petalWidth\": 1.3, \"species\": \"versicolor\"}, {\"sepalLength\": 6.7, \"sepalWidth\": 3.1, \"petalLength\": 4.4, \"petalWidth\": 1.4, \"species\": \"versicolor\"}, {\"sepalLength\": 5.6, \"sepalWidth\": 3.0, \"petalLength\": 4.5, \"petalWidth\": 1.5, \"species\": \"versicolor\"}, {\"sepalLength\": 5.8, \"sepalWidth\": 2.7, \"petalLength\": 4.1, \"petalWidth\": 1.0, \"species\": \"versicolor\"}, {\"sepalLength\": 6.2, \"sepalWidth\": 2.2, \"petalLength\": 4.5, \"petalWidth\": 1.5, \"species\": \"versicolor\"}, {\"sepalLength\": 5.6, \"sepalWidth\": 2.5, \"petalLength\": 3.9, \"petalWidth\": 1.1, \"species\": \"versicolor\"}, {\"sepalLength\": 5.9, \"sepalWidth\": 3.2, \"petalLength\": 4.8, \"petalWidth\": 1.8, \"species\": \"versicolor\"}, {\"sepalLength\": 6.1, \"sepalWidth\": 2.8, \"petalLength\": 4.0, \"petalWidth\": 1.3, \"species\": \"versicolor\"}, {\"sepalLength\": 6.3, \"sepalWidth\": 2.5, \"petalLength\": 4.9, \"petalWidth\": 1.5, \"species\": \"versicolor\"}, {\"sepalLength\": 6.1, \"sepalWidth\": 2.8, \"petalLength\": 4.7, \"petalWidth\": 1.2, \"species\": \"versicolor\"}, {\"sepalLength\": 6.4, \"sepalWidth\": 2.9, \"petalLength\": 4.3, \"petalWidth\": 1.3, \"species\": \"versicolor\"}, {\"sepalLength\": 6.6, \"sepalWidth\": 3.0, \"petalLength\": 4.4, \"petalWidth\": 1.4, \"species\": \"versicolor\"}, {\"sepalLength\": 6.8, \"sepalWidth\": 2.8, \"petalLength\": 4.8, \"petalWidth\": 1.4, \"species\": \"versicolor\"}, {\"sepalLength\": 6.7, \"sepalWidth\": 3.0, \"petalLength\": 5.0, \"petalWidth\": 1.7000000000000002, \"species\": \"versicolor\"}, {\"sepalLength\": 6.0, \"sepalWidth\": 2.9, \"petalLength\": 4.5, \"petalWidth\": 1.5, \"species\": \"versicolor\"}, {\"sepalLength\": 5.7, \"sepalWidth\": 2.6, \"petalLength\": 3.5, \"petalWidth\": 1.0, \"species\": \"versicolor\"}, {\"sepalLength\": 5.5, \"sepalWidth\": 2.4, \"petalLength\": 3.8, \"petalWidth\": 1.1, \"species\": \"versicolor\"}, {\"sepalLength\": 5.5, \"sepalWidth\": 2.4, \"petalLength\": 3.7, \"petalWidth\": 1.0, \"species\": \"versicolor\"}, {\"sepalLength\": 5.8, \"sepalWidth\": 2.7, \"petalLength\": 3.9, \"petalWidth\": 1.2, \"species\": \"versicolor\"}, {\"sepalLength\": 6.0, \"sepalWidth\": 2.7, \"petalLength\": 5.1, \"petalWidth\": 1.6, \"species\": \"versicolor\"}, {\"sepalLength\": 5.4, \"sepalWidth\": 3.0, \"petalLength\": 4.5, \"petalWidth\": 1.5, \"species\": \"versicolor\"}, {\"sepalLength\": 6.0, \"sepalWidth\": 3.4, \"petalLength\": 4.5, \"petalWidth\": 1.6, \"species\": \"versicolor\"}, {\"sepalLength\": 6.7, \"sepalWidth\": 3.1, \"petalLength\": 4.7, \"petalWidth\": 1.5, \"species\": \"versicolor\"}, {\"sepalLength\": 6.3, \"sepalWidth\": 2.3, \"petalLength\": 4.4, \"petalWidth\": 1.3, \"species\": \"versicolor\"}, {\"sepalLength\": 5.6, \"sepalWidth\": 3.0, \"petalLength\": 4.1, \"petalWidth\": 1.3, \"species\": \"versicolor\"}, {\"sepalLength\": 5.5, \"sepalWidth\": 2.5, \"petalLength\": 4.0, \"petalWidth\": 1.3, \"species\": \"versicolor\"}, {\"sepalLength\": 5.5, \"sepalWidth\": 2.6, \"petalLength\": 4.4, \"petalWidth\": 1.2, \"species\": \"versicolor\"}, {\"sepalLength\": 6.1, \"sepalWidth\": 3.0, \"petalLength\": 4.6, \"petalWidth\": 1.4, \"species\": \"versicolor\"}, {\"sepalLength\": 5.8, \"sepalWidth\": 2.6, \"petalLength\": 4.0, \"petalWidth\": 1.2, \"species\": \"versicolor\"}, {\"sepalLength\": 5.0, \"sepalWidth\": 2.3, \"petalLength\": 3.3, \"petalWidth\": 1.0, \"species\": \"versicolor\"}, {\"sepalLength\": 5.6, \"sepalWidth\": 2.7, \"petalLength\": 4.2, \"petalWidth\": 1.3, \"species\": \"versicolor\"}, {\"sepalLength\": 5.7, \"sepalWidth\": 3.0, \"petalLength\": 4.2, \"petalWidth\": 1.2, \"species\": \"versicolor\"}, {\"sepalLength\": 5.7, \"sepalWidth\": 2.9, \"petalLength\": 4.2, \"petalWidth\": 1.3, \"species\": \"versicolor\"}, {\"sepalLength\": 6.2, \"sepalWidth\": 2.9, \"petalLength\": 4.3, \"petalWidth\": 1.3, \"species\": \"versicolor\"}, {\"sepalLength\": 5.1, \"sepalWidth\": 2.5, \"petalLength\": 3.0, \"petalWidth\": 1.1, \"species\": \"versicolor\"}, {\"sepalLength\": 5.7, \"sepalWidth\": 2.8, \"petalLength\": 4.1, \"petalWidth\": 1.3, \"species\": \"versicolor\"}, {\"sepalLength\": 6.3, \"sepalWidth\": 3.3, \"petalLength\": 6.0, \"petalWidth\": 2.5, \"species\": \"virginica\"}, {\"sepalLength\": 5.8, \"sepalWidth\": 2.7, \"petalLength\": 5.1, \"petalWidth\": 1.9, \"species\": \"virginica\"}, {\"sepalLength\": 7.1, \"sepalWidth\": 3.0, \"petalLength\": 5.9, \"petalWidth\": 2.1, \"species\": \"virginica\"}, {\"sepalLength\": 6.3, \"sepalWidth\": 2.9, \"petalLength\": 5.6, \"petalWidth\": 1.8, \"species\": \"virginica\"}, {\"sepalLength\": 6.5, \"sepalWidth\": 3.0, \"petalLength\": 5.8, \"petalWidth\": 2.2, \"species\": \"virginica\"}, {\"sepalLength\": 7.6, \"sepalWidth\": 3.0, \"petalLength\": 6.6, \"petalWidth\": 2.1, \"species\": \"virginica\"}, {\"sepalLength\": 4.9, \"sepalWidth\": 2.5, \"petalLength\": 4.5, \"petalWidth\": 1.7000000000000002, \"species\": \"virginica\"}, {\"sepalLength\": 7.3, \"sepalWidth\": 2.9, \"petalLength\": 6.3, \"petalWidth\": 1.8, \"species\": \"virginica\"}, {\"sepalLength\": 6.7, \"sepalWidth\": 2.5, \"petalLength\": 5.8, \"petalWidth\": 1.8, \"species\": \"virginica\"}, {\"sepalLength\": 7.2, \"sepalWidth\": 3.6, \"petalLength\": 6.1, \"petalWidth\": 2.5, \"species\": \"virginica\"}, {\"sepalLength\": 6.5, \"sepalWidth\": 3.2, \"petalLength\": 5.1, \"petalWidth\": 2.0, \"species\": \"virginica\"}, {\"sepalLength\": 6.4, \"sepalWidth\": 2.7, \"petalLength\": 5.3, \"petalWidth\": 1.9, \"species\": \"virginica\"}, {\"sepalLength\": 6.8, \"sepalWidth\": 3.0, \"petalLength\": 5.5, \"petalWidth\": 2.1, \"species\": \"virginica\"}, {\"sepalLength\": 5.7, \"sepalWidth\": 2.5, \"petalLength\": 5.0, \"petalWidth\": 2.0, \"species\": \"virginica\"}, {\"sepalLength\": 5.8, \"sepalWidth\": 2.8, \"petalLength\": 5.1, \"petalWidth\": 2.4, \"species\": \"virginica\"}, {\"sepalLength\": 6.4, \"sepalWidth\": 3.2, \"petalLength\": 5.3, \"petalWidth\": 2.3, \"species\": \"virginica\"}, {\"sepalLength\": 6.5, \"sepalWidth\": 3.0, \"petalLength\": 5.5, \"petalWidth\": 1.8, \"species\": \"virginica\"}, {\"sepalLength\": 7.7, \"sepalWidth\": 3.8, \"petalLength\": 6.7, \"petalWidth\": 2.2, \"species\": \"virginica\"}, {\"sepalLength\": 7.7, \"sepalWidth\": 2.6, \"petalLength\": 6.9, \"petalWidth\": 2.3, \"species\": \"virginica\"}, {\"sepalLength\": 6.0, \"sepalWidth\": 2.2, \"petalLength\": 5.0, \"petalWidth\": 1.5, \"species\": \"virginica\"}, {\"sepalLength\": 6.9, \"sepalWidth\": 3.2, \"petalLength\": 5.7, \"petalWidth\": 2.3, \"species\": \"virginica\"}, {\"sepalLength\": 5.6, \"sepalWidth\": 2.8, \"petalLength\": 4.9, \"petalWidth\": 2.0, \"species\": \"virginica\"}, {\"sepalLength\": 7.7, \"sepalWidth\": 2.8, \"petalLength\": 6.7, \"petalWidth\": 2.0, \"species\": \"virginica\"}, {\"sepalLength\": 6.3, \"sepalWidth\": 2.7, \"petalLength\": 4.9, \"petalWidth\": 1.8, \"species\": \"virginica\"}, {\"sepalLength\": 6.7, \"sepalWidth\": 3.3, \"petalLength\": 5.7, \"petalWidth\": 2.1, \"species\": \"virginica\"}, {\"sepalLength\": 7.2, \"sepalWidth\": 3.2, \"petalLength\": 6.0, \"petalWidth\": 1.8, \"species\": \"virginica\"}, {\"sepalLength\": 6.2, \"sepalWidth\": 2.8, \"petalLength\": 4.8, \"petalWidth\": 1.8, \"species\": \"virginica\"}, {\"sepalLength\": 6.1, \"sepalWidth\": 3.0, \"petalLength\": 4.9, \"petalWidth\": 1.8, \"species\": \"virginica\"}, {\"sepalLength\": 6.4, \"sepalWidth\": 2.8, \"petalLength\": 5.6, \"petalWidth\": 2.1, \"species\": \"virginica\"}, {\"sepalLength\": 7.2, \"sepalWidth\": 3.0, \"petalLength\": 5.8, \"petalWidth\": 1.6, \"species\": \"virginica\"}, {\"sepalLength\": 7.4, \"sepalWidth\": 2.8, \"petalLength\": 6.1, \"petalWidth\": 1.9, \"species\": \"virginica\"}, {\"sepalLength\": 7.9, \"sepalWidth\": 3.8, \"petalLength\": 6.4, \"petalWidth\": 2.0, \"species\": \"virginica\"}, {\"sepalLength\": 6.4, \"sepalWidth\": 2.8, \"petalLength\": 5.6, \"petalWidth\": 2.2, \"species\": \"virginica\"}, {\"sepalLength\": 6.3, \"sepalWidth\": 2.8, \"petalLength\": 5.1, \"petalWidth\": 1.5, \"species\": \"virginica\"}, {\"sepalLength\": 6.1, \"sepalWidth\": 2.6, \"petalLength\": 5.6, \"petalWidth\": 1.4, \"species\": \"virginica\"}, {\"sepalLength\": 7.7, \"sepalWidth\": 3.0, \"petalLength\": 6.1, \"petalWidth\": 2.3, \"species\": \"virginica\"}, {\"sepalLength\": 6.3, \"sepalWidth\": 3.4, \"petalLength\": 5.6, \"petalWidth\": 2.4, \"species\": \"virginica\"}, {\"sepalLength\": 6.4, \"sepalWidth\": 3.1, \"petalLength\": 5.5, \"petalWidth\": 1.8, \"species\": \"virginica\"}, {\"sepalLength\": 6.0, \"sepalWidth\": 3.0, \"petalLength\": 4.8, \"petalWidth\": 1.8, \"species\": \"virginica\"}, {\"sepalLength\": 6.9, \"sepalWidth\": 3.1, \"petalLength\": 5.4, \"petalWidth\": 2.1, \"species\": \"virginica\"}, {\"sepalLength\": 6.7, \"sepalWidth\": 3.1, \"petalLength\": 5.6, \"petalWidth\": 2.4, \"species\": \"virginica\"}, {\"sepalLength\": 6.9, \"sepalWidth\": 3.1, \"petalLength\": 5.1, \"petalWidth\": 2.3, \"species\": \"virginica\"}, {\"sepalLength\": 5.8, \"sepalWidth\": 2.7, \"petalLength\": 5.1, \"petalWidth\": 1.9, \"species\": \"virginica\"}, {\"sepalLength\": 6.8, \"sepalWidth\": 3.2, \"petalLength\": 5.9, \"petalWidth\": 2.3, \"species\": \"virginica\"}, {\"sepalLength\": 6.7, \"sepalWidth\": 3.3, \"petalLength\": 5.7, \"petalWidth\": 2.5, \"species\": \"virginica\"}, {\"sepalLength\": 6.7, \"sepalWidth\": 3.0, \"petalLength\": 5.2, \"petalWidth\": 2.3, \"species\": \"virginica\"}, {\"sepalLength\": 6.3, \"sepalWidth\": 2.5, \"petalLength\": 5.0, \"petalWidth\": 1.9, \"species\": \"virginica\"}, {\"sepalLength\": 6.5, \"sepalWidth\": 3.0, \"petalLength\": 5.2, \"petalWidth\": 2.0, \"species\": \"virginica\"}, {\"sepalLength\": 6.2, \"sepalWidth\": 3.4, \"petalLength\": 5.4, \"petalWidth\": 2.3, \"species\": \"virginica\"}, {\"sepalLength\": 5.9, \"sepalWidth\": 3.0, \"petalLength\": 5.1, \"petalWidth\": 1.8, \"species\": \"virginica\"}]}}, {\"mode\": \"vega-lite\"});\n",
              "</script>"
            ],
            "text/plain": [
              "alt.Chart(...)"
            ]
          },
          "metadata": {},
          "execution_count": 10
        }
      ]
    },
    {
      "cell_type": "code",
      "source": [
        "# @title click for solution 5\n",
        "alt.Chart(iris).mark_point().encode(\n",
        "    x='sepalLength',\n",
        "    y='petalLength',\n",
        "    color='species',\n",
        "    tooltip=['sepalLength', 'sepalWidth', 'species']\n",
        ")"
      ],
      "metadata": {
        "colab": {
          "base_uri": "https://localhost:8080/",
          "height": 368
        },
        "id": "wgJAXzFkVbqs",
        "outputId": "ac8d476c-7d85-4cea-f88e-d2dec59b14c8"
      },
      "execution_count": null,
      "outputs": [
        {
          "output_type": "execute_result",
          "data": {
            "text/html": [
              "\n",
              "<div id=\"altair-viz-7df28b39402641f29ec0653868a1a4d3\"></div>\n",
              "<script type=\"text/javascript\">\n",
              "  var VEGA_DEBUG = (typeof VEGA_DEBUG == \"undefined\") ? {} : VEGA_DEBUG;\n",
              "  (function(spec, embedOpt){\n",
              "    let outputDiv = document.currentScript.previousElementSibling;\n",
              "    if (outputDiv.id !== \"altair-viz-7df28b39402641f29ec0653868a1a4d3\") {\n",
              "      outputDiv = document.getElementById(\"altair-viz-7df28b39402641f29ec0653868a1a4d3\");\n",
              "    }\n",
              "    const paths = {\n",
              "      \"vega\": \"https://cdn.jsdelivr.net/npm//vega@5?noext\",\n",
              "      \"vega-lib\": \"https://cdn.jsdelivr.net/npm//vega-lib?noext\",\n",
              "      \"vega-lite\": \"https://cdn.jsdelivr.net/npm//vega-lite@4.17.0?noext\",\n",
              "      \"vega-embed\": \"https://cdn.jsdelivr.net/npm//vega-embed@6?noext\",\n",
              "    };\n",
              "\n",
              "    function maybeLoadScript(lib, version) {\n",
              "      var key = `${lib.replace(\"-\", \"\")}_version`;\n",
              "      return (VEGA_DEBUG[key] == version) ?\n",
              "        Promise.resolve(paths[lib]) :\n",
              "        new Promise(function(resolve, reject) {\n",
              "          var s = document.createElement('script');\n",
              "          document.getElementsByTagName(\"head\")[0].appendChild(s);\n",
              "          s.async = true;\n",
              "          s.onload = () => {\n",
              "            VEGA_DEBUG[key] = version;\n",
              "            return resolve(paths[lib]);\n",
              "          };\n",
              "          s.onerror = () => reject(`Error loading script: ${paths[lib]}`);\n",
              "          s.src = paths[lib];\n",
              "        });\n",
              "    }\n",
              "\n",
              "    function showError(err) {\n",
              "      outputDiv.innerHTML = `<div class=\"error\" style=\"color:red;\">${err}</div>`;\n",
              "      throw err;\n",
              "    }\n",
              "\n",
              "    function displayChart(vegaEmbed) {\n",
              "      vegaEmbed(outputDiv, spec, embedOpt)\n",
              "        .catch(err => showError(`Javascript Error: ${err.message}<br>This usually means there's a typo in your chart specification. See the javascript console for the full traceback.`));\n",
              "    }\n",
              "\n",
              "    if(typeof define === \"function\" && define.amd) {\n",
              "      requirejs.config({paths});\n",
              "      require([\"vega-embed\"], displayChart, err => showError(`Error loading script: ${err.message}`));\n",
              "    } else {\n",
              "      maybeLoadScript(\"vega\", \"5\")\n",
              "        .then(() => maybeLoadScript(\"vega-lite\", \"4.17.0\"))\n",
              "        .then(() => maybeLoadScript(\"vega-embed\", \"6\"))\n",
              "        .catch(showError)\n",
              "        .then(() => displayChart(vegaEmbed));\n",
              "    }\n",
              "  })({\"config\": {\"view\": {\"continuousWidth\": 400, \"continuousHeight\": 300}}, \"data\": {\"name\": \"data-a264acbd6e539a8b3afc0cb5f240fb57\"}, \"mark\": \"point\", \"encoding\": {\"color\": {\"field\": \"species\", \"type\": \"nominal\"}, \"tooltip\": [{\"field\": \"sepalLength\", \"type\": \"quantitative\"}, {\"field\": \"sepalWidth\", \"type\": \"quantitative\"}, {\"field\": \"species\", \"type\": \"nominal\"}], \"x\": {\"field\": \"sepalLength\", \"type\": \"quantitative\"}, \"y\": {\"field\": \"petalLength\", \"type\": \"quantitative\"}}, \"$schema\": \"https://vega.github.io/schema/vega-lite/v4.17.0.json\", \"datasets\": {\"data-a264acbd6e539a8b3afc0cb5f240fb57\": [{\"sepalLength\": 5.1, \"sepalWidth\": 3.5, \"petalLength\": 1.4, \"petalWidth\": 0.2, \"species\": \"setosa\"}, {\"sepalLength\": 4.9, \"sepalWidth\": 3.0, \"petalLength\": 1.4, \"petalWidth\": 0.2, \"species\": \"setosa\"}, {\"sepalLength\": 4.7, \"sepalWidth\": 3.2, \"petalLength\": 1.3, \"petalWidth\": 0.2, \"species\": \"setosa\"}, {\"sepalLength\": 4.6, \"sepalWidth\": 3.1, \"petalLength\": 1.5, \"petalWidth\": 0.2, \"species\": \"setosa\"}, {\"sepalLength\": 5.0, \"sepalWidth\": 3.6, \"petalLength\": 1.4, \"petalWidth\": 0.2, \"species\": \"setosa\"}, {\"sepalLength\": 5.4, \"sepalWidth\": 3.9, \"petalLength\": 1.7000000000000002, \"petalWidth\": 0.4, \"species\": \"setosa\"}, {\"sepalLength\": 4.6, \"sepalWidth\": 3.4, \"petalLength\": 1.4, \"petalWidth\": 0.30000000000000004, \"species\": \"setosa\"}, {\"sepalLength\": 5.0, \"sepalWidth\": 3.4, \"petalLength\": 1.5, \"petalWidth\": 0.2, \"species\": \"setosa\"}, {\"sepalLength\": 4.4, \"sepalWidth\": 2.9, \"petalLength\": 1.4, \"petalWidth\": 0.2, \"species\": \"setosa\"}, {\"sepalLength\": 4.9, \"sepalWidth\": 3.1, \"petalLength\": 1.5, \"petalWidth\": 0.1, \"species\": \"setosa\"}, {\"sepalLength\": 5.4, \"sepalWidth\": 3.7, \"petalLength\": 1.5, \"petalWidth\": 0.2, \"species\": \"setosa\"}, {\"sepalLength\": 4.8, \"sepalWidth\": 3.4, \"petalLength\": 1.6, \"petalWidth\": 0.2, \"species\": \"setosa\"}, {\"sepalLength\": 4.8, \"sepalWidth\": 3.0, \"petalLength\": 1.4, \"petalWidth\": 0.1, \"species\": \"setosa\"}, {\"sepalLength\": 4.3, \"sepalWidth\": 3.0, \"petalLength\": 1.1, \"petalWidth\": 0.1, \"species\": \"setosa\"}, {\"sepalLength\": 5.8, \"sepalWidth\": 4.0, \"petalLength\": 1.2, \"petalWidth\": 0.2, \"species\": \"setosa\"}, {\"sepalLength\": 5.7, \"sepalWidth\": 4.4, \"petalLength\": 1.5, \"petalWidth\": 0.4, \"species\": \"setosa\"}, {\"sepalLength\": 5.4, \"sepalWidth\": 3.9, \"petalLength\": 1.3, \"petalWidth\": 0.4, \"species\": \"setosa\"}, {\"sepalLength\": 5.1, \"sepalWidth\": 3.5, \"petalLength\": 1.4, \"petalWidth\": 0.30000000000000004, \"species\": \"setosa\"}, {\"sepalLength\": 5.7, \"sepalWidth\": 3.8, \"petalLength\": 1.7000000000000002, \"petalWidth\": 0.30000000000000004, \"species\": \"setosa\"}, {\"sepalLength\": 5.1, \"sepalWidth\": 3.8, \"petalLength\": 1.5, \"petalWidth\": 0.30000000000000004, \"species\": \"setosa\"}, {\"sepalLength\": 5.4, \"sepalWidth\": 3.4, \"petalLength\": 1.7000000000000002, \"petalWidth\": 0.2, \"species\": \"setosa\"}, {\"sepalLength\": 5.1, \"sepalWidth\": 3.7, \"petalLength\": 1.5, \"petalWidth\": 0.4, \"species\": \"setosa\"}, {\"sepalLength\": 4.6, \"sepalWidth\": 3.6, \"petalLength\": 1.0, \"petalWidth\": 0.2, \"species\": \"setosa\"}, {\"sepalLength\": 5.1, \"sepalWidth\": 3.3, \"petalLength\": 1.7000000000000002, \"petalWidth\": 0.5, \"species\": \"setosa\"}, {\"sepalLength\": 4.8, \"sepalWidth\": 3.4, \"petalLength\": 1.9, \"petalWidth\": 0.2, \"species\": \"setosa\"}, {\"sepalLength\": 5.0, \"sepalWidth\": 3.0, \"petalLength\": 1.6, \"petalWidth\": 0.2, \"species\": \"setosa\"}, {\"sepalLength\": 5.0, \"sepalWidth\": 3.4, \"petalLength\": 1.6, \"petalWidth\": 0.4, \"species\": \"setosa\"}, {\"sepalLength\": 5.2, \"sepalWidth\": 3.5, \"petalLength\": 1.5, \"petalWidth\": 0.2, \"species\": \"setosa\"}, {\"sepalLength\": 5.2, \"sepalWidth\": 3.4, \"petalLength\": 1.4, \"petalWidth\": 0.2, \"species\": \"setosa\"}, {\"sepalLength\": 4.7, \"sepalWidth\": 3.2, \"petalLength\": 1.6, \"petalWidth\": 0.2, \"species\": \"setosa\"}, {\"sepalLength\": 4.8, \"sepalWidth\": 3.1, \"petalLength\": 1.6, \"petalWidth\": 0.2, \"species\": \"setosa\"}, {\"sepalLength\": 5.4, \"sepalWidth\": 3.4, \"petalLength\": 1.5, \"petalWidth\": 0.4, \"species\": \"setosa\"}, {\"sepalLength\": 5.2, \"sepalWidth\": 4.1, \"petalLength\": 1.5, \"petalWidth\": 0.1, \"species\": \"setosa\"}, {\"sepalLength\": 5.5, \"sepalWidth\": 4.2, \"petalLength\": 1.4, \"petalWidth\": 0.2, \"species\": \"setosa\"}, {\"sepalLength\": 4.9, \"sepalWidth\": 3.1, \"petalLength\": 1.5, \"petalWidth\": 0.2, \"species\": \"setosa\"}, {\"sepalLength\": 5.0, \"sepalWidth\": 3.2, \"petalLength\": 1.2, \"petalWidth\": 0.2, \"species\": \"setosa\"}, {\"sepalLength\": 5.5, \"sepalWidth\": 3.5, \"petalLength\": 1.3, \"petalWidth\": 0.2, \"species\": \"setosa\"}, {\"sepalLength\": 4.9, \"sepalWidth\": 3.6, \"petalLength\": 1.4, \"petalWidth\": 0.1, \"species\": \"setosa\"}, {\"sepalLength\": 4.4, \"sepalWidth\": 3.0, \"petalLength\": 1.3, \"petalWidth\": 0.2, \"species\": \"setosa\"}, {\"sepalLength\": 5.1, \"sepalWidth\": 3.4, \"petalLength\": 1.5, \"petalWidth\": 0.2, \"species\": \"setosa\"}, {\"sepalLength\": 5.0, \"sepalWidth\": 3.5, \"petalLength\": 1.3, \"petalWidth\": 0.30000000000000004, \"species\": \"setosa\"}, {\"sepalLength\": 4.5, \"sepalWidth\": 2.3, \"petalLength\": 1.3, \"petalWidth\": 0.30000000000000004, \"species\": \"setosa\"}, {\"sepalLength\": 4.4, \"sepalWidth\": 3.2, \"petalLength\": 1.3, \"petalWidth\": 0.2, \"species\": \"setosa\"}, {\"sepalLength\": 5.0, \"sepalWidth\": 3.5, \"petalLength\": 1.6, \"petalWidth\": 0.6000000000000001, \"species\": \"setosa\"}, {\"sepalLength\": 5.1, \"sepalWidth\": 3.8, \"petalLength\": 1.9, \"petalWidth\": 0.4, \"species\": \"setosa\"}, {\"sepalLength\": 4.8, \"sepalWidth\": 3.0, \"petalLength\": 1.4, \"petalWidth\": 0.30000000000000004, \"species\": \"setosa\"}, {\"sepalLength\": 5.1, \"sepalWidth\": 3.8, \"petalLength\": 1.6, \"petalWidth\": 0.2, \"species\": \"setosa\"}, {\"sepalLength\": 4.6, \"sepalWidth\": 3.2, \"petalLength\": 1.4, \"petalWidth\": 0.2, \"species\": \"setosa\"}, {\"sepalLength\": 5.3, \"sepalWidth\": 3.7, \"petalLength\": 1.5, \"petalWidth\": 0.2, \"species\": \"setosa\"}, {\"sepalLength\": 5.0, \"sepalWidth\": 3.3, \"petalLength\": 1.4, \"petalWidth\": 0.2, \"species\": \"setosa\"}, {\"sepalLength\": 7.0, \"sepalWidth\": 3.2, \"petalLength\": 4.7, \"petalWidth\": 1.4, \"species\": \"versicolor\"}, {\"sepalLength\": 6.4, \"sepalWidth\": 3.2, \"petalLength\": 4.5, \"petalWidth\": 1.5, \"species\": \"versicolor\"}, {\"sepalLength\": 6.9, \"sepalWidth\": 3.1, \"petalLength\": 4.9, \"petalWidth\": 1.5, \"species\": \"versicolor\"}, {\"sepalLength\": 5.5, \"sepalWidth\": 2.3, \"petalLength\": 4.0, \"petalWidth\": 1.3, \"species\": \"versicolor\"}, {\"sepalLength\": 6.5, \"sepalWidth\": 2.8, \"petalLength\": 4.6, \"petalWidth\": 1.5, \"species\": \"versicolor\"}, {\"sepalLength\": 5.7, \"sepalWidth\": 2.8, \"petalLength\": 4.5, \"petalWidth\": 1.3, \"species\": \"versicolor\"}, {\"sepalLength\": 6.3, \"sepalWidth\": 3.3, \"petalLength\": 4.7, \"petalWidth\": 1.6, \"species\": \"versicolor\"}, {\"sepalLength\": 4.9, \"sepalWidth\": 2.4, \"petalLength\": 3.3, \"petalWidth\": 1.0, \"species\": \"versicolor\"}, {\"sepalLength\": 6.6, \"sepalWidth\": 2.9, \"petalLength\": 4.6, \"petalWidth\": 1.3, \"species\": \"versicolor\"}, {\"sepalLength\": 5.2, \"sepalWidth\": 2.7, \"petalLength\": 3.9, \"petalWidth\": 1.4, \"species\": \"versicolor\"}, {\"sepalLength\": 5.0, \"sepalWidth\": 2.0, \"petalLength\": 3.5, \"petalWidth\": 1.0, \"species\": \"versicolor\"}, {\"sepalLength\": 5.9, \"sepalWidth\": 3.0, \"petalLength\": 4.2, \"petalWidth\": 1.5, \"species\": \"versicolor\"}, {\"sepalLength\": 6.0, \"sepalWidth\": 2.2, \"petalLength\": 4.0, \"petalWidth\": 1.0, \"species\": \"versicolor\"}, {\"sepalLength\": 6.1, \"sepalWidth\": 2.9, \"petalLength\": 4.7, \"petalWidth\": 1.4, \"species\": \"versicolor\"}, {\"sepalLength\": 5.6, \"sepalWidth\": 2.9, \"petalLength\": 3.6, \"petalWidth\": 1.3, \"species\": \"versicolor\"}, {\"sepalLength\": 6.7, \"sepalWidth\": 3.1, \"petalLength\": 4.4, \"petalWidth\": 1.4, \"species\": \"versicolor\"}, {\"sepalLength\": 5.6, \"sepalWidth\": 3.0, \"petalLength\": 4.5, \"petalWidth\": 1.5, \"species\": \"versicolor\"}, {\"sepalLength\": 5.8, \"sepalWidth\": 2.7, \"petalLength\": 4.1, \"petalWidth\": 1.0, \"species\": \"versicolor\"}, {\"sepalLength\": 6.2, \"sepalWidth\": 2.2, \"petalLength\": 4.5, \"petalWidth\": 1.5, \"species\": \"versicolor\"}, {\"sepalLength\": 5.6, \"sepalWidth\": 2.5, \"petalLength\": 3.9, \"petalWidth\": 1.1, \"species\": \"versicolor\"}, {\"sepalLength\": 5.9, \"sepalWidth\": 3.2, \"petalLength\": 4.8, \"petalWidth\": 1.8, \"species\": \"versicolor\"}, {\"sepalLength\": 6.1, \"sepalWidth\": 2.8, \"petalLength\": 4.0, \"petalWidth\": 1.3, \"species\": \"versicolor\"}, {\"sepalLength\": 6.3, \"sepalWidth\": 2.5, \"petalLength\": 4.9, \"petalWidth\": 1.5, \"species\": \"versicolor\"}, {\"sepalLength\": 6.1, \"sepalWidth\": 2.8, \"petalLength\": 4.7, \"petalWidth\": 1.2, \"species\": \"versicolor\"}, {\"sepalLength\": 6.4, \"sepalWidth\": 2.9, \"petalLength\": 4.3, \"petalWidth\": 1.3, \"species\": \"versicolor\"}, {\"sepalLength\": 6.6, \"sepalWidth\": 3.0, \"petalLength\": 4.4, \"petalWidth\": 1.4, \"species\": \"versicolor\"}, {\"sepalLength\": 6.8, \"sepalWidth\": 2.8, \"petalLength\": 4.8, \"petalWidth\": 1.4, \"species\": \"versicolor\"}, {\"sepalLength\": 6.7, \"sepalWidth\": 3.0, \"petalLength\": 5.0, \"petalWidth\": 1.7000000000000002, \"species\": \"versicolor\"}, {\"sepalLength\": 6.0, \"sepalWidth\": 2.9, \"petalLength\": 4.5, \"petalWidth\": 1.5, \"species\": \"versicolor\"}, {\"sepalLength\": 5.7, \"sepalWidth\": 2.6, \"petalLength\": 3.5, \"petalWidth\": 1.0, \"species\": \"versicolor\"}, {\"sepalLength\": 5.5, \"sepalWidth\": 2.4, \"petalLength\": 3.8, \"petalWidth\": 1.1, \"species\": \"versicolor\"}, {\"sepalLength\": 5.5, \"sepalWidth\": 2.4, \"petalLength\": 3.7, \"petalWidth\": 1.0, \"species\": \"versicolor\"}, {\"sepalLength\": 5.8, \"sepalWidth\": 2.7, \"petalLength\": 3.9, \"petalWidth\": 1.2, \"species\": \"versicolor\"}, {\"sepalLength\": 6.0, \"sepalWidth\": 2.7, \"petalLength\": 5.1, \"petalWidth\": 1.6, \"species\": \"versicolor\"}, {\"sepalLength\": 5.4, \"sepalWidth\": 3.0, \"petalLength\": 4.5, \"petalWidth\": 1.5, \"species\": \"versicolor\"}, {\"sepalLength\": 6.0, \"sepalWidth\": 3.4, \"petalLength\": 4.5, \"petalWidth\": 1.6, \"species\": \"versicolor\"}, {\"sepalLength\": 6.7, \"sepalWidth\": 3.1, \"petalLength\": 4.7, \"petalWidth\": 1.5, \"species\": \"versicolor\"}, {\"sepalLength\": 6.3, \"sepalWidth\": 2.3, \"petalLength\": 4.4, \"petalWidth\": 1.3, \"species\": \"versicolor\"}, {\"sepalLength\": 5.6, \"sepalWidth\": 3.0, \"petalLength\": 4.1, \"petalWidth\": 1.3, \"species\": \"versicolor\"}, {\"sepalLength\": 5.5, \"sepalWidth\": 2.5, \"petalLength\": 4.0, \"petalWidth\": 1.3, \"species\": \"versicolor\"}, {\"sepalLength\": 5.5, \"sepalWidth\": 2.6, \"petalLength\": 4.4, \"petalWidth\": 1.2, \"species\": \"versicolor\"}, {\"sepalLength\": 6.1, \"sepalWidth\": 3.0, \"petalLength\": 4.6, \"petalWidth\": 1.4, \"species\": \"versicolor\"}, {\"sepalLength\": 5.8, \"sepalWidth\": 2.6, \"petalLength\": 4.0, \"petalWidth\": 1.2, \"species\": \"versicolor\"}, {\"sepalLength\": 5.0, \"sepalWidth\": 2.3, \"petalLength\": 3.3, \"petalWidth\": 1.0, \"species\": \"versicolor\"}, {\"sepalLength\": 5.6, \"sepalWidth\": 2.7, \"petalLength\": 4.2, \"petalWidth\": 1.3, \"species\": \"versicolor\"}, {\"sepalLength\": 5.7, \"sepalWidth\": 3.0, \"petalLength\": 4.2, \"petalWidth\": 1.2, \"species\": \"versicolor\"}, {\"sepalLength\": 5.7, \"sepalWidth\": 2.9, \"petalLength\": 4.2, \"petalWidth\": 1.3, \"species\": \"versicolor\"}, {\"sepalLength\": 6.2, \"sepalWidth\": 2.9, \"petalLength\": 4.3, \"petalWidth\": 1.3, \"species\": \"versicolor\"}, {\"sepalLength\": 5.1, \"sepalWidth\": 2.5, \"petalLength\": 3.0, \"petalWidth\": 1.1, \"species\": \"versicolor\"}, {\"sepalLength\": 5.7, \"sepalWidth\": 2.8, \"petalLength\": 4.1, \"petalWidth\": 1.3, \"species\": \"versicolor\"}, {\"sepalLength\": 6.3, \"sepalWidth\": 3.3, \"petalLength\": 6.0, \"petalWidth\": 2.5, \"species\": \"virginica\"}, {\"sepalLength\": 5.8, \"sepalWidth\": 2.7, \"petalLength\": 5.1, \"petalWidth\": 1.9, \"species\": \"virginica\"}, {\"sepalLength\": 7.1, \"sepalWidth\": 3.0, \"petalLength\": 5.9, \"petalWidth\": 2.1, \"species\": \"virginica\"}, {\"sepalLength\": 6.3, \"sepalWidth\": 2.9, \"petalLength\": 5.6, \"petalWidth\": 1.8, \"species\": \"virginica\"}, {\"sepalLength\": 6.5, \"sepalWidth\": 3.0, \"petalLength\": 5.8, \"petalWidth\": 2.2, \"species\": \"virginica\"}, {\"sepalLength\": 7.6, \"sepalWidth\": 3.0, \"petalLength\": 6.6, \"petalWidth\": 2.1, \"species\": \"virginica\"}, {\"sepalLength\": 4.9, \"sepalWidth\": 2.5, \"petalLength\": 4.5, \"petalWidth\": 1.7000000000000002, \"species\": \"virginica\"}, {\"sepalLength\": 7.3, \"sepalWidth\": 2.9, \"petalLength\": 6.3, \"petalWidth\": 1.8, \"species\": \"virginica\"}, {\"sepalLength\": 6.7, \"sepalWidth\": 2.5, \"petalLength\": 5.8, \"petalWidth\": 1.8, \"species\": \"virginica\"}, {\"sepalLength\": 7.2, \"sepalWidth\": 3.6, \"petalLength\": 6.1, \"petalWidth\": 2.5, \"species\": \"virginica\"}, {\"sepalLength\": 6.5, \"sepalWidth\": 3.2, \"petalLength\": 5.1, \"petalWidth\": 2.0, \"species\": \"virginica\"}, {\"sepalLength\": 6.4, \"sepalWidth\": 2.7, \"petalLength\": 5.3, \"petalWidth\": 1.9, \"species\": \"virginica\"}, {\"sepalLength\": 6.8, \"sepalWidth\": 3.0, \"petalLength\": 5.5, \"petalWidth\": 2.1, \"species\": \"virginica\"}, {\"sepalLength\": 5.7, \"sepalWidth\": 2.5, \"petalLength\": 5.0, \"petalWidth\": 2.0, \"species\": \"virginica\"}, {\"sepalLength\": 5.8, \"sepalWidth\": 2.8, \"petalLength\": 5.1, \"petalWidth\": 2.4, \"species\": \"virginica\"}, {\"sepalLength\": 6.4, \"sepalWidth\": 3.2, \"petalLength\": 5.3, \"petalWidth\": 2.3, \"species\": \"virginica\"}, {\"sepalLength\": 6.5, \"sepalWidth\": 3.0, \"petalLength\": 5.5, \"petalWidth\": 1.8, \"species\": \"virginica\"}, {\"sepalLength\": 7.7, \"sepalWidth\": 3.8, \"petalLength\": 6.7, \"petalWidth\": 2.2, \"species\": \"virginica\"}, {\"sepalLength\": 7.7, \"sepalWidth\": 2.6, \"petalLength\": 6.9, \"petalWidth\": 2.3, \"species\": \"virginica\"}, {\"sepalLength\": 6.0, \"sepalWidth\": 2.2, \"petalLength\": 5.0, \"petalWidth\": 1.5, \"species\": \"virginica\"}, {\"sepalLength\": 6.9, \"sepalWidth\": 3.2, \"petalLength\": 5.7, \"petalWidth\": 2.3, \"species\": \"virginica\"}, {\"sepalLength\": 5.6, \"sepalWidth\": 2.8, \"petalLength\": 4.9, \"petalWidth\": 2.0, \"species\": \"virginica\"}, {\"sepalLength\": 7.7, \"sepalWidth\": 2.8, \"petalLength\": 6.7, \"petalWidth\": 2.0, \"species\": \"virginica\"}, {\"sepalLength\": 6.3, \"sepalWidth\": 2.7, \"petalLength\": 4.9, \"petalWidth\": 1.8, \"species\": \"virginica\"}, {\"sepalLength\": 6.7, \"sepalWidth\": 3.3, \"petalLength\": 5.7, \"petalWidth\": 2.1, \"species\": \"virginica\"}, {\"sepalLength\": 7.2, \"sepalWidth\": 3.2, \"petalLength\": 6.0, \"petalWidth\": 1.8, \"species\": \"virginica\"}, {\"sepalLength\": 6.2, \"sepalWidth\": 2.8, \"petalLength\": 4.8, \"petalWidth\": 1.8, \"species\": \"virginica\"}, {\"sepalLength\": 6.1, \"sepalWidth\": 3.0, \"petalLength\": 4.9, \"petalWidth\": 1.8, \"species\": \"virginica\"}, {\"sepalLength\": 6.4, \"sepalWidth\": 2.8, \"petalLength\": 5.6, \"petalWidth\": 2.1, \"species\": \"virginica\"}, {\"sepalLength\": 7.2, \"sepalWidth\": 3.0, \"petalLength\": 5.8, \"petalWidth\": 1.6, \"species\": \"virginica\"}, {\"sepalLength\": 7.4, \"sepalWidth\": 2.8, \"petalLength\": 6.1, \"petalWidth\": 1.9, \"species\": \"virginica\"}, {\"sepalLength\": 7.9, \"sepalWidth\": 3.8, \"petalLength\": 6.4, \"petalWidth\": 2.0, \"species\": \"virginica\"}, {\"sepalLength\": 6.4, \"sepalWidth\": 2.8, \"petalLength\": 5.6, \"petalWidth\": 2.2, \"species\": \"virginica\"}, {\"sepalLength\": 6.3, \"sepalWidth\": 2.8, \"petalLength\": 5.1, \"petalWidth\": 1.5, \"species\": \"virginica\"}, {\"sepalLength\": 6.1, \"sepalWidth\": 2.6, \"petalLength\": 5.6, \"petalWidth\": 1.4, \"species\": \"virginica\"}, {\"sepalLength\": 7.7, \"sepalWidth\": 3.0, \"petalLength\": 6.1, \"petalWidth\": 2.3, \"species\": \"virginica\"}, {\"sepalLength\": 6.3, \"sepalWidth\": 3.4, \"petalLength\": 5.6, \"petalWidth\": 2.4, \"species\": \"virginica\"}, {\"sepalLength\": 6.4, \"sepalWidth\": 3.1, \"petalLength\": 5.5, \"petalWidth\": 1.8, \"species\": \"virginica\"}, {\"sepalLength\": 6.0, \"sepalWidth\": 3.0, \"petalLength\": 4.8, \"petalWidth\": 1.8, \"species\": \"virginica\"}, {\"sepalLength\": 6.9, \"sepalWidth\": 3.1, \"petalLength\": 5.4, \"petalWidth\": 2.1, \"species\": \"virginica\"}, {\"sepalLength\": 6.7, \"sepalWidth\": 3.1, \"petalLength\": 5.6, \"petalWidth\": 2.4, \"species\": \"virginica\"}, {\"sepalLength\": 6.9, \"sepalWidth\": 3.1, \"petalLength\": 5.1, \"petalWidth\": 2.3, \"species\": \"virginica\"}, {\"sepalLength\": 5.8, \"sepalWidth\": 2.7, \"petalLength\": 5.1, \"petalWidth\": 1.9, \"species\": \"virginica\"}, {\"sepalLength\": 6.8, \"sepalWidth\": 3.2, \"petalLength\": 5.9, \"petalWidth\": 2.3, \"species\": \"virginica\"}, {\"sepalLength\": 6.7, \"sepalWidth\": 3.3, \"petalLength\": 5.7, \"petalWidth\": 2.5, \"species\": \"virginica\"}, {\"sepalLength\": 6.7, \"sepalWidth\": 3.0, \"petalLength\": 5.2, \"petalWidth\": 2.3, \"species\": \"virginica\"}, {\"sepalLength\": 6.3, \"sepalWidth\": 2.5, \"petalLength\": 5.0, \"petalWidth\": 1.9, \"species\": \"virginica\"}, {\"sepalLength\": 6.5, \"sepalWidth\": 3.0, \"petalLength\": 5.2, \"petalWidth\": 2.0, \"species\": \"virginica\"}, {\"sepalLength\": 6.2, \"sepalWidth\": 3.4, \"petalLength\": 5.4, \"petalWidth\": 2.3, \"species\": \"virginica\"}, {\"sepalLength\": 5.9, \"sepalWidth\": 3.0, \"petalLength\": 5.1, \"petalWidth\": 1.8, \"species\": \"virginica\"}]}}, {\"mode\": \"vega-lite\"});\n",
              "</script>"
            ],
            "text/plain": [
              "alt.Chart(...)"
            ]
          },
          "metadata": {},
          "execution_count": 11
        }
      ]
    },
    {
      "cell_type": "markdown",
      "source": [
        "## Bonus: Explore Vega Datasets\n",
        "\n",
        "https://cdn.jsdelivr.net/npm/vega-datasets@v1.29.0/data/\n",
        "\n",
        "[Descriptions](https://github.com/vega/vega-datasets/blob/main/SOURCES.md)"
      ],
      "metadata": {
        "id": "kdhSvNMjRTpJ"
      }
    },
    {
      "cell_type": "markdown",
      "source": [
        "# Grouped Bar charts"
      ],
      "metadata": {
        "id": "KoauKG0qiaJS"
      }
    },
    {
      "cell_type": "markdown",
      "source": [
        "## Grouped Bar charts example 1"
      ],
      "metadata": {
        "id": "Cd5m9ZIMyGoh"
      }
    },
    {
      "cell_type": "markdown",
      "source": [
        "Let’s take an example, suppose, we want to compare the runs made by two players across three formats.\n",
        "Here,\n",
        "* runs scored by the players act as **values**,\n",
        "* Player name acts as a **series** and\n",
        "* the format of the game acts as the **categories**.\n",
        "\n",
        "Always, the runs scored by each player will have the same color representation across the different formats.\n",
        "\n",
        "\n",
        "As we discussed, we need at least three rows/columns. Let's start by creating a dataset having three columns using pandas library."
      ],
      "metadata": {
        "id": "BLPOXOY_ioxV"
      }
    },
    {
      "cell_type": "code",
      "source": [
        "# creating a custom dataframe\n",
        "data = pd.DataFrame([[264, 'Rohit', 'ODI'],\n",
        "                     [183, 'Virat', 'ODI'],\n",
        "                     [118, 'Rohit', 'T20'],\n",
        "                     [94, 'Virat', 'T20'],\n",
        "                     [212, 'Rohit','Test'],\n",
        "                     [254, 'Virat','Test']],\n",
        "                     columns=['Highest Score', 'Player', 'Format'])\n",
        "data"
      ],
      "metadata": {
        "colab": {
          "base_uri": "https://localhost:8080/",
          "height": 237
        },
        "id": "-ZVbu_V0jSr5",
        "outputId": "2e28934f-c0c9-42d7-8075-fe709ad71057"
      },
      "execution_count": null,
      "outputs": [
        {
          "output_type": "execute_result",
          "data": {
            "text/plain": [
              "   Highest Score Player Format\n",
              "0            264  Rohit    ODI\n",
              "1            183  Virat    ODI\n",
              "2            118  Rohit    T20\n",
              "3             94  Virat    T20\n",
              "4            212  Rohit   Test\n",
              "5            254  Virat   Test"
            ],
            "text/html": [
              "\n",
              "  <div id=\"df-7cc3da8b-507b-4e75-98cc-c2483ebf08a8\" class=\"colab-df-container\">\n",
              "    <div>\n",
              "<style scoped>\n",
              "    .dataframe tbody tr th:only-of-type {\n",
              "        vertical-align: middle;\n",
              "    }\n",
              "\n",
              "    .dataframe tbody tr th {\n",
              "        vertical-align: top;\n",
              "    }\n",
              "\n",
              "    .dataframe thead th {\n",
              "        text-align: right;\n",
              "    }\n",
              "</style>\n",
              "<table border=\"1\" class=\"dataframe\">\n",
              "  <thead>\n",
              "    <tr style=\"text-align: right;\">\n",
              "      <th></th>\n",
              "      <th>Highest Score</th>\n",
              "      <th>Player</th>\n",
              "      <th>Format</th>\n",
              "    </tr>\n",
              "  </thead>\n",
              "  <tbody>\n",
              "    <tr>\n",
              "      <th>0</th>\n",
              "      <td>264</td>\n",
              "      <td>Rohit</td>\n",
              "      <td>ODI</td>\n",
              "    </tr>\n",
              "    <tr>\n",
              "      <th>1</th>\n",
              "      <td>183</td>\n",
              "      <td>Virat</td>\n",
              "      <td>ODI</td>\n",
              "    </tr>\n",
              "    <tr>\n",
              "      <th>2</th>\n",
              "      <td>118</td>\n",
              "      <td>Rohit</td>\n",
              "      <td>T20</td>\n",
              "    </tr>\n",
              "    <tr>\n",
              "      <th>3</th>\n",
              "      <td>94</td>\n",
              "      <td>Virat</td>\n",
              "      <td>T20</td>\n",
              "    </tr>\n",
              "    <tr>\n",
              "      <th>4</th>\n",
              "      <td>212</td>\n",
              "      <td>Rohit</td>\n",
              "      <td>Test</td>\n",
              "    </tr>\n",
              "    <tr>\n",
              "      <th>5</th>\n",
              "      <td>254</td>\n",
              "      <td>Virat</td>\n",
              "      <td>Test</td>\n",
              "    </tr>\n",
              "  </tbody>\n",
              "</table>\n",
              "</div>\n",
              "    <div class=\"colab-df-buttons\">\n",
              "\n",
              "  <div class=\"colab-df-container\">\n",
              "    <button class=\"colab-df-convert\" onclick=\"convertToInteractive('df-7cc3da8b-507b-4e75-98cc-c2483ebf08a8')\"\n",
              "            title=\"Convert this dataframe to an interactive table.\"\n",
              "            style=\"display:none;\">\n",
              "\n",
              "  <svg xmlns=\"http://www.w3.org/2000/svg\" height=\"24px\" viewBox=\"0 -960 960 960\">\n",
              "    <path d=\"M120-120v-720h720v720H120Zm60-500h600v-160H180v160Zm220 220h160v-160H400v160Zm0 220h160v-160H400v160ZM180-400h160v-160H180v160Zm440 0h160v-160H620v160ZM180-180h160v-160H180v160Zm440 0h160v-160H620v160Z\"/>\n",
              "  </svg>\n",
              "    </button>\n",
              "\n",
              "  <style>\n",
              "    .colab-df-container {\n",
              "      display:flex;\n",
              "      gap: 12px;\n",
              "    }\n",
              "\n",
              "    .colab-df-convert {\n",
              "      background-color: #E8F0FE;\n",
              "      border: none;\n",
              "      border-radius: 50%;\n",
              "      cursor: pointer;\n",
              "      display: none;\n",
              "      fill: #1967D2;\n",
              "      height: 32px;\n",
              "      padding: 0 0 0 0;\n",
              "      width: 32px;\n",
              "    }\n",
              "\n",
              "    .colab-df-convert:hover {\n",
              "      background-color: #E2EBFA;\n",
              "      box-shadow: 0px 1px 2px rgba(60, 64, 67, 0.3), 0px 1px 3px 1px rgba(60, 64, 67, 0.15);\n",
              "      fill: #174EA6;\n",
              "    }\n",
              "\n",
              "    .colab-df-buttons div {\n",
              "      margin-bottom: 4px;\n",
              "    }\n",
              "\n",
              "    [theme=dark] .colab-df-convert {\n",
              "      background-color: #3B4455;\n",
              "      fill: #D2E3FC;\n",
              "    }\n",
              "\n",
              "    [theme=dark] .colab-df-convert:hover {\n",
              "      background-color: #434B5C;\n",
              "      box-shadow: 0px 1px 3px 1px rgba(0, 0, 0, 0.15);\n",
              "      filter: drop-shadow(0px 1px 2px rgba(0, 0, 0, 0.3));\n",
              "      fill: #FFFFFF;\n",
              "    }\n",
              "  </style>\n",
              "\n",
              "    <script>\n",
              "      const buttonEl =\n",
              "        document.querySelector('#df-7cc3da8b-507b-4e75-98cc-c2483ebf08a8 button.colab-df-convert');\n",
              "      buttonEl.style.display =\n",
              "        google.colab.kernel.accessAllowed ? 'block' : 'none';\n",
              "\n",
              "      async function convertToInteractive(key) {\n",
              "        const element = document.querySelector('#df-7cc3da8b-507b-4e75-98cc-c2483ebf08a8');\n",
              "        const dataTable =\n",
              "          await google.colab.kernel.invokeFunction('convertToInteractive',\n",
              "                                                    [key], {});\n",
              "        if (!dataTable) return;\n",
              "\n",
              "        const docLinkHtml = 'Like what you see? Visit the ' +\n",
              "          '<a target=\"_blank\" href=https://colab.research.google.com/notebooks/data_table.ipynb>data table notebook</a>'\n",
              "          + ' to learn more about interactive tables.';\n",
              "        element.innerHTML = '';\n",
              "        dataTable['output_type'] = 'display_data';\n",
              "        await google.colab.output.renderOutput(dataTable, element);\n",
              "        const docLink = document.createElement('div');\n",
              "        docLink.innerHTML = docLinkHtml;\n",
              "        element.appendChild(docLink);\n",
              "      }\n",
              "    </script>\n",
              "  </div>\n",
              "\n",
              "\n",
              "<div id=\"df-16665992-2846-4c51-a273-81dde6eb4fc3\">\n",
              "  <button class=\"colab-df-quickchart\" onclick=\"quickchart('df-16665992-2846-4c51-a273-81dde6eb4fc3')\"\n",
              "            title=\"Suggest charts\"\n",
              "            style=\"display:none;\">\n",
              "\n",
              "<svg xmlns=\"http://www.w3.org/2000/svg\" height=\"24px\"viewBox=\"0 0 24 24\"\n",
              "     width=\"24px\">\n",
              "    <g>\n",
              "        <path d=\"M19 3H5c-1.1 0-2 .9-2 2v14c0 1.1.9 2 2 2h14c1.1 0 2-.9 2-2V5c0-1.1-.9-2-2-2zM9 17H7v-7h2v7zm4 0h-2V7h2v10zm4 0h-2v-4h2v4z\"/>\n",
              "    </g>\n",
              "</svg>\n",
              "  </button>\n",
              "\n",
              "<style>\n",
              "  .colab-df-quickchart {\n",
              "      --bg-color: #E8F0FE;\n",
              "      --fill-color: #1967D2;\n",
              "      --hover-bg-color: #E2EBFA;\n",
              "      --hover-fill-color: #174EA6;\n",
              "      --disabled-fill-color: #AAA;\n",
              "      --disabled-bg-color: #DDD;\n",
              "  }\n",
              "\n",
              "  [theme=dark] .colab-df-quickchart {\n",
              "      --bg-color: #3B4455;\n",
              "      --fill-color: #D2E3FC;\n",
              "      --hover-bg-color: #434B5C;\n",
              "      --hover-fill-color: #FFFFFF;\n",
              "      --disabled-bg-color: #3B4455;\n",
              "      --disabled-fill-color: #666;\n",
              "  }\n",
              "\n",
              "  .colab-df-quickchart {\n",
              "    background-color: var(--bg-color);\n",
              "    border: none;\n",
              "    border-radius: 50%;\n",
              "    cursor: pointer;\n",
              "    display: none;\n",
              "    fill: var(--fill-color);\n",
              "    height: 32px;\n",
              "    padding: 0;\n",
              "    width: 32px;\n",
              "  }\n",
              "\n",
              "  .colab-df-quickchart:hover {\n",
              "    background-color: var(--hover-bg-color);\n",
              "    box-shadow: 0 1px 2px rgba(60, 64, 67, 0.3), 0 1px 3px 1px rgba(60, 64, 67, 0.15);\n",
              "    fill: var(--button-hover-fill-color);\n",
              "  }\n",
              "\n",
              "  .colab-df-quickchart-complete:disabled,\n",
              "  .colab-df-quickchart-complete:disabled:hover {\n",
              "    background-color: var(--disabled-bg-color);\n",
              "    fill: var(--disabled-fill-color);\n",
              "    box-shadow: none;\n",
              "  }\n",
              "\n",
              "  .colab-df-spinner {\n",
              "    border: 2px solid var(--fill-color);\n",
              "    border-color: transparent;\n",
              "    border-bottom-color: var(--fill-color);\n",
              "    animation:\n",
              "      spin 1s steps(1) infinite;\n",
              "  }\n",
              "\n",
              "  @keyframes spin {\n",
              "    0% {\n",
              "      border-color: transparent;\n",
              "      border-bottom-color: var(--fill-color);\n",
              "      border-left-color: var(--fill-color);\n",
              "    }\n",
              "    20% {\n",
              "      border-color: transparent;\n",
              "      border-left-color: var(--fill-color);\n",
              "      border-top-color: var(--fill-color);\n",
              "    }\n",
              "    30% {\n",
              "      border-color: transparent;\n",
              "      border-left-color: var(--fill-color);\n",
              "      border-top-color: var(--fill-color);\n",
              "      border-right-color: var(--fill-color);\n",
              "    }\n",
              "    40% {\n",
              "      border-color: transparent;\n",
              "      border-right-color: var(--fill-color);\n",
              "      border-top-color: var(--fill-color);\n",
              "    }\n",
              "    60% {\n",
              "      border-color: transparent;\n",
              "      border-right-color: var(--fill-color);\n",
              "    }\n",
              "    80% {\n",
              "      border-color: transparent;\n",
              "      border-right-color: var(--fill-color);\n",
              "      border-bottom-color: var(--fill-color);\n",
              "    }\n",
              "    90% {\n",
              "      border-color: transparent;\n",
              "      border-bottom-color: var(--fill-color);\n",
              "    }\n",
              "  }\n",
              "</style>\n",
              "\n",
              "  <script>\n",
              "    async function quickchart(key) {\n",
              "      const quickchartButtonEl =\n",
              "        document.querySelector('#' + key + ' button');\n",
              "      quickchartButtonEl.disabled = true;  // To prevent multiple clicks.\n",
              "      quickchartButtonEl.classList.add('colab-df-spinner');\n",
              "      try {\n",
              "        const charts = await google.colab.kernel.invokeFunction(\n",
              "            'suggestCharts', [key], {});\n",
              "      } catch (error) {\n",
              "        console.error('Error during call to suggestCharts:', error);\n",
              "      }\n",
              "      quickchartButtonEl.classList.remove('colab-df-spinner');\n",
              "      quickchartButtonEl.classList.add('colab-df-quickchart-complete');\n",
              "    }\n",
              "    (() => {\n",
              "      let quickchartButtonEl =\n",
              "        document.querySelector('#df-16665992-2846-4c51-a273-81dde6eb4fc3 button');\n",
              "      quickchartButtonEl.style.display =\n",
              "        google.colab.kernel.accessAllowed ? 'block' : 'none';\n",
              "    })();\n",
              "  </script>\n",
              "</div>\n",
              "    </div>\n",
              "  </div>\n"
            ],
            "application/vnd.google.colaboratory.intrinsic+json": {
              "type": "dataframe",
              "variable_name": "data",
              "summary": "{\n  \"name\": \"data\",\n  \"rows\": 6,\n  \"fields\": [\n    {\n      \"column\": \"Highest Score\",\n      \"properties\": {\n        \"dtype\": \"number\",\n        \"std\": 69,\n        \"min\": 94,\n        \"max\": 264,\n        \"num_unique_values\": 6,\n        \"samples\": [\n          264,\n          183,\n          254\n        ],\n        \"semantic_type\": \"\",\n        \"description\": \"\"\n      }\n    },\n    {\n      \"column\": \"Player\",\n      \"properties\": {\n        \"dtype\": \"category\",\n        \"num_unique_values\": 2,\n        \"samples\": [\n          \"Virat\",\n          \"Rohit\"\n        ],\n        \"semantic_type\": \"\",\n        \"description\": \"\"\n      }\n    },\n    {\n      \"column\": \"Format\",\n      \"properties\": {\n        \"dtype\": \"string\",\n        \"num_unique_values\": 3,\n        \"samples\": [\n          \"ODI\",\n          \"T20\"\n        ],\n        \"semantic_type\": \"\",\n        \"description\": \"\"\n      }\n    }\n  ]\n}"
            }
          },
          "metadata": {},
          "execution_count": 20
        }
      ]
    },
    {
      "cell_type": "markdown",
      "source": [
        "Now, that we have a dataset containing three columns, where we want to compare the highest score (values) of two players (series) across different formats (categories)."
      ],
      "metadata": {
        "id": "ZrWqv26rjdCE"
      }
    },
    {
      "cell_type": "code",
      "source": [
        "# start here hint: one encoding that is used in altair is \"column\""
      ],
      "metadata": {
        "id": "iGz36I6Ljb0k"
      },
      "execution_count": null,
      "outputs": []
    },
    {
      "cell_type": "code",
      "source": [
        "# @title click for solution\n",
        "\n",
        "gp_chart = alt.Chart(data).mark_bar().encode(\n",
        "    alt.Column('Format'),\n",
        "    alt.X('Player'), #here we are using posititional arguments rather than keyword arguments. positional arguments are defined as \"alt.argument()\" like functions in python.\n",
        "    alt.Y('Highest Score', axis=alt.Axis(grid=False)), # as you see positional arguments can be more explicit and allows for additional customization through parameters.\n",
        "    alt.Color('Player'))\n",
        "\n",
        "gp_chart.display() # display the chart\n"
      ],
      "metadata": {
        "colab": {
          "base_uri": "https://localhost:8080/",
          "height": 430
        },
        "id": "eVCZwvsPjw4J",
        "outputId": "4e0da6ed-af17-4220-9012-951ddfc5338d"
      },
      "execution_count": null,
      "outputs": [
        {
          "output_type": "display_data",
          "data": {
            "text/html": [
              "\n",
              "<div id=\"altair-viz-1b83c56f502740f7bfb4739ef2c9dd0d\"></div>\n",
              "<script type=\"text/javascript\">\n",
              "  var VEGA_DEBUG = (typeof VEGA_DEBUG == \"undefined\") ? {} : VEGA_DEBUG;\n",
              "  (function(spec, embedOpt){\n",
              "    let outputDiv = document.currentScript.previousElementSibling;\n",
              "    if (outputDiv.id !== \"altair-viz-1b83c56f502740f7bfb4739ef2c9dd0d\") {\n",
              "      outputDiv = document.getElementById(\"altair-viz-1b83c56f502740f7bfb4739ef2c9dd0d\");\n",
              "    }\n",
              "    const paths = {\n",
              "      \"vega\": \"https://cdn.jsdelivr.net/npm//vega@5?noext\",\n",
              "      \"vega-lib\": \"https://cdn.jsdelivr.net/npm//vega-lib?noext\",\n",
              "      \"vega-lite\": \"https://cdn.jsdelivr.net/npm//vega-lite@4.17.0?noext\",\n",
              "      \"vega-embed\": \"https://cdn.jsdelivr.net/npm//vega-embed@6?noext\",\n",
              "    };\n",
              "\n",
              "    function maybeLoadScript(lib, version) {\n",
              "      var key = `${lib.replace(\"-\", \"\")}_version`;\n",
              "      return (VEGA_DEBUG[key] == version) ?\n",
              "        Promise.resolve(paths[lib]) :\n",
              "        new Promise(function(resolve, reject) {\n",
              "          var s = document.createElement('script');\n",
              "          document.getElementsByTagName(\"head\")[0].appendChild(s);\n",
              "          s.async = true;\n",
              "          s.onload = () => {\n",
              "            VEGA_DEBUG[key] = version;\n",
              "            return resolve(paths[lib]);\n",
              "          };\n",
              "          s.onerror = () => reject(`Error loading script: ${paths[lib]}`);\n",
              "          s.src = paths[lib];\n",
              "        });\n",
              "    }\n",
              "\n",
              "    function showError(err) {\n",
              "      outputDiv.innerHTML = `<div class=\"error\" style=\"color:red;\">${err}</div>`;\n",
              "      throw err;\n",
              "    }\n",
              "\n",
              "    function displayChart(vegaEmbed) {\n",
              "      vegaEmbed(outputDiv, spec, embedOpt)\n",
              "        .catch(err => showError(`Javascript Error: ${err.message}<br>This usually means there's a typo in your chart specification. See the javascript console for the full traceback.`));\n",
              "    }\n",
              "\n",
              "    if(typeof define === \"function\" && define.amd) {\n",
              "      requirejs.config({paths});\n",
              "      require([\"vega-embed\"], displayChart, err => showError(`Error loading script: ${err.message}`));\n",
              "    } else {\n",
              "      maybeLoadScript(\"vega\", \"5\")\n",
              "        .then(() => maybeLoadScript(\"vega-lite\", \"4.17.0\"))\n",
              "        .then(() => maybeLoadScript(\"vega-embed\", \"6\"))\n",
              "        .catch(showError)\n",
              "        .then(() => displayChart(vegaEmbed));\n",
              "    }\n",
              "  })({\"config\": {\"view\": {\"continuousWidth\": 400, \"continuousHeight\": 300}}, \"data\": {\"name\": \"data-08d22b0934ed737184469bf27f2339ce\"}, \"mark\": \"bar\", \"encoding\": {\"color\": {\"field\": \"Player\", \"type\": \"nominal\"}, \"column\": {\"field\": \"Format\", \"type\": \"nominal\"}, \"x\": {\"field\": \"Player\", \"type\": \"nominal\"}, \"y\": {\"axis\": {\"grid\": false}, \"field\": \"Highest Score\", \"type\": \"quantitative\"}}, \"$schema\": \"https://vega.github.io/schema/vega-lite/v4.17.0.json\", \"datasets\": {\"data-08d22b0934ed737184469bf27f2339ce\": [{\"Highest Score\": 264, \"Player\": \"Rohit\", \"Format\": \"ODI\"}, {\"Highest Score\": 183, \"Player\": \"Virat\", \"Format\": \"ODI\"}, {\"Highest Score\": 118, \"Player\": \"Rohit\", \"Format\": \"T20\"}, {\"Highest Score\": 94, \"Player\": \"Virat\", \"Format\": \"T20\"}, {\"Highest Score\": 212, \"Player\": \"Rohit\", \"Format\": \"Test\"}, {\"Highest Score\": 254, \"Player\": \"Virat\", \"Format\": \"Test\"}]}}, {\"mode\": \"vega-lite\"});\n",
              "</script>"
            ],
            "text/plain": [
              "alt.Chart(...)"
            ]
          },
          "metadata": {}
        }
      ]
    },
    {
      "cell_type": "code",
      "source": [
        "# @title simpler way to make it\n",
        "gp_chart = alt.Chart(data).mark_bar().encode(\n",
        "    column='Format', # this way to define encoding is called keyword arguments\n",
        "    x='Player',\n",
        "    y='Highest Score', #note that you cannot customize it as much as you want\n",
        "    color='Player'\n",
        ")\n",
        "\n",
        "gp_chart"
      ],
      "metadata": {
        "colab": {
          "base_uri": "https://localhost:8080/",
          "height": 430
        },
        "id": "oYeO33JPoYDU",
        "outputId": "b8a8588f-32c3-40d4-cb0b-9c129d6d403d",
        "cellView": "form"
      },
      "execution_count": null,
      "outputs": [
        {
          "output_type": "execute_result",
          "data": {
            "text/html": [
              "\n",
              "<div id=\"altair-viz-468d4fe042df440e9328d44119a90b47\"></div>\n",
              "<script type=\"text/javascript\">\n",
              "  var VEGA_DEBUG = (typeof VEGA_DEBUG == \"undefined\") ? {} : VEGA_DEBUG;\n",
              "  (function(spec, embedOpt){\n",
              "    let outputDiv = document.currentScript.previousElementSibling;\n",
              "    if (outputDiv.id !== \"altair-viz-468d4fe042df440e9328d44119a90b47\") {\n",
              "      outputDiv = document.getElementById(\"altair-viz-468d4fe042df440e9328d44119a90b47\");\n",
              "    }\n",
              "    const paths = {\n",
              "      \"vega\": \"https://cdn.jsdelivr.net/npm//vega@5?noext\",\n",
              "      \"vega-lib\": \"https://cdn.jsdelivr.net/npm//vega-lib?noext\",\n",
              "      \"vega-lite\": \"https://cdn.jsdelivr.net/npm//vega-lite@4.17.0?noext\",\n",
              "      \"vega-embed\": \"https://cdn.jsdelivr.net/npm//vega-embed@6?noext\",\n",
              "    };\n",
              "\n",
              "    function maybeLoadScript(lib, version) {\n",
              "      var key = `${lib.replace(\"-\", \"\")}_version`;\n",
              "      return (VEGA_DEBUG[key] == version) ?\n",
              "        Promise.resolve(paths[lib]) :\n",
              "        new Promise(function(resolve, reject) {\n",
              "          var s = document.createElement('script');\n",
              "          document.getElementsByTagName(\"head\")[0].appendChild(s);\n",
              "          s.async = true;\n",
              "          s.onload = () => {\n",
              "            VEGA_DEBUG[key] = version;\n",
              "            return resolve(paths[lib]);\n",
              "          };\n",
              "          s.onerror = () => reject(`Error loading script: ${paths[lib]}`);\n",
              "          s.src = paths[lib];\n",
              "        });\n",
              "    }\n",
              "\n",
              "    function showError(err) {\n",
              "      outputDiv.innerHTML = `<div class=\"error\" style=\"color:red;\">${err}</div>`;\n",
              "      throw err;\n",
              "    }\n",
              "\n",
              "    function displayChart(vegaEmbed) {\n",
              "      vegaEmbed(outputDiv, spec, embedOpt)\n",
              "        .catch(err => showError(`Javascript Error: ${err.message}<br>This usually means there's a typo in your chart specification. See the javascript console for the full traceback.`));\n",
              "    }\n",
              "\n",
              "    if(typeof define === \"function\" && define.amd) {\n",
              "      requirejs.config({paths});\n",
              "      require([\"vega-embed\"], displayChart, err => showError(`Error loading script: ${err.message}`));\n",
              "    } else {\n",
              "      maybeLoadScript(\"vega\", \"5\")\n",
              "        .then(() => maybeLoadScript(\"vega-lite\", \"4.17.0\"))\n",
              "        .then(() => maybeLoadScript(\"vega-embed\", \"6\"))\n",
              "        .catch(showError)\n",
              "        .then(() => displayChart(vegaEmbed));\n",
              "    }\n",
              "  })({\"config\": {\"view\": {\"continuousWidth\": 400, \"continuousHeight\": 300}}, \"data\": {\"name\": \"data-08d22b0934ed737184469bf27f2339ce\"}, \"mark\": \"bar\", \"encoding\": {\"color\": {\"field\": \"Player\", \"type\": \"nominal\"}, \"column\": {\"field\": \"Format\", \"type\": \"nominal\"}, \"x\": {\"field\": \"Player\", \"type\": \"nominal\"}, \"y\": {\"field\": \"Highest Score\", \"type\": \"quantitative\"}}, \"$schema\": \"https://vega.github.io/schema/vega-lite/v4.17.0.json\", \"datasets\": {\"data-08d22b0934ed737184469bf27f2339ce\": [{\"Highest Score\": 264, \"Player\": \"Rohit\", \"Format\": \"ODI\"}, {\"Highest Score\": 183, \"Player\": \"Virat\", \"Format\": \"ODI\"}, {\"Highest Score\": 118, \"Player\": \"Rohit\", \"Format\": \"T20\"}, {\"Highest Score\": 94, \"Player\": \"Virat\", \"Format\": \"T20\"}, {\"Highest Score\": 212, \"Player\": \"Rohit\", \"Format\": \"Test\"}, {\"Highest Score\": 254, \"Player\": \"Virat\", \"Format\": \"Test\"}]}}, {\"mode\": \"vega-lite\"});\n",
              "</script>"
            ],
            "text/plain": [
              "alt.Chart(...)"
            ]
          },
          "metadata": {},
          "execution_count": 15
        }
      ]
    },
    {
      "cell_type": "markdown",
      "source": [
        "Think!\n",
        "* Can we use both positional arguments and keywords arguments in defining one charts\n",
        "* How does using positional arguments differ from keyword arguments in the encode() function? Why might you use one over the other?\n",
        "* What does alt.Column('Format') do? How does it affect the layout of the chart?\n",
        "* How does alt.Axis(grid=False) modify the appearance of the Y-axis?\n",
        "* Why is alt.Color('Player') used in this chart? How does it enhance the visualization?\n",
        "\n",
        "\n",
        "Experimentation\n",
        "\n",
        "\n",
        "*   Add tooltips to the bars to display Player, Format, and Highest Score when hovering over a bar.\n",
        "*   Apply sorting to the X-axis by Highest Score to display players in order of their scores.\n",
        "*   Change the X-axis to display Format and the columns to display Player.\n",
        "*   Modify the chart to use alt.Row('Player') instead of alt.Column('Player') and observe how the layout changes.\n",
        "*   Experiment with different mark types, such as mark_circle(), to see how the visualization changes.\n",
        "*   Apply sorting to the X-axis by Highest Score to display players in order of their scores.\n",
        "\n",
        "\n"
      ],
      "metadata": {
        "id": "qGlZQWoKpRKp"
      }
    },
    {
      "cell_type": "markdown",
      "source": [
        "\n",
        "### answer think 1:\n",
        "```\n",
        "alt.Chart(df).mark_bar().encode(\n",
        "    x=alt.X('Variable 1', sort='-y'),\n",
        "    y='Variable 2'\n",
        ")\n",
        "```\n",
        "\n"
      ],
      "metadata": {
        "id": "SqydgMzdxkNW"
      }
    },
    {
      "cell_type": "code",
      "source": [
        "# @title click for solution\n",
        "gp_chart = alt.Chart(data).mark_bar().encode(\n",
        "    alt.Row('Player'),\n",
        "    alt.X('Format', sort='-y'),\n",
        "    alt.Y('Highest Score', axis=alt.Axis(grid=False)),\n",
        "    alt.Color('Player'),\n",
        "    alt.Tooltip(['Player', 'Format', 'Highest Score'])\n",
        "    )\n",
        "\n",
        "gp_chart.display()"
      ],
      "metadata": {
        "colab": {
          "base_uri": "https://localhost:8080/",
          "height": 696
        },
        "cellView": "form",
        "id": "1HIQW5HoykMW",
        "outputId": "3b2bdcfb-67d9-4121-c6a3-a83d14b976f8"
      },
      "execution_count": null,
      "outputs": [
        {
          "output_type": "display_data",
          "data": {
            "text/html": [
              "\n",
              "<div id=\"altair-viz-70d476c2aad243049c913fedc04deb8d\"></div>\n",
              "<script type=\"text/javascript\">\n",
              "  var VEGA_DEBUG = (typeof VEGA_DEBUG == \"undefined\") ? {} : VEGA_DEBUG;\n",
              "  (function(spec, embedOpt){\n",
              "    let outputDiv = document.currentScript.previousElementSibling;\n",
              "    if (outputDiv.id !== \"altair-viz-70d476c2aad243049c913fedc04deb8d\") {\n",
              "      outputDiv = document.getElementById(\"altair-viz-70d476c2aad243049c913fedc04deb8d\");\n",
              "    }\n",
              "    const paths = {\n",
              "      \"vega\": \"https://cdn.jsdelivr.net/npm//vega@5?noext\",\n",
              "      \"vega-lib\": \"https://cdn.jsdelivr.net/npm//vega-lib?noext\",\n",
              "      \"vega-lite\": \"https://cdn.jsdelivr.net/npm//vega-lite@4.17.0?noext\",\n",
              "      \"vega-embed\": \"https://cdn.jsdelivr.net/npm//vega-embed@6?noext\",\n",
              "    };\n",
              "\n",
              "    function maybeLoadScript(lib, version) {\n",
              "      var key = `${lib.replace(\"-\", \"\")}_version`;\n",
              "      return (VEGA_DEBUG[key] == version) ?\n",
              "        Promise.resolve(paths[lib]) :\n",
              "        new Promise(function(resolve, reject) {\n",
              "          var s = document.createElement('script');\n",
              "          document.getElementsByTagName(\"head\")[0].appendChild(s);\n",
              "          s.async = true;\n",
              "          s.onload = () => {\n",
              "            VEGA_DEBUG[key] = version;\n",
              "            return resolve(paths[lib]);\n",
              "          };\n",
              "          s.onerror = () => reject(`Error loading script: ${paths[lib]}`);\n",
              "          s.src = paths[lib];\n",
              "        });\n",
              "    }\n",
              "\n",
              "    function showError(err) {\n",
              "      outputDiv.innerHTML = `<div class=\"error\" style=\"color:red;\">${err}</div>`;\n",
              "      throw err;\n",
              "    }\n",
              "\n",
              "    function displayChart(vegaEmbed) {\n",
              "      vegaEmbed(outputDiv, spec, embedOpt)\n",
              "        .catch(err => showError(`Javascript Error: ${err.message}<br>This usually means there's a typo in your chart specification. See the javascript console for the full traceback.`));\n",
              "    }\n",
              "\n",
              "    if(typeof define === \"function\" && define.amd) {\n",
              "      requirejs.config({paths});\n",
              "      require([\"vega-embed\"], displayChart, err => showError(`Error loading script: ${err.message}`));\n",
              "    } else {\n",
              "      maybeLoadScript(\"vega\", \"5\")\n",
              "        .then(() => maybeLoadScript(\"vega-lite\", \"4.17.0\"))\n",
              "        .then(() => maybeLoadScript(\"vega-embed\", \"6\"))\n",
              "        .catch(showError)\n",
              "        .then(() => displayChart(vegaEmbed));\n",
              "    }\n",
              "  })({\"config\": {\"view\": {\"continuousWidth\": 400, \"continuousHeight\": 300}}, \"data\": {\"name\": \"data-08d22b0934ed737184469bf27f2339ce\"}, \"mark\": \"bar\", \"encoding\": {\"color\": {\"field\": \"Player\", \"type\": \"nominal\"}, \"row\": {\"field\": \"Player\", \"type\": \"nominal\"}, \"tooltip\": [{\"field\": \"Player\", \"type\": \"nominal\"}, {\"field\": \"Format\", \"type\": \"nominal\"}, {\"field\": \"Highest Score\", \"type\": \"quantitative\"}], \"x\": {\"field\": \"Format\", \"sort\": \"-y\", \"type\": \"nominal\"}, \"y\": {\"axis\": {\"grid\": false}, \"field\": \"Highest Score\", \"type\": \"quantitative\"}}, \"$schema\": \"https://vega.github.io/schema/vega-lite/v4.17.0.json\", \"datasets\": {\"data-08d22b0934ed737184469bf27f2339ce\": [{\"Highest Score\": 264, \"Player\": \"Rohit\", \"Format\": \"ODI\"}, {\"Highest Score\": 183, \"Player\": \"Virat\", \"Format\": \"ODI\"}, {\"Highest Score\": 118, \"Player\": \"Rohit\", \"Format\": \"T20\"}, {\"Highest Score\": 94, \"Player\": \"Virat\", \"Format\": \"T20\"}, {\"Highest Score\": 212, \"Player\": \"Rohit\", \"Format\": \"Test\"}, {\"Highest Score\": 254, \"Player\": \"Virat\", \"Format\": \"Test\"}]}}, {\"mode\": \"vega-lite\"});\n",
              "</script>"
            ],
            "text/plain": [
              "alt.Chart(...)"
            ]
          },
          "metadata": {}
        }
      ]
    }
  ]
}