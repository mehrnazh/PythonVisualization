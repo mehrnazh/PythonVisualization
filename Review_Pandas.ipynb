{
  "nbformat": 4,
  "nbformat_minor": 0,
  "metadata": {
    "colab": {
      "provenance": [],
      "authorship_tag": "ABX9TyOsa4IU6ZR97hF0EOFTdu1a",
      "include_colab_link": true
    },
    "kernelspec": {
      "name": "python3",
      "display_name": "Python 3"
    },
    "language_info": {
      "name": "python"
    }
  },
  "cells": [
    {
      "cell_type": "markdown",
      "metadata": {
        "id": "view-in-github",
        "colab_type": "text"
      },
      "source": [
        "<a href=\"https://colab.research.google.com/github/mehrnazh/PythonVisualization/blob/main/Review_Pandas.ipynb\" target=\"_parent\"><img src=\"https://colab.research.google.com/assets/colab-badge.svg\" alt=\"Open In Colab\"/></a>"
      ]
    },
    {
      "cell_type": "markdown",
      "source": [
        "# Review Pandas\n",
        "\n",
        "By Mehrnaz Hosseinzadeh M.D., National Brain Centre, Mental Health Research Centre, IUMS\n",
        "\n",
        "---\n",
        "\n"
      ],
      "metadata": {
        "id": "__DoUHc7fz5S"
      }
    },
    {
      "cell_type": "code",
      "source": [
        "import pandas as pd\n",
        "import numpy as np\n",
        "import altair as alt"
      ],
      "metadata": {
        "id": "IWZ1b5tyhNgL"
      },
      "execution_count": 7,
      "outputs": []
    },
    {
      "cell_type": "markdown",
      "source": [
        "## Pandas DataFrames and Series\n",
        "\n",
        "Pandas is a powerful data manipulation library in Python. The two primary data structures in Pandas are the DataFrame and Series. A DataFrame is a 2-dimensional table of data with rows and columns, while a Series is essentially a single column of data.\n",
        "\n",
        "### Think!\n",
        "1. What is a Pandas DataFrame?\n",
        "\n",
        "* How is a DataFrame different from a Python list or dictionary?\n",
        "* Why do we use DataFrames for data analysis?\n",
        "\n",
        "2. What is a Pandas Series?\n",
        "\n",
        "* How is a Series different from a DataFrame?\n",
        "* Can you think of examples where you would use a Series instead of a DataFrame?\n",
        "\n",
        "3. How do you create a DataFrame?\n",
        "\n",
        "* What are some common ways to create a DataFrame in Pandas?\n",
        "* Can you create a DataFrame from a dictionary? How about from a list of lists?\n",
        "\n",
        "4. How do you access data in a DataFrame?\n",
        "\n",
        "* How do you select a single column from a DataFrame? What is returned when you do this?\n",
        "* How can you select multiple columns or rows from a DataFrame?\n",
        "5. How do you modify a DataFrame?\n",
        "\n",
        "How would you add a new column to an existing DataFrame?\n",
        "How can you update the values in a DataFrame?\n",
        "6. How do you handle missing data in a DataFrame?\n",
        "\n",
        "* What happens if your DataFrame contains missing (NaN) values?\n",
        "* How would you fill or remove missing values?\n",
        "7. What are some common operations you can perform on a DataFrame?\n",
        "\n",
        "* How can you sort the rows of a DataFrame?\n",
        "* How can you group data by a specific column?\n",
        "### Experimentation\n",
        "1. Creating DataFrames and Series\n",
        "* Create a Pandas DataFrame from a dictionary.\n",
        "\n",
        "Uncomment and complete the code below to create a Pandas DataFrame from a dictionary:"
      ],
      "metadata": {
        "id": "F08kL-rsgIvq"
      }
    },
    {
      "cell_type": "code",
      "execution_count": null,
      "metadata": {
        "id": "TlIYMpu_fv9H"
      },
      "outputs": [],
      "source": [
        "# data = {\n",
        "#    'Name': ['Alice', 'Bob', 'Charlie'],\n",
        "#    'Age': [25, 30, 35],\n",
        "#    'City': ['New York', 'Los Angeles', 'Chicago']\n",
        "# }\n",
        "\n",
        "# df = pd....(data)\n",
        "# print(df)"
      ]
    },
    {
      "cell_type": "markdown",
      "source": [
        "* Create a Pandas Series from a list.\n",
        "\n",
        "Uncomment the code below and fill it with the correct syntax to create a Pandas Series:"
      ],
      "metadata": {
        "id": "-i28vYtShnZH"
      }
    },
    {
      "cell_type": "code",
      "source": [
        "# ages = ....([25, 30, 35], name='Age')\n",
        "# print(ages)"
      ],
      "metadata": {
        "id": "SnlnRylBhqgG"
      },
      "execution_count": null,
      "outputs": []
    },
    {
      "cell_type": "markdown",
      "source": [
        "* Create a DataFrame from a list of lists.\n",
        "\n",
        "\n",
        "Complete the code to create a DataFrame from a list of lists:"
      ],
      "metadata": {
        "id": "MVdZ3sVdin-Y"
      }
    },
    {
      "cell_type": "code",
      "source": [
        "# data_list = [['Alice', 25, 'New York'], ['Bob', 30, 'Los Angeles'], ['Charlie', 35, 'Chicago']]\n",
        "\n",
        "# df_from_list = pd.DataFrame(...., columns=['Name', 'Age', 'City'])\n",
        "# print(df_from_list)"
      ],
      "metadata": {
        "id": "J4xBw7fyiqpR"
      },
      "execution_count": null,
      "outputs": []
    },
    {
      "cell_type": "markdown",
      "source": [
        "2. Accessing Data\n",
        "* Select the 'Age' column from the DataFrame."
      ],
      "metadata": {
        "id": "wo5Bwu8di8D6"
      }
    },
    {
      "cell_type": "code",
      "source": [
        "# age_column = ...\n",
        "# print(age_column)"
      ],
      "metadata": {
        "id": "1X3zROcGjvIR"
      },
      "execution_count": null,
      "outputs": []
    },
    {
      "cell_type": "markdown",
      "source": [
        "* Select multiple columns ('Name' and 'City')."
      ],
      "metadata": {
        "id": "5eB0Hqmui_Uq"
      }
    },
    {
      "cell_type": "code",
      "source": [
        "# selected_columns = ...\n",
        "# print(selected_columns)"
      ],
      "metadata": {
        "id": "1wiNNDv8jw7_"
      },
      "execution_count": null,
      "outputs": []
    },
    {
      "cell_type": "markdown",
      "source": [
        "* Select the first two rows using `.loc[]` or .`iloc[]`.\n"
      ],
      "metadata": {
        "id": "LpESKlDojBsa"
      }
    },
    {
      "cell_type": "code",
      "source": [
        "# first_two_rows = df.iloc[:....]\n",
        "# print(first_two_rows)"
      ],
      "metadata": {
        "id": "y5tpaXprjztM"
      },
      "execution_count": null,
      "outputs": []
    },
    {
      "cell_type": "markdown",
      "source": [
        "3. Modifying Data\n",
        "* Add a new column called 'Salary' with some values."
      ],
      "metadata": {
        "id": "h7Ph4UsAjKdE"
      }
    },
    {
      "cell_type": "code",
      "source": [
        "# df['....'] = [70000, 80000, 90000]\n",
        "# print(df)"
      ],
      "metadata": {
        "id": "7iF_lgtDj2Bg"
      },
      "execution_count": null,
      "outputs": []
    },
    {
      "cell_type": "markdown",
      "source": [
        "* Update the value in the 'Age' column for Bob to 32.\n",
        "\n"
      ],
      "metadata": {
        "id": "VIPhVLRFjTmO"
      }
    },
    {
      "cell_type": "code",
      "source": [
        "# df.loc[df['Name'] == '....', '....'] = 32\n",
        "# print(df)"
      ],
      "metadata": {
        "id": "jmy4XfPdj31p"
      },
      "execution_count": null,
      "outputs": []
    },
    {
      "cell_type": "markdown",
      "source": [
        "4. Common Operations\n",
        "* Sort the DataFrame by the 'Age' column in descending order. # Hint: Use the\n",
        "`.sort_values()\n",
        "` method\n",
        "\n",
        "\n"
      ],
      "metadata": {
        "id": "1itDsOaMjhSw"
      }
    },
    {
      "cell_type": "code",
      "source": [
        "# sorted_df = ...\n",
        "# print(\"Sorted by Age:\\n\", sorted_df)"
      ],
      "metadata": {
        "id": "AWcVdI9Bj-zK"
      },
      "execution_count": null,
      "outputs": []
    },
    {
      "cell_type": "markdown",
      "source": [
        "* Group the DataFrame by 'City' and calculate the mean age for each group.\n",
        "\n",
        " Hint: Use the `.groupby()` method and then calculate the mean using `.mean()`\n",
        "\n",
        "\n",
        "\n"
      ],
      "metadata": {
        "id": "CaizQrK8jjcH"
      }
    },
    {
      "cell_type": "code",
      "source": [
        "# grouped_df = df.groupby(....)['....'].mean().reset_index()\n",
        "# print(\"Grouped by City:\\n\", grouped_df)"
      ],
      "metadata": {
        "id": "MfGpknfIkATj"
      },
      "execution_count": null,
      "outputs": []
    },
    {
      "cell_type": "markdown",
      "source": [
        "* Count the number of people in each city.\n",
        "Hint: You can use the `.groupby()` method combined with `.size()` to count occurrences\n",
        "\n"
      ],
      "metadata": {
        "id": "CE4EuHsVmeo6"
      }
    },
    {
      "cell_type": "code",
      "source": [
        "# count_df = df....('City').size().reset_index(name='Count')\n",
        "# print(\"Count of people in each City:\\n\", count_df)"
      ],
      "metadata": {
        "id": "9SQKloD6mp50"
      },
      "execution_count": null,
      "outputs": []
    },
    {
      "cell_type": "markdown",
      "source": [
        "## loading and saving data\n",
        "\n",
        "\n",
        "`pd.read_csv('FileName')`\n",
        "`pd.read_excel('FileName')`\n",
        "`df_csv.to_csv('FileName', index=False)`\n",
        "`df_excel.to_excel('FileName', index=False)`"
      ],
      "metadata": {
        "id": "2UdsqjJHoQxd"
      }
    },
    {
      "cell_type": "markdown",
      "source": [
        "## Data Cleaning with Pandas"
      ],
      "metadata": {
        "id": "ozwHyf0jqGD5"
      }
    },
    {
      "cell_type": "code",
      "source": [
        "\n",
        "# Sample DataFrame with some missing values, incorrect data types, and duplicates\n",
        "data = {\n",
        "    'Name': ['Alice', 'Bob', 'Charlie', 'David', 'Eve', 'Bob'],\n",
        "    'Age': [25, None, 35, 45, None, 32],\n",
        "    'City': ['New York', 'Los Angeles', None, 'New York', 'Chicago', 'Los Angeles'],\n",
        "    'Salary': ['50000', '60000', '70000', '45000', '55000', '60000']\n",
        "}\n",
        "\n",
        "df = pd.DataFrame(data)\n",
        "print(\"Original DataFrame:\\n\", df)"
      ],
      "metadata": {
        "id": "zF8VsjJgq5LH"
      },
      "execution_count": null,
      "outputs": []
    },
    {
      "cell_type": "markdown",
      "source": [
        "* Handle missing values in the DataFrame\n",
        "\n",
        "\n",
        " Question: What strategies can you use to handle missing data in Pandas?\n",
        "\n",
        "* Step 1: Fill missing values in the 'Age' column with the mean age\n",
        " Hint: Use the `.fillna()` method\n",
        "\n"
      ],
      "metadata": {
        "id": "dv7-cCLXq_qH"
      }
    },
    {
      "cell_type": "code",
      "source": [
        "df['Age'] ="
      ],
      "metadata": {
        "id": "3NuKb0xwrLlx"
      },
      "execution_count": null,
      "outputs": []
    },
    {
      "cell_type": "markdown",
      "source": [
        " * Step 2: Drop rows where the 'City' column has missing values.\n",
        "Hint: Use the `.dropna()` method\n"
      ],
      "metadata": {
        "id": "ztcFsqiBrTQi"
      }
    },
    {
      "cell_type": "code",
      "source": [
        "df_cleaned =\n",
        "\n",
        "print(\"After handling missing values:\\n\", df_cleaned)\n"
      ],
      "metadata": {
        "id": "r4tHjBU1rb_b"
      },
      "execution_count": null,
      "outputs": []
    },
    {
      "cell_type": "markdown",
      "source": [
        "# pandas DataFrame\n",
        "## Including Index Data\n",
        "By design Altair only accesses dataframe columns, not dataframe indices. At times, relevant data appears in the index. For example:"
      ],
      "metadata": {
        "id": "kthpg7F8simo"
      }
    },
    {
      "cell_type": "code",
      "source": [
        "rand = np.random.RandomState(0)\n",
        "\n",
        "data = pd.DataFrame({'value': rand.randn(100).cumsum()}, #generates 100 random numbers from a standard normal distribution and then computes the cumulative sum of those numbers.\n",
        "                    index=pd.date_range('2018', freq='D', periods=100))\n",
        "data.head()"
      ],
      "metadata": {
        "colab": {
          "base_uri": "https://localhost:8080/",
          "height": 206
        },
        "id": "kpBtEwGUsb3A",
        "outputId": "686fb39c-6443-45d7-89a5-2b27824d3d6f"
      },
      "execution_count": 6,
      "outputs": [
        {
          "output_type": "execute_result",
          "data": {
            "text/plain": [
              "               value\n",
              "2018-01-01  1.764052\n",
              "2018-01-02  2.164210\n",
              "2018-01-03  3.142948\n",
              "2018-01-04  5.383841\n",
              "2018-01-05  7.251399"
            ],
            "text/html": [
              "\n",
              "  <div id=\"df-a176b191-6004-47bf-93fd-bc60eb66fae0\" class=\"colab-df-container\">\n",
              "    <div>\n",
              "<style scoped>\n",
              "    .dataframe tbody tr th:only-of-type {\n",
              "        vertical-align: middle;\n",
              "    }\n",
              "\n",
              "    .dataframe tbody tr th {\n",
              "        vertical-align: top;\n",
              "    }\n",
              "\n",
              "    .dataframe thead th {\n",
              "        text-align: right;\n",
              "    }\n",
              "</style>\n",
              "<table border=\"1\" class=\"dataframe\">\n",
              "  <thead>\n",
              "    <tr style=\"text-align: right;\">\n",
              "      <th></th>\n",
              "      <th>value</th>\n",
              "    </tr>\n",
              "  </thead>\n",
              "  <tbody>\n",
              "    <tr>\n",
              "      <th>2018-01-01</th>\n",
              "      <td>1.764052</td>\n",
              "    </tr>\n",
              "    <tr>\n",
              "      <th>2018-01-02</th>\n",
              "      <td>2.164210</td>\n",
              "    </tr>\n",
              "    <tr>\n",
              "      <th>2018-01-03</th>\n",
              "      <td>3.142948</td>\n",
              "    </tr>\n",
              "    <tr>\n",
              "      <th>2018-01-04</th>\n",
              "      <td>5.383841</td>\n",
              "    </tr>\n",
              "    <tr>\n",
              "      <th>2018-01-05</th>\n",
              "      <td>7.251399</td>\n",
              "    </tr>\n",
              "  </tbody>\n",
              "</table>\n",
              "</div>\n",
              "    <div class=\"colab-df-buttons\">\n",
              "\n",
              "  <div class=\"colab-df-container\">\n",
              "    <button class=\"colab-df-convert\" onclick=\"convertToInteractive('df-a176b191-6004-47bf-93fd-bc60eb66fae0')\"\n",
              "            title=\"Convert this dataframe to an interactive table.\"\n",
              "            style=\"display:none;\">\n",
              "\n",
              "  <svg xmlns=\"http://www.w3.org/2000/svg\" height=\"24px\" viewBox=\"0 -960 960 960\">\n",
              "    <path d=\"M120-120v-720h720v720H120Zm60-500h600v-160H180v160Zm220 220h160v-160H400v160Zm0 220h160v-160H400v160ZM180-400h160v-160H180v160Zm440 0h160v-160H620v160ZM180-180h160v-160H180v160Zm440 0h160v-160H620v160Z\"/>\n",
              "  </svg>\n",
              "    </button>\n",
              "\n",
              "  <style>\n",
              "    .colab-df-container {\n",
              "      display:flex;\n",
              "      gap: 12px;\n",
              "    }\n",
              "\n",
              "    .colab-df-convert {\n",
              "      background-color: #E8F0FE;\n",
              "      border: none;\n",
              "      border-radius: 50%;\n",
              "      cursor: pointer;\n",
              "      display: none;\n",
              "      fill: #1967D2;\n",
              "      height: 32px;\n",
              "      padding: 0 0 0 0;\n",
              "      width: 32px;\n",
              "    }\n",
              "\n",
              "    .colab-df-convert:hover {\n",
              "      background-color: #E2EBFA;\n",
              "      box-shadow: 0px 1px 2px rgba(60, 64, 67, 0.3), 0px 1px 3px 1px rgba(60, 64, 67, 0.15);\n",
              "      fill: #174EA6;\n",
              "    }\n",
              "\n",
              "    .colab-df-buttons div {\n",
              "      margin-bottom: 4px;\n",
              "    }\n",
              "\n",
              "    [theme=dark] .colab-df-convert {\n",
              "      background-color: #3B4455;\n",
              "      fill: #D2E3FC;\n",
              "    }\n",
              "\n",
              "    [theme=dark] .colab-df-convert:hover {\n",
              "      background-color: #434B5C;\n",
              "      box-shadow: 0px 1px 3px 1px rgba(0, 0, 0, 0.15);\n",
              "      filter: drop-shadow(0px 1px 2px rgba(0, 0, 0, 0.3));\n",
              "      fill: #FFFFFF;\n",
              "    }\n",
              "  </style>\n",
              "\n",
              "    <script>\n",
              "      const buttonEl =\n",
              "        document.querySelector('#df-a176b191-6004-47bf-93fd-bc60eb66fae0 button.colab-df-convert');\n",
              "      buttonEl.style.display =\n",
              "        google.colab.kernel.accessAllowed ? 'block' : 'none';\n",
              "\n",
              "      async function convertToInteractive(key) {\n",
              "        const element = document.querySelector('#df-a176b191-6004-47bf-93fd-bc60eb66fae0');\n",
              "        const dataTable =\n",
              "          await google.colab.kernel.invokeFunction('convertToInteractive',\n",
              "                                                    [key], {});\n",
              "        if (!dataTable) return;\n",
              "\n",
              "        const docLinkHtml = 'Like what you see? Visit the ' +\n",
              "          '<a target=\"_blank\" href=https://colab.research.google.com/notebooks/data_table.ipynb>data table notebook</a>'\n",
              "          + ' to learn more about interactive tables.';\n",
              "        element.innerHTML = '';\n",
              "        dataTable['output_type'] = 'display_data';\n",
              "        await google.colab.output.renderOutput(dataTable, element);\n",
              "        const docLink = document.createElement('div');\n",
              "        docLink.innerHTML = docLinkHtml;\n",
              "        element.appendChild(docLink);\n",
              "      }\n",
              "    </script>\n",
              "  </div>\n",
              "\n",
              "\n",
              "<div id=\"df-87363639-3677-4b1e-97b9-a5e29ff84a56\">\n",
              "  <button class=\"colab-df-quickchart\" onclick=\"quickchart('df-87363639-3677-4b1e-97b9-a5e29ff84a56')\"\n",
              "            title=\"Suggest charts\"\n",
              "            style=\"display:none;\">\n",
              "\n",
              "<svg xmlns=\"http://www.w3.org/2000/svg\" height=\"24px\"viewBox=\"0 0 24 24\"\n",
              "     width=\"24px\">\n",
              "    <g>\n",
              "        <path d=\"M19 3H5c-1.1 0-2 .9-2 2v14c0 1.1.9 2 2 2h14c1.1 0 2-.9 2-2V5c0-1.1-.9-2-2-2zM9 17H7v-7h2v7zm4 0h-2V7h2v10zm4 0h-2v-4h2v4z\"/>\n",
              "    </g>\n",
              "</svg>\n",
              "  </button>\n",
              "\n",
              "<style>\n",
              "  .colab-df-quickchart {\n",
              "      --bg-color: #E8F0FE;\n",
              "      --fill-color: #1967D2;\n",
              "      --hover-bg-color: #E2EBFA;\n",
              "      --hover-fill-color: #174EA6;\n",
              "      --disabled-fill-color: #AAA;\n",
              "      --disabled-bg-color: #DDD;\n",
              "  }\n",
              "\n",
              "  [theme=dark] .colab-df-quickchart {\n",
              "      --bg-color: #3B4455;\n",
              "      --fill-color: #D2E3FC;\n",
              "      --hover-bg-color: #434B5C;\n",
              "      --hover-fill-color: #FFFFFF;\n",
              "      --disabled-bg-color: #3B4455;\n",
              "      --disabled-fill-color: #666;\n",
              "  }\n",
              "\n",
              "  .colab-df-quickchart {\n",
              "    background-color: var(--bg-color);\n",
              "    border: none;\n",
              "    border-radius: 50%;\n",
              "    cursor: pointer;\n",
              "    display: none;\n",
              "    fill: var(--fill-color);\n",
              "    height: 32px;\n",
              "    padding: 0;\n",
              "    width: 32px;\n",
              "  }\n",
              "\n",
              "  .colab-df-quickchart:hover {\n",
              "    background-color: var(--hover-bg-color);\n",
              "    box-shadow: 0 1px 2px rgba(60, 64, 67, 0.3), 0 1px 3px 1px rgba(60, 64, 67, 0.15);\n",
              "    fill: var(--button-hover-fill-color);\n",
              "  }\n",
              "\n",
              "  .colab-df-quickchart-complete:disabled,\n",
              "  .colab-df-quickchart-complete:disabled:hover {\n",
              "    background-color: var(--disabled-bg-color);\n",
              "    fill: var(--disabled-fill-color);\n",
              "    box-shadow: none;\n",
              "  }\n",
              "\n",
              "  .colab-df-spinner {\n",
              "    border: 2px solid var(--fill-color);\n",
              "    border-color: transparent;\n",
              "    border-bottom-color: var(--fill-color);\n",
              "    animation:\n",
              "      spin 1s steps(1) infinite;\n",
              "  }\n",
              "\n",
              "  @keyframes spin {\n",
              "    0% {\n",
              "      border-color: transparent;\n",
              "      border-bottom-color: var(--fill-color);\n",
              "      border-left-color: var(--fill-color);\n",
              "    }\n",
              "    20% {\n",
              "      border-color: transparent;\n",
              "      border-left-color: var(--fill-color);\n",
              "      border-top-color: var(--fill-color);\n",
              "    }\n",
              "    30% {\n",
              "      border-color: transparent;\n",
              "      border-left-color: var(--fill-color);\n",
              "      border-top-color: var(--fill-color);\n",
              "      border-right-color: var(--fill-color);\n",
              "    }\n",
              "    40% {\n",
              "      border-color: transparent;\n",
              "      border-right-color: var(--fill-color);\n",
              "      border-top-color: var(--fill-color);\n",
              "    }\n",
              "    60% {\n",
              "      border-color: transparent;\n",
              "      border-right-color: var(--fill-color);\n",
              "    }\n",
              "    80% {\n",
              "      border-color: transparent;\n",
              "      border-right-color: var(--fill-color);\n",
              "      border-bottom-color: var(--fill-color);\n",
              "    }\n",
              "    90% {\n",
              "      border-color: transparent;\n",
              "      border-bottom-color: var(--fill-color);\n",
              "    }\n",
              "  }\n",
              "</style>\n",
              "\n",
              "  <script>\n",
              "    async function quickchart(key) {\n",
              "      const quickchartButtonEl =\n",
              "        document.querySelector('#' + key + ' button');\n",
              "      quickchartButtonEl.disabled = true;  // To prevent multiple clicks.\n",
              "      quickchartButtonEl.classList.add('colab-df-spinner');\n",
              "      try {\n",
              "        const charts = await google.colab.kernel.invokeFunction(\n",
              "            'suggestCharts', [key], {});\n",
              "      } catch (error) {\n",
              "        console.error('Error during call to suggestCharts:', error);\n",
              "      }\n",
              "      quickchartButtonEl.classList.remove('colab-df-spinner');\n",
              "      quickchartButtonEl.classList.add('colab-df-quickchart-complete');\n",
              "    }\n",
              "    (() => {\n",
              "      let quickchartButtonEl =\n",
              "        document.querySelector('#df-87363639-3677-4b1e-97b9-a5e29ff84a56 button');\n",
              "      quickchartButtonEl.style.display =\n",
              "        google.colab.kernel.accessAllowed ? 'block' : 'none';\n",
              "    })();\n",
              "  </script>\n",
              "</div>\n",
              "    </div>\n",
              "  </div>\n"
            ],
            "application/vnd.google.colaboratory.intrinsic+json": {
              "type": "dataframe",
              "variable_name": "data",
              "summary": "{\n  \"name\": \"data\",\n  \"rows\": 100,\n  \"fields\": [\n    {\n      \"column\": \"value\",\n      \"properties\": {\n        \"dtype\": \"number\",\n        \"std\": 4.994065011301357,\n        \"min\": -3.7782873312567307,\n        \"max\": 13.818803363194323,\n        \"num_unique_values\": 100,\n        \"samples\": [\n          -3.7782873312567307,\n          4.827962230629192,\n          -0.4894380522211671\n        ],\n        \"semantic_type\": \"\",\n        \"description\": \"\"\n      }\n    }\n  ]\n}"
            }
          },
          "metadata": {},
          "execution_count": 6
        }
      ]
    },
    {
      "cell_type": "markdown",
      "source": [
        "If you would like the index to be available to the chart, you can explicitly turn it into a column using the `reset_index()` method of pandas dataframes:\n"
      ],
      "metadata": {
        "id": "q75uSWzotXb_"
      }
    },
    {
      "cell_type": "code",
      "source": [
        "alt.Chart(data.reset_index()).mark_line().encode(\n",
        "    x='index:T',\n",
        "    y='value:Q'\n",
        ")"
      ],
      "metadata": {
        "colab": {
          "base_uri": "https://localhost:8080/",
          "height": 368
        },
        "id": "_j4TliJrtfqo",
        "outputId": "89540bd2-929e-4e5e-f526-e614f4a7ccd1"
      },
      "execution_count": 8,
      "outputs": [
        {
          "output_type": "execute_result",
          "data": {
            "text/html": [
              "\n",
              "<div id=\"altair-viz-574c1909ac2043908ce45d12e22a85d9\"></div>\n",
              "<script type=\"text/javascript\">\n",
              "  var VEGA_DEBUG = (typeof VEGA_DEBUG == \"undefined\") ? {} : VEGA_DEBUG;\n",
              "  (function(spec, embedOpt){\n",
              "    let outputDiv = document.currentScript.previousElementSibling;\n",
              "    if (outputDiv.id !== \"altair-viz-574c1909ac2043908ce45d12e22a85d9\") {\n",
              "      outputDiv = document.getElementById(\"altair-viz-574c1909ac2043908ce45d12e22a85d9\");\n",
              "    }\n",
              "    const paths = {\n",
              "      \"vega\": \"https://cdn.jsdelivr.net/npm//vega@5?noext\",\n",
              "      \"vega-lib\": \"https://cdn.jsdelivr.net/npm//vega-lib?noext\",\n",
              "      \"vega-lite\": \"https://cdn.jsdelivr.net/npm//vega-lite@4.17.0?noext\",\n",
              "      \"vega-embed\": \"https://cdn.jsdelivr.net/npm//vega-embed@6?noext\",\n",
              "    };\n",
              "\n",
              "    function maybeLoadScript(lib, version) {\n",
              "      var key = `${lib.replace(\"-\", \"\")}_version`;\n",
              "      return (VEGA_DEBUG[key] == version) ?\n",
              "        Promise.resolve(paths[lib]) :\n",
              "        new Promise(function(resolve, reject) {\n",
              "          var s = document.createElement('script');\n",
              "          document.getElementsByTagName(\"head\")[0].appendChild(s);\n",
              "          s.async = true;\n",
              "          s.onload = () => {\n",
              "            VEGA_DEBUG[key] = version;\n",
              "            return resolve(paths[lib]);\n",
              "          };\n",
              "          s.onerror = () => reject(`Error loading script: ${paths[lib]}`);\n",
              "          s.src = paths[lib];\n",
              "        });\n",
              "    }\n",
              "\n",
              "    function showError(err) {\n",
              "      outputDiv.innerHTML = `<div class=\"error\" style=\"color:red;\">${err}</div>`;\n",
              "      throw err;\n",
              "    }\n",
              "\n",
              "    function displayChart(vegaEmbed) {\n",
              "      vegaEmbed(outputDiv, spec, embedOpt)\n",
              "        .catch(err => showError(`Javascript Error: ${err.message}<br>This usually means there's a typo in your chart specification. See the javascript console for the full traceback.`));\n",
              "    }\n",
              "\n",
              "    if(typeof define === \"function\" && define.amd) {\n",
              "      requirejs.config({paths});\n",
              "      require([\"vega-embed\"], displayChart, err => showError(`Error loading script: ${err.message}`));\n",
              "    } else {\n",
              "      maybeLoadScript(\"vega\", \"5\")\n",
              "        .then(() => maybeLoadScript(\"vega-lite\", \"4.17.0\"))\n",
              "        .then(() => maybeLoadScript(\"vega-embed\", \"6\"))\n",
              "        .catch(showError)\n",
              "        .then(() => displayChart(vegaEmbed));\n",
              "    }\n",
              "  })({\"config\": {\"view\": {\"continuousWidth\": 400, \"continuousHeight\": 300}}, \"data\": {\"name\": \"data-dd19c1c673ba91c82c2873cf9b033163\"}, \"mark\": \"line\", \"encoding\": {\"x\": {\"field\": \"index\", \"type\": \"temporal\"}, \"y\": {\"field\": \"value\", \"type\": \"quantitative\"}}, \"$schema\": \"https://vega.github.io/schema/vega-lite/v4.17.0.json\", \"datasets\": {\"data-dd19c1c673ba91c82c2873cf9b033163\": [{\"index\": \"2018-01-01T00:00:00\", \"value\": 1.764052345967664}, {\"index\": \"2018-01-02T00:00:00\", \"value\": 2.1642095543348874}, {\"index\": \"2018-01-03T00:00:00\", \"value\": 3.1429475384406267}, {\"index\": \"2018-01-04T00:00:00\", \"value\": 5.3838407376420845}, {\"index\": \"2018-01-05T00:00:00\", \"value\": 7.251398727792052}, {\"index\": \"2018-01-06T00:00:00\", \"value\": 6.274120847915642}, {\"index\": \"2018-01-07T00:00:00\", \"value\": 7.224209265441231}, {\"index\": \"2018-01-08T00:00:00\", \"value\": 7.072852057143533}, {\"index\": \"2018-01-09T00:00:00\", \"value\": 6.969633205349975}, {\"index\": \"2018-01-10T00:00:00\", \"value\": 7.380231707288347}, {\"index\": \"2018-01-11T00:00:00\", \"value\": 7.524275278449225}, {\"index\": \"2018-01-12T00:00:00\", \"value\": 8.9785487854122}, {\"index\": \"2018-01-13T00:00:00\", \"value\": 9.739586510559192}, {\"index\": \"2018-01-14T00:00:00\", \"value\": 9.86126152705202}, {\"index\": \"2018-01-15T00:00:00\", \"value\": 10.305124759797446}, {\"index\": \"2018-01-16T00:00:00\", \"value\": 10.638799087171712}, {\"index\": \"2018-01-17T00:00:00\", \"value\": 12.132878160329318}, {\"index\": \"2018-01-18T00:00:00\", \"value\": 11.927719896563516}, {\"index\": \"2018-01-19T00:00:00\", \"value\": 12.240787598214418}, {\"index\": \"2018-01-20T00:00:00\", \"value\": 11.386691858912693}, {\"index\": \"2018-01-21T00:00:00\", \"value\": 8.833702043078613}, {\"index\": \"2018-01-22T00:00:00\", \"value\": 9.487320638518973}, {\"index\": \"2018-01-23T00:00:00\", \"value\": 10.35175683737848}, {\"index\": \"2018-01-24T00:00:00\", \"value\": 9.609591816972037}, {\"index\": \"2018-01-25T00:00:00\", \"value\": 11.879346440959644}, {\"index\": \"2018-01-26T00:00:00\", \"value\": 10.424980766360878}, {\"index\": \"2018-01-27T00:00:00\", \"value\": 10.470739283662324}, {\"index\": \"2018-01-28T00:00:00\", \"value\": 10.28355543363649}, {\"index\": \"2018-01-29T00:00:00\", \"value\": 11.816334647994948}, {\"index\": \"2018-01-30T00:00:00\", \"value\": 13.285693417895233}, {\"index\": \"2018-01-31T00:00:00\", \"value\": 13.44064084359215}, {\"index\": \"2018-02-01T00:00:00\", \"value\": 13.818803363194323}, {\"index\": \"2018-02-02T00:00:00\", \"value\": 12.93101761556421}, {\"index\": \"2018-02-03T00:00:00\", \"value\": 10.950221147340283}, {\"index\": \"2018-02-04T00:00:00\", \"value\": 10.60230899801413}, {\"index\": \"2018-02-05T00:00:00\", \"value\": 10.758657967118111}, {\"index\": \"2018-02-06T00:00:00\", \"value\": 11.988948647845833}, {\"index\": \"2018-02-07T00:00:00\", \"value\": 13.191328496630245}, {\"index\": \"2018-02-08T00:00:00\", \"value\": 12.804001679222292}, {\"index\": \"2018-02-09T00:00:00\", \"value\": 12.501698928646956}, {\"index\": \"2018-02-10T00:00:00\", \"value\": 11.453145963579864}, {\"index\": \"2018-02-11T00:00:00\", \"value\": 10.033128026400888}, {\"index\": \"2018-02-12T00:00:00\", \"value\": 8.326857835775876}, {\"index\": \"2018-02-13T00:00:00\", \"value\": 10.277633231007666}, {\"index\": \"2018-02-14T00:00:00\", \"value\": 9.767981049256013}, {\"index\": \"2018-02-15T00:00:00\", \"value\": 9.329906747644827}, {\"index\": \"2018-02-16T00:00:00\", \"value\": 8.0771113875949}, {\"index\": \"2018-02-17T00:00:00\", \"value\": 8.85460174342681}, {\"index\": \"2018-02-18T00:00:00\", \"value\": 7.240703895868859}, {\"index\": \"2018-02-19T00:00:00\", \"value\": 7.02796361565489}, {\"index\": \"2018-02-20T00:00:00\", \"value\": 6.132497054461215}, {\"index\": \"2018-02-21T00:00:00\", \"value\": 6.519399552320477}, {\"index\": \"2018-02-22T00:00:00\", \"value\": 6.008594414751604}, {\"index\": \"2018-02-23T00:00:00\", \"value\": 4.827962230629192}, {\"index\": \"2018-02-24T00:00:00\", \"value\": 4.799780002290537}, {\"index\": \"2018-02-25T00:00:00\", \"value\": 5.228111872820954}, {\"index\": \"2018-02-26T00:00:00\", \"value\": 5.294629095204122}, {\"index\": \"2018-02-27T00:00:00\", \"value\": 5.597100992943904}, {\"index\": \"2018-02-28T00:00:00\", \"value\": 4.962778899262941}, {\"index\": \"2018-03-01T00:00:00\", \"value\": 4.600037733275802}, {\"index\": \"2018-03-02T00:00:00\", \"value\": 3.927577285499851}, {\"index\": \"2018-03-03T00:00:00\", \"value\": 3.56802412395931}, {\"index\": \"2018-03-04T00:00:00\", \"value\": 2.7548778419148556}, {\"index\": \"2018-03-05T00:00:00\", \"value\": 1.0285952395831788}, {\"index\": \"2018-03-06T00:00:00\", \"value\": 1.2060213818369316}, {\"index\": \"2018-03-07T00:00:00\", \"value\": 0.8042404456286698}, {\"index\": \"2018-03-08T00:00:00\", \"value\": -0.8259579013373748}, {\"index\": \"2018-03-09T00:00:00\", \"value\": -0.3631756458116006}, {\"index\": \"2018-03-10T00:00:00\", \"value\": -1.2704740101948429}, {\"index\": \"2018-03-11T00:00:00\", \"value\": -1.218528614398704}, {\"index\": \"2018-03-12T00:00:00\", \"value\": -0.4894380522211671}, {\"index\": \"2018-03-13T00:00:00\", \"value\": -0.36045514146375646}, {\"index\": \"2018-03-14T00:00:00\", \"value\": 0.7789455430795442}, {\"index\": \"2018-03-15T00:00:00\", \"value\": -0.4558802772741084}, {\"index\": \"2018-03-16T00:00:00\", \"value\": -0.0535386360965594}, {\"index\": \"2018-03-17T00:00:00\", \"value\": -0.7383487270368726}, {\"index\": \"2018-03-18T00:00:00\", \"value\": -1.6091458762187543}, {\"index\": \"2018-03-19T00:00:00\", \"value\": -2.1879955409831697}, {\"index\": \"2018-03-20T00:00:00\", \"value\": -2.4995480731105424}, {\"index\": \"2018-03-21T00:00:00\", \"value\": -2.443382730880797}, {\"index\": \"2018-03-22T00:00:00\", \"value\": -3.6085325716641536}, {\"index\": \"2018-03-23T00:00:00\", \"value\": -2.7077060847099665}, {\"index\": \"2018-03-24T00:00:00\", \"value\": -2.242043644979507}, {\"index\": \"2018-03-25T00:00:00\", \"value\": -3.7782873312567307}, {\"index\": \"2018-03-26T00:00:00\", \"value\": -2.290035137461131}, {\"index\": \"2018-03-27T00:00:00\", \"value\": -0.3941459614305478}, {\"index\": \"2018-03-28T00:00:00\", \"value\": 0.7846336097291029}, {\"index\": \"2018-03-29T00:00:00\", \"value\": 0.604708773916752}, {\"index\": \"2018-03-30T00:00:00\", \"value\": -0.4660438475937905}, {\"index\": \"2018-03-31T00:00:00\", \"value\": 0.5884078793373462}, {\"index\": \"2018-04-01T00:00:00\", \"value\": 0.18523093236416655}, {\"index\": \"2018-04-02T00:00:00\", \"value\": 1.407676002746594}, {\"index\": \"2018-04-03T00:00:00\", \"value\": 1.6159509808234542}, {\"index\": \"2018-04-04T00:00:00\", \"value\": 2.5925900173071668}, {\"index\": \"2018-04-05T00:00:00\", \"value\": 2.9489564144815685}, {\"index\": \"2018-04-06T00:00:00\", \"value\": 3.6555295826735166}, {\"index\": \"2018-04-07T00:00:00\", \"value\": 3.666029603394337}, {\"index\": \"2018-04-08T00:00:00\", \"value\": 5.4519000973001726}, {\"index\": \"2018-04-09T00:00:00\", \"value\": 5.578812190003792}, {\"index\": \"2018-04-10T00:00:00\", \"value\": 5.980801553448494}]}}, {\"mode\": \"vega-lite\"});\n",
              "</script>"
            ],
            "text/plain": [
              "alt.Chart(...)"
            ]
          },
          "metadata": {},
          "execution_count": 8
        }
      ]
    },
    {
      "cell_type": "markdown",
      "source": [
        "# Long-form vs. Wide-form Data\n",
        "There are two common conventions for storing data in a dataframe, sometimes called long-form and wide-form. Both are sensible patterns for storing data in a tabular format; briefly, the difference is this:\n",
        "\n",
        "wide-form data has one row per independent variable, with metadata recorded in the row and column labels.\n",
        "\n",
        "long-form data has one row per observation, with metadata recorded within the table as values.\n",
        "\n",
        "Altair’s grammar works best with long-form data, in which each row corresponds to a single observation along with its metadata.\n",
        "\n",
        "A concrete example will help in making this distinction more clear. Consider a dataset consisting of stock prices of several companies over time. The wide-form version of the data might be arranged as follows:"
      ],
      "metadata": {
        "id": "zWnpvyajtzRF"
      }
    },
    {
      "cell_type": "code",
      "source": [
        "wide_form = pd.DataFrame({'Date': ['2007-10-01', '2007-11-01', '2007-12-01'],\n",
        "                          'AAPL': [189.95, 182.22, 198.08],\n",
        "                          'AMZN': [89.15, 90.56, 92.64],\n",
        "                          'GOOG': [707.00, 693.00, 691.48]})\n",
        "print(wide_form)"
      ],
      "metadata": {
        "colab": {
          "base_uri": "https://localhost:8080/"
        },
        "id": "FrOYV1Ctt-iO",
        "outputId": "35e2e89b-5b1f-49f7-c880-aa676becef6c"
      },
      "execution_count": 9,
      "outputs": [
        {
          "output_type": "stream",
          "name": "stdout",
          "text": [
            "         Date    AAPL   AMZN    GOOG\n",
            "0  2007-10-01  189.95  89.15  707.00\n",
            "1  2007-11-01  182.22  90.56  693.00\n",
            "2  2007-12-01  198.08  92.64  691.48\n"
          ]
        }
      ]
    },
    {
      "cell_type": "markdown",
      "source": [
        "Notice that each row corresponds to a single time-stamp (here time is the independent variable), while metadata for each observation (i.e. company name) is stored within the column labels.\n",
        "\n",
        "The long-form version of the same data might look like this:"
      ],
      "metadata": {
        "id": "30osPPGJuHWU"
      }
    },
    {
      "cell_type": "code",
      "source": [
        "long_form = pd.DataFrame({'Date': ['2007-10-01', '2007-11-01', '2007-12-01',\n",
        "                                   '2007-10-01', '2007-11-01', '2007-12-01',\n",
        "                                   '2007-10-01', '2007-11-01', '2007-12-01'],\n",
        "                          'company': ['AAPL', 'AAPL', 'AAPL',\n",
        "                                      'AMZN', 'AMZN', 'AMZN',\n",
        "                                      'GOOG', 'GOOG', 'GOOG'],\n",
        "                          'price': [189.95, 182.22, 198.08,\n",
        "                                     89.15,  90.56,  92.64,\n",
        "                                    707.00, 693.00, 691.48]})\n",
        "print(long_form)"
      ],
      "metadata": {
        "colab": {
          "base_uri": "https://localhost:8080/"
        },
        "id": "cJwLOzZauKY3",
        "outputId": "105a0a8d-daa6-4fd8-b473-7bd27e7e5cb6"
      },
      "execution_count": 10,
      "outputs": [
        {
          "output_type": "stream",
          "name": "stdout",
          "text": [
            "         Date company   price\n",
            "0  2007-10-01    AAPL  189.95\n",
            "1  2007-11-01    AAPL  182.22\n",
            "2  2007-12-01    AAPL  198.08\n",
            "3  2007-10-01    AMZN   89.15\n",
            "4  2007-11-01    AMZN   90.56\n",
            "5  2007-12-01    AMZN   92.64\n",
            "6  2007-10-01    GOOG  707.00\n",
            "7  2007-11-01    GOOG  693.00\n",
            "8  2007-12-01    GOOG  691.48\n"
          ]
        }
      ]
    },
    {
      "cell_type": "markdown",
      "source": [
        "Notice here that each row contains a single observation (i.e. price), along with the metadata for this observation (the date and company name). Importantly, the column and index labels no longer contain any useful metadata.\n",
        "\n",
        "As mentioned above, Altair works best with this long-form data, because relevant data and metadata are stored within the table itself, rather than within the labels of rows and columns:"
      ],
      "metadata": {
        "id": "OrprG9m6uQc-"
      }
    },
    {
      "cell_type": "code",
      "source": [
        "alt.Chart(long_form).mark_line().encode(\n",
        "  x='Date:T',\n",
        "  y='price:Q',\n",
        "  color='company:N'\n",
        ")"
      ],
      "metadata": {
        "colab": {
          "base_uri": "https://localhost:8080/",
          "height": 424
        },
        "id": "mSQpOLb9uVr5",
        "outputId": "bd36bd75-023f-47f1-d28d-795150fbcdbb"
      },
      "execution_count": 11,
      "outputs": [
        {
          "output_type": "stream",
          "name": "stderr",
          "text": [
            "/usr/local/lib/python3.10/dist-packages/altair/utils/core.py:384: FutureWarning: the convert_dtype parameter is deprecated and will be removed in a future version.  Do ``ser.astype(object).apply()`` instead if you want ``convert_dtype=False``.\n",
            "  col = df[col_name].apply(to_list_if_array, convert_dtype=False)\n"
          ]
        },
        {
          "output_type": "execute_result",
          "data": {
            "text/html": [
              "\n",
              "<div id=\"altair-viz-539754b769654c36aa72f087aeaaad93\"></div>\n",
              "<script type=\"text/javascript\">\n",
              "  var VEGA_DEBUG = (typeof VEGA_DEBUG == \"undefined\") ? {} : VEGA_DEBUG;\n",
              "  (function(spec, embedOpt){\n",
              "    let outputDiv = document.currentScript.previousElementSibling;\n",
              "    if (outputDiv.id !== \"altair-viz-539754b769654c36aa72f087aeaaad93\") {\n",
              "      outputDiv = document.getElementById(\"altair-viz-539754b769654c36aa72f087aeaaad93\");\n",
              "    }\n",
              "    const paths = {\n",
              "      \"vega\": \"https://cdn.jsdelivr.net/npm//vega@5?noext\",\n",
              "      \"vega-lib\": \"https://cdn.jsdelivr.net/npm//vega-lib?noext\",\n",
              "      \"vega-lite\": \"https://cdn.jsdelivr.net/npm//vega-lite@4.17.0?noext\",\n",
              "      \"vega-embed\": \"https://cdn.jsdelivr.net/npm//vega-embed@6?noext\",\n",
              "    };\n",
              "\n",
              "    function maybeLoadScript(lib, version) {\n",
              "      var key = `${lib.replace(\"-\", \"\")}_version`;\n",
              "      return (VEGA_DEBUG[key] == version) ?\n",
              "        Promise.resolve(paths[lib]) :\n",
              "        new Promise(function(resolve, reject) {\n",
              "          var s = document.createElement('script');\n",
              "          document.getElementsByTagName(\"head\")[0].appendChild(s);\n",
              "          s.async = true;\n",
              "          s.onload = () => {\n",
              "            VEGA_DEBUG[key] = version;\n",
              "            return resolve(paths[lib]);\n",
              "          };\n",
              "          s.onerror = () => reject(`Error loading script: ${paths[lib]}`);\n",
              "          s.src = paths[lib];\n",
              "        });\n",
              "    }\n",
              "\n",
              "    function showError(err) {\n",
              "      outputDiv.innerHTML = `<div class=\"error\" style=\"color:red;\">${err}</div>`;\n",
              "      throw err;\n",
              "    }\n",
              "\n",
              "    function displayChart(vegaEmbed) {\n",
              "      vegaEmbed(outputDiv, spec, embedOpt)\n",
              "        .catch(err => showError(`Javascript Error: ${err.message}<br>This usually means there's a typo in your chart specification. See the javascript console for the full traceback.`));\n",
              "    }\n",
              "\n",
              "    if(typeof define === \"function\" && define.amd) {\n",
              "      requirejs.config({paths});\n",
              "      require([\"vega-embed\"], displayChart, err => showError(`Error loading script: ${err.message}`));\n",
              "    } else {\n",
              "      maybeLoadScript(\"vega\", \"5\")\n",
              "        .then(() => maybeLoadScript(\"vega-lite\", \"4.17.0\"))\n",
              "        .then(() => maybeLoadScript(\"vega-embed\", \"6\"))\n",
              "        .catch(showError)\n",
              "        .then(() => displayChart(vegaEmbed));\n",
              "    }\n",
              "  })({\"config\": {\"view\": {\"continuousWidth\": 400, \"continuousHeight\": 300}}, \"data\": {\"name\": \"data-838ec4417e9a8df251f2031a5a48660b\"}, \"mark\": \"line\", \"encoding\": {\"color\": {\"field\": \"company\", \"type\": \"nominal\"}, \"x\": {\"field\": \"Date\", \"type\": \"temporal\"}, \"y\": {\"field\": \"price\", \"type\": \"quantitative\"}}, \"$schema\": \"https://vega.github.io/schema/vega-lite/v4.17.0.json\", \"datasets\": {\"data-838ec4417e9a8df251f2031a5a48660b\": [{\"Date\": \"2007-10-01\", \"company\": \"AAPL\", \"price\": 189.95}, {\"Date\": \"2007-11-01\", \"company\": \"AAPL\", \"price\": 182.22}, {\"Date\": \"2007-12-01\", \"company\": \"AAPL\", \"price\": 198.08}, {\"Date\": \"2007-10-01\", \"company\": \"AMZN\", \"price\": 89.15}, {\"Date\": \"2007-11-01\", \"company\": \"AMZN\", \"price\": 90.56}, {\"Date\": \"2007-12-01\", \"company\": \"AMZN\", \"price\": 92.64}, {\"Date\": \"2007-10-01\", \"company\": \"GOOG\", \"price\": 707.0}, {\"Date\": \"2007-11-01\", \"company\": \"GOOG\", \"price\": 693.0}, {\"Date\": \"2007-12-01\", \"company\": \"GOOG\", \"price\": 691.48}]}}, {\"mode\": \"vega-lite\"});\n",
              "</script>"
            ],
            "text/plain": [
              "alt.Chart(...)"
            ]
          },
          "metadata": {},
          "execution_count": 11
        }
      ]
    },
    {
      "cell_type": "markdown",
      "source": [
        "Wide-form data can be similarly visualized using e.g. layering (see Layered Charts), but it is far less convenient within Altair’s grammar.\n",
        "\n",
        "If you would like to convert data from wide-form to long-form, there are two possible approaches: it can be done as a preprocessing step using pandas, or as a transform step within the chart itself. We will detail to two approaches below."
      ],
      "metadata": {
        "id": "jSnodlUvua2I"
      }
    },
    {
      "cell_type": "markdown",
      "source": [
        "## Converting with pandas\n",
        "This sort of data manipulation can be done as a preprocessing step using pandas, and is discussed in detail in the [Reshaping and Pivot Tables](https://pandas.pydata.org/pandas-docs/stable/user_guide/reshaping.html) section of the pandas documentation.\n",
        "\n",
        "For converting wide-form data to the long-form data used by Altair, the `melt` method of dataframes can be used. The first argument to `melt` is the column or list of columns to treat as index variables; the remaining columns will be combined into an indicator variable and a value variable whose names can be optionally specified:\n",
        "\n"
      ],
      "metadata": {
        "id": "ssBCV_qPubp4"
      }
    },
    {
      "cell_type": "code",
      "source": [
        "wide_form.melt('Date', var_name='company', value_name='price')\n"
      ],
      "metadata": {
        "colab": {
          "base_uri": "https://localhost:8080/",
          "height": 331
        },
        "id": "YG-dvcU6uaiI",
        "outputId": "0a8239bc-4d18-4187-e660-dd800628982a"
      },
      "execution_count": 12,
      "outputs": [
        {
          "output_type": "execute_result",
          "data": {
            "text/plain": [
              "         Date company   price\n",
              "0  2007-10-01    AAPL  189.95\n",
              "1  2007-11-01    AAPL  182.22\n",
              "2  2007-12-01    AAPL  198.08\n",
              "3  2007-10-01    AMZN   89.15\n",
              "4  2007-11-01    AMZN   90.56\n",
              "5  2007-12-01    AMZN   92.64\n",
              "6  2007-10-01    GOOG  707.00\n",
              "7  2007-11-01    GOOG  693.00\n",
              "8  2007-12-01    GOOG  691.48"
            ],
            "text/html": [
              "\n",
              "  <div id=\"df-18d5970f-e7b5-45e7-8f3c-66856d709cb7\" class=\"colab-df-container\">\n",
              "    <div>\n",
              "<style scoped>\n",
              "    .dataframe tbody tr th:only-of-type {\n",
              "        vertical-align: middle;\n",
              "    }\n",
              "\n",
              "    .dataframe tbody tr th {\n",
              "        vertical-align: top;\n",
              "    }\n",
              "\n",
              "    .dataframe thead th {\n",
              "        text-align: right;\n",
              "    }\n",
              "</style>\n",
              "<table border=\"1\" class=\"dataframe\">\n",
              "  <thead>\n",
              "    <tr style=\"text-align: right;\">\n",
              "      <th></th>\n",
              "      <th>Date</th>\n",
              "      <th>company</th>\n",
              "      <th>price</th>\n",
              "    </tr>\n",
              "  </thead>\n",
              "  <tbody>\n",
              "    <tr>\n",
              "      <th>0</th>\n",
              "      <td>2007-10-01</td>\n",
              "      <td>AAPL</td>\n",
              "      <td>189.95</td>\n",
              "    </tr>\n",
              "    <tr>\n",
              "      <th>1</th>\n",
              "      <td>2007-11-01</td>\n",
              "      <td>AAPL</td>\n",
              "      <td>182.22</td>\n",
              "    </tr>\n",
              "    <tr>\n",
              "      <th>2</th>\n",
              "      <td>2007-12-01</td>\n",
              "      <td>AAPL</td>\n",
              "      <td>198.08</td>\n",
              "    </tr>\n",
              "    <tr>\n",
              "      <th>3</th>\n",
              "      <td>2007-10-01</td>\n",
              "      <td>AMZN</td>\n",
              "      <td>89.15</td>\n",
              "    </tr>\n",
              "    <tr>\n",
              "      <th>4</th>\n",
              "      <td>2007-11-01</td>\n",
              "      <td>AMZN</td>\n",
              "      <td>90.56</td>\n",
              "    </tr>\n",
              "    <tr>\n",
              "      <th>5</th>\n",
              "      <td>2007-12-01</td>\n",
              "      <td>AMZN</td>\n",
              "      <td>92.64</td>\n",
              "    </tr>\n",
              "    <tr>\n",
              "      <th>6</th>\n",
              "      <td>2007-10-01</td>\n",
              "      <td>GOOG</td>\n",
              "      <td>707.00</td>\n",
              "    </tr>\n",
              "    <tr>\n",
              "      <th>7</th>\n",
              "      <td>2007-11-01</td>\n",
              "      <td>GOOG</td>\n",
              "      <td>693.00</td>\n",
              "    </tr>\n",
              "    <tr>\n",
              "      <th>8</th>\n",
              "      <td>2007-12-01</td>\n",
              "      <td>GOOG</td>\n",
              "      <td>691.48</td>\n",
              "    </tr>\n",
              "  </tbody>\n",
              "</table>\n",
              "</div>\n",
              "    <div class=\"colab-df-buttons\">\n",
              "\n",
              "  <div class=\"colab-df-container\">\n",
              "    <button class=\"colab-df-convert\" onclick=\"convertToInteractive('df-18d5970f-e7b5-45e7-8f3c-66856d709cb7')\"\n",
              "            title=\"Convert this dataframe to an interactive table.\"\n",
              "            style=\"display:none;\">\n",
              "\n",
              "  <svg xmlns=\"http://www.w3.org/2000/svg\" height=\"24px\" viewBox=\"0 -960 960 960\">\n",
              "    <path d=\"M120-120v-720h720v720H120Zm60-500h600v-160H180v160Zm220 220h160v-160H400v160Zm0 220h160v-160H400v160ZM180-400h160v-160H180v160Zm440 0h160v-160H620v160ZM180-180h160v-160H180v160Zm440 0h160v-160H620v160Z\"/>\n",
              "  </svg>\n",
              "    </button>\n",
              "\n",
              "  <style>\n",
              "    .colab-df-container {\n",
              "      display:flex;\n",
              "      gap: 12px;\n",
              "    }\n",
              "\n",
              "    .colab-df-convert {\n",
              "      background-color: #E8F0FE;\n",
              "      border: none;\n",
              "      border-radius: 50%;\n",
              "      cursor: pointer;\n",
              "      display: none;\n",
              "      fill: #1967D2;\n",
              "      height: 32px;\n",
              "      padding: 0 0 0 0;\n",
              "      width: 32px;\n",
              "    }\n",
              "\n",
              "    .colab-df-convert:hover {\n",
              "      background-color: #E2EBFA;\n",
              "      box-shadow: 0px 1px 2px rgba(60, 64, 67, 0.3), 0px 1px 3px 1px rgba(60, 64, 67, 0.15);\n",
              "      fill: #174EA6;\n",
              "    }\n",
              "\n",
              "    .colab-df-buttons div {\n",
              "      margin-bottom: 4px;\n",
              "    }\n",
              "\n",
              "    [theme=dark] .colab-df-convert {\n",
              "      background-color: #3B4455;\n",
              "      fill: #D2E3FC;\n",
              "    }\n",
              "\n",
              "    [theme=dark] .colab-df-convert:hover {\n",
              "      background-color: #434B5C;\n",
              "      box-shadow: 0px 1px 3px 1px rgba(0, 0, 0, 0.15);\n",
              "      filter: drop-shadow(0px 1px 2px rgba(0, 0, 0, 0.3));\n",
              "      fill: #FFFFFF;\n",
              "    }\n",
              "  </style>\n",
              "\n",
              "    <script>\n",
              "      const buttonEl =\n",
              "        document.querySelector('#df-18d5970f-e7b5-45e7-8f3c-66856d709cb7 button.colab-df-convert');\n",
              "      buttonEl.style.display =\n",
              "        google.colab.kernel.accessAllowed ? 'block' : 'none';\n",
              "\n",
              "      async function convertToInteractive(key) {\n",
              "        const element = document.querySelector('#df-18d5970f-e7b5-45e7-8f3c-66856d709cb7');\n",
              "        const dataTable =\n",
              "          await google.colab.kernel.invokeFunction('convertToInteractive',\n",
              "                                                    [key], {});\n",
              "        if (!dataTable) return;\n",
              "\n",
              "        const docLinkHtml = 'Like what you see? Visit the ' +\n",
              "          '<a target=\"_blank\" href=https://colab.research.google.com/notebooks/data_table.ipynb>data table notebook</a>'\n",
              "          + ' to learn more about interactive tables.';\n",
              "        element.innerHTML = '';\n",
              "        dataTable['output_type'] = 'display_data';\n",
              "        await google.colab.output.renderOutput(dataTable, element);\n",
              "        const docLink = document.createElement('div');\n",
              "        docLink.innerHTML = docLinkHtml;\n",
              "        element.appendChild(docLink);\n",
              "      }\n",
              "    </script>\n",
              "  </div>\n",
              "\n",
              "\n",
              "<div id=\"df-5e498eb7-ffb0-44b3-a096-a8fd1d00bf45\">\n",
              "  <button class=\"colab-df-quickchart\" onclick=\"quickchart('df-5e498eb7-ffb0-44b3-a096-a8fd1d00bf45')\"\n",
              "            title=\"Suggest charts\"\n",
              "            style=\"display:none;\">\n",
              "\n",
              "<svg xmlns=\"http://www.w3.org/2000/svg\" height=\"24px\"viewBox=\"0 0 24 24\"\n",
              "     width=\"24px\">\n",
              "    <g>\n",
              "        <path d=\"M19 3H5c-1.1 0-2 .9-2 2v14c0 1.1.9 2 2 2h14c1.1 0 2-.9 2-2V5c0-1.1-.9-2-2-2zM9 17H7v-7h2v7zm4 0h-2V7h2v10zm4 0h-2v-4h2v4z\"/>\n",
              "    </g>\n",
              "</svg>\n",
              "  </button>\n",
              "\n",
              "<style>\n",
              "  .colab-df-quickchart {\n",
              "      --bg-color: #E8F0FE;\n",
              "      --fill-color: #1967D2;\n",
              "      --hover-bg-color: #E2EBFA;\n",
              "      --hover-fill-color: #174EA6;\n",
              "      --disabled-fill-color: #AAA;\n",
              "      --disabled-bg-color: #DDD;\n",
              "  }\n",
              "\n",
              "  [theme=dark] .colab-df-quickchart {\n",
              "      --bg-color: #3B4455;\n",
              "      --fill-color: #D2E3FC;\n",
              "      --hover-bg-color: #434B5C;\n",
              "      --hover-fill-color: #FFFFFF;\n",
              "      --disabled-bg-color: #3B4455;\n",
              "      --disabled-fill-color: #666;\n",
              "  }\n",
              "\n",
              "  .colab-df-quickchart {\n",
              "    background-color: var(--bg-color);\n",
              "    border: none;\n",
              "    border-radius: 50%;\n",
              "    cursor: pointer;\n",
              "    display: none;\n",
              "    fill: var(--fill-color);\n",
              "    height: 32px;\n",
              "    padding: 0;\n",
              "    width: 32px;\n",
              "  }\n",
              "\n",
              "  .colab-df-quickchart:hover {\n",
              "    background-color: var(--hover-bg-color);\n",
              "    box-shadow: 0 1px 2px rgba(60, 64, 67, 0.3), 0 1px 3px 1px rgba(60, 64, 67, 0.15);\n",
              "    fill: var(--button-hover-fill-color);\n",
              "  }\n",
              "\n",
              "  .colab-df-quickchart-complete:disabled,\n",
              "  .colab-df-quickchart-complete:disabled:hover {\n",
              "    background-color: var(--disabled-bg-color);\n",
              "    fill: var(--disabled-fill-color);\n",
              "    box-shadow: none;\n",
              "  }\n",
              "\n",
              "  .colab-df-spinner {\n",
              "    border: 2px solid var(--fill-color);\n",
              "    border-color: transparent;\n",
              "    border-bottom-color: var(--fill-color);\n",
              "    animation:\n",
              "      spin 1s steps(1) infinite;\n",
              "  }\n",
              "\n",
              "  @keyframes spin {\n",
              "    0% {\n",
              "      border-color: transparent;\n",
              "      border-bottom-color: var(--fill-color);\n",
              "      border-left-color: var(--fill-color);\n",
              "    }\n",
              "    20% {\n",
              "      border-color: transparent;\n",
              "      border-left-color: var(--fill-color);\n",
              "      border-top-color: var(--fill-color);\n",
              "    }\n",
              "    30% {\n",
              "      border-color: transparent;\n",
              "      border-left-color: var(--fill-color);\n",
              "      border-top-color: var(--fill-color);\n",
              "      border-right-color: var(--fill-color);\n",
              "    }\n",
              "    40% {\n",
              "      border-color: transparent;\n",
              "      border-right-color: var(--fill-color);\n",
              "      border-top-color: var(--fill-color);\n",
              "    }\n",
              "    60% {\n",
              "      border-color: transparent;\n",
              "      border-right-color: var(--fill-color);\n",
              "    }\n",
              "    80% {\n",
              "      border-color: transparent;\n",
              "      border-right-color: var(--fill-color);\n",
              "      border-bottom-color: var(--fill-color);\n",
              "    }\n",
              "    90% {\n",
              "      border-color: transparent;\n",
              "      border-bottom-color: var(--fill-color);\n",
              "    }\n",
              "  }\n",
              "</style>\n",
              "\n",
              "  <script>\n",
              "    async function quickchart(key) {\n",
              "      const quickchartButtonEl =\n",
              "        document.querySelector('#' + key + ' button');\n",
              "      quickchartButtonEl.disabled = true;  // To prevent multiple clicks.\n",
              "      quickchartButtonEl.classList.add('colab-df-spinner');\n",
              "      try {\n",
              "        const charts = await google.colab.kernel.invokeFunction(\n",
              "            'suggestCharts', [key], {});\n",
              "      } catch (error) {\n",
              "        console.error('Error during call to suggestCharts:', error);\n",
              "      }\n",
              "      quickchartButtonEl.classList.remove('colab-df-spinner');\n",
              "      quickchartButtonEl.classList.add('colab-df-quickchart-complete');\n",
              "    }\n",
              "    (() => {\n",
              "      let quickchartButtonEl =\n",
              "        document.querySelector('#df-5e498eb7-ffb0-44b3-a096-a8fd1d00bf45 button');\n",
              "      quickchartButtonEl.style.display =\n",
              "        google.colab.kernel.accessAllowed ? 'block' : 'none';\n",
              "    })();\n",
              "  </script>\n",
              "</div>\n",
              "    </div>\n",
              "  </div>\n"
            ],
            "application/vnd.google.colaboratory.intrinsic+json": {
              "type": "dataframe",
              "summary": "{\n  \"name\": \"wide_form\",\n  \"rows\": 9,\n  \"fields\": [\n    {\n      \"column\": \"Date\",\n      \"properties\": {\n        \"dtype\": \"object\",\n        \"num_unique_values\": 3,\n        \"samples\": [\n          \"2007-10-01\",\n          \"2007-11-01\",\n          \"2007-12-01\"\n        ],\n        \"semantic_type\": \"\",\n        \"description\": \"\"\n      }\n    },\n    {\n      \"column\": \"company\",\n      \"properties\": {\n        \"dtype\": \"category\",\n        \"num_unique_values\": 3,\n        \"samples\": [\n          \"AAPL\",\n          \"AMZN\",\n          \"GOOG\"\n        ],\n        \"semantic_type\": \"\",\n        \"description\": \"\"\n      }\n    },\n    {\n      \"column\": \"price\",\n      \"properties\": {\n        \"dtype\": \"number\",\n        \"std\": 281.72643040032847,\n        \"min\": 89.15,\n        \"max\": 707.0,\n        \"num_unique_values\": 9,\n        \"samples\": [\n          693.0,\n          182.22,\n          92.64\n        ],\n        \"semantic_type\": \"\",\n        \"description\": \"\"\n      }\n    }\n  ]\n}"
            }
          },
          "metadata": {},
          "execution_count": 12
        }
      ]
    },
    {
      "cell_type": "markdown",
      "source": [
        "For more information on the `melt` method, see the [pandas melt](https://pandas.pydata.org/pandas-docs/stable/reference/api/pandas.DataFrame.melt.html) documentation.\n",
        "\n",
        "In case you would like to undo this operation and convert from long-form back to wide-form, the pivot method of dataframes is useful.\n",
        "\n",
        "\n",
        "\n",
        "\n"
      ],
      "metadata": {
        "id": "XQyU9lCru37V"
      }
    },
    {
      "cell_type": "code",
      "source": [
        "long_form.pivot(index='Date', columns='company', values='price').reset_index()"
      ],
      "metadata": {
        "colab": {
          "base_uri": "https://localhost:8080/",
          "height": 143
        },
        "id": "Zov4MtQDvv7n",
        "outputId": "1421bf27-cce1-4583-a14d-0d407701c6d2"
      },
      "execution_count": 13,
      "outputs": [
        {
          "output_type": "execute_result",
          "data": {
            "text/plain": [
              "company        Date    AAPL   AMZN    GOOG\n",
              "0        2007-10-01  189.95  89.15  707.00\n",
              "1        2007-11-01  182.22  90.56  693.00\n",
              "2        2007-12-01  198.08  92.64  691.48"
            ],
            "text/html": [
              "\n",
              "  <div id=\"df-76b13240-ed85-4e98-8e2a-dd4fc627d350\" class=\"colab-df-container\">\n",
              "    <div>\n",
              "<style scoped>\n",
              "    .dataframe tbody tr th:only-of-type {\n",
              "        vertical-align: middle;\n",
              "    }\n",
              "\n",
              "    .dataframe tbody tr th {\n",
              "        vertical-align: top;\n",
              "    }\n",
              "\n",
              "    .dataframe thead th {\n",
              "        text-align: right;\n",
              "    }\n",
              "</style>\n",
              "<table border=\"1\" class=\"dataframe\">\n",
              "  <thead>\n",
              "    <tr style=\"text-align: right;\">\n",
              "      <th>company</th>\n",
              "      <th>Date</th>\n",
              "      <th>AAPL</th>\n",
              "      <th>AMZN</th>\n",
              "      <th>GOOG</th>\n",
              "    </tr>\n",
              "  </thead>\n",
              "  <tbody>\n",
              "    <tr>\n",
              "      <th>0</th>\n",
              "      <td>2007-10-01</td>\n",
              "      <td>189.95</td>\n",
              "      <td>89.15</td>\n",
              "      <td>707.00</td>\n",
              "    </tr>\n",
              "    <tr>\n",
              "      <th>1</th>\n",
              "      <td>2007-11-01</td>\n",
              "      <td>182.22</td>\n",
              "      <td>90.56</td>\n",
              "      <td>693.00</td>\n",
              "    </tr>\n",
              "    <tr>\n",
              "      <th>2</th>\n",
              "      <td>2007-12-01</td>\n",
              "      <td>198.08</td>\n",
              "      <td>92.64</td>\n",
              "      <td>691.48</td>\n",
              "    </tr>\n",
              "  </tbody>\n",
              "</table>\n",
              "</div>\n",
              "    <div class=\"colab-df-buttons\">\n",
              "\n",
              "  <div class=\"colab-df-container\">\n",
              "    <button class=\"colab-df-convert\" onclick=\"convertToInteractive('df-76b13240-ed85-4e98-8e2a-dd4fc627d350')\"\n",
              "            title=\"Convert this dataframe to an interactive table.\"\n",
              "            style=\"display:none;\">\n",
              "\n",
              "  <svg xmlns=\"http://www.w3.org/2000/svg\" height=\"24px\" viewBox=\"0 -960 960 960\">\n",
              "    <path d=\"M120-120v-720h720v720H120Zm60-500h600v-160H180v160Zm220 220h160v-160H400v160Zm0 220h160v-160H400v160ZM180-400h160v-160H180v160Zm440 0h160v-160H620v160ZM180-180h160v-160H180v160Zm440 0h160v-160H620v160Z\"/>\n",
              "  </svg>\n",
              "    </button>\n",
              "\n",
              "  <style>\n",
              "    .colab-df-container {\n",
              "      display:flex;\n",
              "      gap: 12px;\n",
              "    }\n",
              "\n",
              "    .colab-df-convert {\n",
              "      background-color: #E8F0FE;\n",
              "      border: none;\n",
              "      border-radius: 50%;\n",
              "      cursor: pointer;\n",
              "      display: none;\n",
              "      fill: #1967D2;\n",
              "      height: 32px;\n",
              "      padding: 0 0 0 0;\n",
              "      width: 32px;\n",
              "    }\n",
              "\n",
              "    .colab-df-convert:hover {\n",
              "      background-color: #E2EBFA;\n",
              "      box-shadow: 0px 1px 2px rgba(60, 64, 67, 0.3), 0px 1px 3px 1px rgba(60, 64, 67, 0.15);\n",
              "      fill: #174EA6;\n",
              "    }\n",
              "\n",
              "    .colab-df-buttons div {\n",
              "      margin-bottom: 4px;\n",
              "    }\n",
              "\n",
              "    [theme=dark] .colab-df-convert {\n",
              "      background-color: #3B4455;\n",
              "      fill: #D2E3FC;\n",
              "    }\n",
              "\n",
              "    [theme=dark] .colab-df-convert:hover {\n",
              "      background-color: #434B5C;\n",
              "      box-shadow: 0px 1px 3px 1px rgba(0, 0, 0, 0.15);\n",
              "      filter: drop-shadow(0px 1px 2px rgba(0, 0, 0, 0.3));\n",
              "      fill: #FFFFFF;\n",
              "    }\n",
              "  </style>\n",
              "\n",
              "    <script>\n",
              "      const buttonEl =\n",
              "        document.querySelector('#df-76b13240-ed85-4e98-8e2a-dd4fc627d350 button.colab-df-convert');\n",
              "      buttonEl.style.display =\n",
              "        google.colab.kernel.accessAllowed ? 'block' : 'none';\n",
              "\n",
              "      async function convertToInteractive(key) {\n",
              "        const element = document.querySelector('#df-76b13240-ed85-4e98-8e2a-dd4fc627d350');\n",
              "        const dataTable =\n",
              "          await google.colab.kernel.invokeFunction('convertToInteractive',\n",
              "                                                    [key], {});\n",
              "        if (!dataTable) return;\n",
              "\n",
              "        const docLinkHtml = 'Like what you see? Visit the ' +\n",
              "          '<a target=\"_blank\" href=https://colab.research.google.com/notebooks/data_table.ipynb>data table notebook</a>'\n",
              "          + ' to learn more about interactive tables.';\n",
              "        element.innerHTML = '';\n",
              "        dataTable['output_type'] = 'display_data';\n",
              "        await google.colab.output.renderOutput(dataTable, element);\n",
              "        const docLink = document.createElement('div');\n",
              "        docLink.innerHTML = docLinkHtml;\n",
              "        element.appendChild(docLink);\n",
              "      }\n",
              "    </script>\n",
              "  </div>\n",
              "\n",
              "\n",
              "<div id=\"df-19a05fda-dec7-447f-b4b9-6956b7c3e3c5\">\n",
              "  <button class=\"colab-df-quickchart\" onclick=\"quickchart('df-19a05fda-dec7-447f-b4b9-6956b7c3e3c5')\"\n",
              "            title=\"Suggest charts\"\n",
              "            style=\"display:none;\">\n",
              "\n",
              "<svg xmlns=\"http://www.w3.org/2000/svg\" height=\"24px\"viewBox=\"0 0 24 24\"\n",
              "     width=\"24px\">\n",
              "    <g>\n",
              "        <path d=\"M19 3H5c-1.1 0-2 .9-2 2v14c0 1.1.9 2 2 2h14c1.1 0 2-.9 2-2V5c0-1.1-.9-2-2-2zM9 17H7v-7h2v7zm4 0h-2V7h2v10zm4 0h-2v-4h2v4z\"/>\n",
              "    </g>\n",
              "</svg>\n",
              "  </button>\n",
              "\n",
              "<style>\n",
              "  .colab-df-quickchart {\n",
              "      --bg-color: #E8F0FE;\n",
              "      --fill-color: #1967D2;\n",
              "      --hover-bg-color: #E2EBFA;\n",
              "      --hover-fill-color: #174EA6;\n",
              "      --disabled-fill-color: #AAA;\n",
              "      --disabled-bg-color: #DDD;\n",
              "  }\n",
              "\n",
              "  [theme=dark] .colab-df-quickchart {\n",
              "      --bg-color: #3B4455;\n",
              "      --fill-color: #D2E3FC;\n",
              "      --hover-bg-color: #434B5C;\n",
              "      --hover-fill-color: #FFFFFF;\n",
              "      --disabled-bg-color: #3B4455;\n",
              "      --disabled-fill-color: #666;\n",
              "  }\n",
              "\n",
              "  .colab-df-quickchart {\n",
              "    background-color: var(--bg-color);\n",
              "    border: none;\n",
              "    border-radius: 50%;\n",
              "    cursor: pointer;\n",
              "    display: none;\n",
              "    fill: var(--fill-color);\n",
              "    height: 32px;\n",
              "    padding: 0;\n",
              "    width: 32px;\n",
              "  }\n",
              "\n",
              "  .colab-df-quickchart:hover {\n",
              "    background-color: var(--hover-bg-color);\n",
              "    box-shadow: 0 1px 2px rgba(60, 64, 67, 0.3), 0 1px 3px 1px rgba(60, 64, 67, 0.15);\n",
              "    fill: var(--button-hover-fill-color);\n",
              "  }\n",
              "\n",
              "  .colab-df-quickchart-complete:disabled,\n",
              "  .colab-df-quickchart-complete:disabled:hover {\n",
              "    background-color: var(--disabled-bg-color);\n",
              "    fill: var(--disabled-fill-color);\n",
              "    box-shadow: none;\n",
              "  }\n",
              "\n",
              "  .colab-df-spinner {\n",
              "    border: 2px solid var(--fill-color);\n",
              "    border-color: transparent;\n",
              "    border-bottom-color: var(--fill-color);\n",
              "    animation:\n",
              "      spin 1s steps(1) infinite;\n",
              "  }\n",
              "\n",
              "  @keyframes spin {\n",
              "    0% {\n",
              "      border-color: transparent;\n",
              "      border-bottom-color: var(--fill-color);\n",
              "      border-left-color: var(--fill-color);\n",
              "    }\n",
              "    20% {\n",
              "      border-color: transparent;\n",
              "      border-left-color: var(--fill-color);\n",
              "      border-top-color: var(--fill-color);\n",
              "    }\n",
              "    30% {\n",
              "      border-color: transparent;\n",
              "      border-left-color: var(--fill-color);\n",
              "      border-top-color: var(--fill-color);\n",
              "      border-right-color: var(--fill-color);\n",
              "    }\n",
              "    40% {\n",
              "      border-color: transparent;\n",
              "      border-right-color: var(--fill-color);\n",
              "      border-top-color: var(--fill-color);\n",
              "    }\n",
              "    60% {\n",
              "      border-color: transparent;\n",
              "      border-right-color: var(--fill-color);\n",
              "    }\n",
              "    80% {\n",
              "      border-color: transparent;\n",
              "      border-right-color: var(--fill-color);\n",
              "      border-bottom-color: var(--fill-color);\n",
              "    }\n",
              "    90% {\n",
              "      border-color: transparent;\n",
              "      border-bottom-color: var(--fill-color);\n",
              "    }\n",
              "  }\n",
              "</style>\n",
              "\n",
              "  <script>\n",
              "    async function quickchart(key) {\n",
              "      const quickchartButtonEl =\n",
              "        document.querySelector('#' + key + ' button');\n",
              "      quickchartButtonEl.disabled = true;  // To prevent multiple clicks.\n",
              "      quickchartButtonEl.classList.add('colab-df-spinner');\n",
              "      try {\n",
              "        const charts = await google.colab.kernel.invokeFunction(\n",
              "            'suggestCharts', [key], {});\n",
              "      } catch (error) {\n",
              "        console.error('Error during call to suggestCharts:', error);\n",
              "      }\n",
              "      quickchartButtonEl.classList.remove('colab-df-spinner');\n",
              "      quickchartButtonEl.classList.add('colab-df-quickchart-complete');\n",
              "    }\n",
              "    (() => {\n",
              "      let quickchartButtonEl =\n",
              "        document.querySelector('#df-19a05fda-dec7-447f-b4b9-6956b7c3e3c5 button');\n",
              "      quickchartButtonEl.style.display =\n",
              "        google.colab.kernel.accessAllowed ? 'block' : 'none';\n",
              "    })();\n",
              "  </script>\n",
              "</div>\n",
              "    </div>\n",
              "  </div>\n"
            ],
            "application/vnd.google.colaboratory.intrinsic+json": {
              "type": "dataframe",
              "summary": "{\n  \"name\": \"long_form\",\n  \"rows\": 3,\n  \"fields\": [\n    {\n      \"column\": \"Date\",\n      \"properties\": {\n        \"dtype\": \"object\",\n        \"num_unique_values\": 3,\n        \"samples\": [\n          \"2007-10-01\",\n          \"2007-11-01\",\n          \"2007-12-01\"\n        ],\n        \"semantic_type\": \"\",\n        \"description\": \"\"\n      }\n    },\n    {\n      \"column\": \"AAPL\",\n      \"properties\": {\n        \"dtype\": \"number\",\n        \"std\": 7.9308406448076765,\n        \"min\": 182.22,\n        \"max\": 198.08,\n        \"num_unique_values\": 3,\n        \"samples\": [\n          189.95,\n          182.22,\n          198.08\n        ],\n        \"semantic_type\": \"\",\n        \"description\": \"\"\n      }\n    },\n    {\n      \"column\": \"AMZN\",\n      \"properties\": {\n        \"dtype\": \"number\",\n        \"std\": 1.7556860007795598,\n        \"min\": 89.15,\n        \"max\": 92.64,\n        \"num_unique_values\": 3,\n        \"samples\": [\n          89.15,\n          90.56,\n          92.64\n        ],\n        \"semantic_type\": \"\",\n        \"description\": \"\"\n      }\n    },\n    {\n      \"column\": \"GOOG\",\n      \"properties\": {\n        \"dtype\": \"number\",\n        \"std\": 8.555512842606216,\n        \"min\": 691.48,\n        \"max\": 707.0,\n        \"num_unique_values\": 3,\n        \"samples\": [\n          707.0,\n          693.0,\n          691.48\n        ],\n        \"semantic_type\": \"\",\n        \"description\": \"\"\n      }\n    }\n  ]\n}"
            }
          },
          "metadata": {},
          "execution_count": 13
        }
      ]
    },
    {
      "cell_type": "markdown",
      "source": [
        "For more information on the `pivot` method, see the pandas [pivot](https://pandas.pydata.org/pandas-docs/stable/reference/api/pandas.DataFrame.pivot.html) documentation."
      ],
      "metadata": {
        "id": "eZsaXZq2wOdQ"
      }
    },
    {
      "cell_type": "markdown",
      "source": [
        "## Data Transformation"
      ],
      "metadata": {
        "id": "2AemHWi8xevK"
      }
    },
    {
      "cell_type": "code",
      "source": [
        "# Note that the following generator is functionally similar to\n",
        "# data = pd.DataFrame({'x': np.arange(0, 10, 0.1)})\n",
        "data = pd.DataFrame({'x': np.arange(0, 10, 0.1)})\n",
        "\n",
        "alt.Chart(data).transform_calculate(\n",
        "    y='sin(datum.x)'\n",
        ").mark_line().encode(\n",
        "    x='x:Q',\n",
        "    y='y:Q',\n",
        ")"
      ],
      "metadata": {
        "colab": {
          "base_uri": "https://localhost:8080/",
          "height": 368
        },
        "id": "FvD1Ypvdw6xo",
        "outputId": "d6011134-f26e-496a-e3f9-9d2602c4a2e8"
      },
      "execution_count": 18,
      "outputs": [
        {
          "output_type": "execute_result",
          "data": {
            "text/html": [
              "\n",
              "<div id=\"altair-viz-a51931f2fd174517b352c81cf5b56ead\"></div>\n",
              "<script type=\"text/javascript\">\n",
              "  var VEGA_DEBUG = (typeof VEGA_DEBUG == \"undefined\") ? {} : VEGA_DEBUG;\n",
              "  (function(spec, embedOpt){\n",
              "    let outputDiv = document.currentScript.previousElementSibling;\n",
              "    if (outputDiv.id !== \"altair-viz-a51931f2fd174517b352c81cf5b56ead\") {\n",
              "      outputDiv = document.getElementById(\"altair-viz-a51931f2fd174517b352c81cf5b56ead\");\n",
              "    }\n",
              "    const paths = {\n",
              "      \"vega\": \"https://cdn.jsdelivr.net/npm//vega@5?noext\",\n",
              "      \"vega-lib\": \"https://cdn.jsdelivr.net/npm//vega-lib?noext\",\n",
              "      \"vega-lite\": \"https://cdn.jsdelivr.net/npm//vega-lite@4.17.0?noext\",\n",
              "      \"vega-embed\": \"https://cdn.jsdelivr.net/npm//vega-embed@6?noext\",\n",
              "    };\n",
              "\n",
              "    function maybeLoadScript(lib, version) {\n",
              "      var key = `${lib.replace(\"-\", \"\")}_version`;\n",
              "      return (VEGA_DEBUG[key] == version) ?\n",
              "        Promise.resolve(paths[lib]) :\n",
              "        new Promise(function(resolve, reject) {\n",
              "          var s = document.createElement('script');\n",
              "          document.getElementsByTagName(\"head\")[0].appendChild(s);\n",
              "          s.async = true;\n",
              "          s.onload = () => {\n",
              "            VEGA_DEBUG[key] = version;\n",
              "            return resolve(paths[lib]);\n",
              "          };\n",
              "          s.onerror = () => reject(`Error loading script: ${paths[lib]}`);\n",
              "          s.src = paths[lib];\n",
              "        });\n",
              "    }\n",
              "\n",
              "    function showError(err) {\n",
              "      outputDiv.innerHTML = `<div class=\"error\" style=\"color:red;\">${err}</div>`;\n",
              "      throw err;\n",
              "    }\n",
              "\n",
              "    function displayChart(vegaEmbed) {\n",
              "      vegaEmbed(outputDiv, spec, embedOpt)\n",
              "        .catch(err => showError(`Javascript Error: ${err.message}<br>This usually means there's a typo in your chart specification. See the javascript console for the full traceback.`));\n",
              "    }\n",
              "\n",
              "    if(typeof define === \"function\" && define.amd) {\n",
              "      requirejs.config({paths});\n",
              "      require([\"vega-embed\"], displayChart, err => showError(`Error loading script: ${err.message}`));\n",
              "    } else {\n",
              "      maybeLoadScript(\"vega\", \"5\")\n",
              "        .then(() => maybeLoadScript(\"vega-lite\", \"4.17.0\"))\n",
              "        .then(() => maybeLoadScript(\"vega-embed\", \"6\"))\n",
              "        .catch(showError)\n",
              "        .then(() => displayChart(vegaEmbed));\n",
              "    }\n",
              "  })({\"config\": {\"view\": {\"continuousWidth\": 400, \"continuousHeight\": 300}}, \"data\": {\"name\": \"data-dd5fbeb0562b5fc96705675c393c070d\"}, \"mark\": \"line\", \"encoding\": {\"x\": {\"field\": \"x\", \"type\": \"quantitative\"}, \"y\": {\"field\": \"y\", \"type\": \"quantitative\"}}, \"transform\": [{\"calculate\": \"sin(datum.x)\", \"as\": \"y\"}], \"$schema\": \"https://vega.github.io/schema/vega-lite/v4.17.0.json\", \"datasets\": {\"data-dd5fbeb0562b5fc96705675c393c070d\": [{\"x\": 0.0}, {\"x\": 0.1}, {\"x\": 0.2}, {\"x\": 0.30000000000000004}, {\"x\": 0.4}, {\"x\": 0.5}, {\"x\": 0.6000000000000001}, {\"x\": 0.7000000000000001}, {\"x\": 0.8}, {\"x\": 0.9}, {\"x\": 1.0}, {\"x\": 1.1}, {\"x\": 1.2000000000000002}, {\"x\": 1.3}, {\"x\": 1.4000000000000001}, {\"x\": 1.5}, {\"x\": 1.6}, {\"x\": 1.7000000000000002}, {\"x\": 1.8}, {\"x\": 1.9000000000000001}, {\"x\": 2.0}, {\"x\": 2.1}, {\"x\": 2.2}, {\"x\": 2.3000000000000003}, {\"x\": 2.4000000000000004}, {\"x\": 2.5}, {\"x\": 2.6}, {\"x\": 2.7}, {\"x\": 2.8000000000000003}, {\"x\": 2.9000000000000004}, {\"x\": 3.0}, {\"x\": 3.1}, {\"x\": 3.2}, {\"x\": 3.3000000000000003}, {\"x\": 3.4000000000000004}, {\"x\": 3.5}, {\"x\": 3.6}, {\"x\": 3.7}, {\"x\": 3.8000000000000003}, {\"x\": 3.9000000000000004}, {\"x\": 4.0}, {\"x\": 4.1000000000000005}, {\"x\": 4.2}, {\"x\": 4.3}, {\"x\": 4.4}, {\"x\": 4.5}, {\"x\": 4.6000000000000005}, {\"x\": 4.7}, {\"x\": 4.800000000000001}, {\"x\": 4.9}, {\"x\": 5.0}, {\"x\": 5.1000000000000005}, {\"x\": 5.2}, {\"x\": 5.300000000000001}, {\"x\": 5.4}, {\"x\": 5.5}, {\"x\": 5.6000000000000005}, {\"x\": 5.7}, {\"x\": 5.800000000000001}, {\"x\": 5.9}, {\"x\": 6.0}, {\"x\": 6.1000000000000005}, {\"x\": 6.2}, {\"x\": 6.300000000000001}, {\"x\": 6.4}, {\"x\": 6.5}, {\"x\": 6.6000000000000005}, {\"x\": 6.7}, {\"x\": 6.800000000000001}, {\"x\": 6.9}, {\"x\": 7.0}, {\"x\": 7.1000000000000005}, {\"x\": 7.2}, {\"x\": 7.300000000000001}, {\"x\": 7.4}, {\"x\": 7.5}, {\"x\": 7.6000000000000005}, {\"x\": 7.7}, {\"x\": 7.800000000000001}, {\"x\": 7.9}, {\"x\": 8.0}, {\"x\": 8.1}, {\"x\": 8.200000000000001}, {\"x\": 8.3}, {\"x\": 8.4}, {\"x\": 8.5}, {\"x\": 8.6}, {\"x\": 8.700000000000001}, {\"x\": 8.8}, {\"x\": 8.9}, {\"x\": 9.0}, {\"x\": 9.1}, {\"x\": 9.200000000000001}, {\"x\": 9.3}, {\"x\": 9.4}, {\"x\": 9.5}, {\"x\": 9.600000000000001}, {\"x\": 9.700000000000001}, {\"x\": 9.8}, {\"x\": 9.9}]}}, {\"mode\": \"vega-lite\"});\n",
              "</script>"
            ],
            "text/plain": [
              "alt.Chart(...)"
            ]
          },
          "metadata": {},
          "execution_count": 18
        }
      ]
    },
    {
      "cell_type": "markdown",
      "source": [
        "\n",
        "\n",
        "\n"
      ],
      "metadata": {
        "id": "l25d0x8Qwz8F"
      }
    }
  ]
}